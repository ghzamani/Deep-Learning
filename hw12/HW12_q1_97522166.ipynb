{
  "nbformat": 4,
  "nbformat_minor": 0,
  "metadata": {
    "colab": {
      "name": "DL-HW12-q1.ipynb",
      "provenance": [],
      "collapsed_sections": []
    },
    "kernelspec": {
      "name": "python3",
      "display_name": "Python 3"
    },
    "language_info": {
      "name": "python"
    }
  },
  "cells": [
    {
      "cell_type": "code",
      "execution_count": null,
      "metadata": {
        "colab": {
          "base_uri": "https://localhost:8080/"
        },
        "id": "FUWlKu2Q5Kfi",
        "outputId": "5a6a8d7e-7dcf-4a93-d460-7193d7767d84"
      },
      "outputs": [
        {
          "output_type": "stream",
          "name": "stdout",
          "text": [
            "Collecting yfinance\n",
            "  Downloading yfinance-0.1.67-py2.py3-none-any.whl (25 kB)\n",
            "Requirement already satisfied: numpy>=1.15 in /usr/local/lib/python3.7/dist-packages (from yfinance) (1.19.5)\n",
            "Requirement already satisfied: requests>=2.20 in /usr/local/lib/python3.7/dist-packages (from yfinance) (2.23.0)\n",
            "Requirement already satisfied: pandas>=0.24 in /usr/local/lib/python3.7/dist-packages (from yfinance) (1.1.5)\n",
            "Requirement already satisfied: multitasking>=0.0.7 in /usr/local/lib/python3.7/dist-packages (from yfinance) (0.0.10)\n",
            "Collecting lxml>=4.5.1\n",
            "  Downloading lxml-4.7.1-cp37-cp37m-manylinux_2_17_x86_64.manylinux2014_x86_64.manylinux_2_24_x86_64.whl (6.4 MB)\n",
            "\u001b[K     |████████████████████████████████| 6.4 MB 18.0 MB/s \n",
            "\u001b[?25hRequirement already satisfied: python-dateutil>=2.7.3 in /usr/local/lib/python3.7/dist-packages (from pandas>=0.24->yfinance) (2.8.2)\n",
            "Requirement already satisfied: pytz>=2017.2 in /usr/local/lib/python3.7/dist-packages (from pandas>=0.24->yfinance) (2018.9)\n",
            "Requirement already satisfied: six>=1.5 in /usr/local/lib/python3.7/dist-packages (from python-dateutil>=2.7.3->pandas>=0.24->yfinance) (1.15.0)\n",
            "Requirement already satisfied: chardet<4,>=3.0.2 in /usr/local/lib/python3.7/dist-packages (from requests>=2.20->yfinance) (3.0.4)\n",
            "Requirement already satisfied: certifi>=2017.4.17 in /usr/local/lib/python3.7/dist-packages (from requests>=2.20->yfinance) (2021.10.8)\n",
            "Requirement already satisfied: idna<3,>=2.5 in /usr/local/lib/python3.7/dist-packages (from requests>=2.20->yfinance) (2.10)\n",
            "Requirement already satisfied: urllib3!=1.25.0,!=1.25.1,<1.26,>=1.21.1 in /usr/local/lib/python3.7/dist-packages (from requests>=2.20->yfinance) (1.24.3)\n",
            "Installing collected packages: lxml, yfinance\n",
            "  Attempting uninstall: lxml\n",
            "    Found existing installation: lxml 4.2.6\n",
            "    Uninstalling lxml-4.2.6:\n",
            "      Successfully uninstalled lxml-4.2.6\n",
            "Successfully installed lxml-4.7.1 yfinance-0.1.67\n"
          ]
        }
      ],
      "source": [
        "!pip install yfinance"
      ]
    },
    {
      "cell_type": "code",
      "source": [
        "import yfinance as yf\n",
        "import datetime \n",
        "import pandas as pd\n",
        "\n",
        "start_train = datetime.datetime(2014,1,1) \n",
        "end_train = datetime.datetime(2021,9,1) \n",
        "\n",
        "# type: data frame\n",
        "train_data = yf.download(tickers='BTC-USD', start=start_train, end=end_train)"
      ],
      "metadata": {
        "colab": {
          "base_uri": "https://localhost:8080/"
        },
        "id": "U7MS7vxY5wQl",
        "outputId": "e7642ed3-84fc-418d-972d-e7bb637f43b6"
      },
      "execution_count": null,
      "outputs": [
        {
          "output_type": "stream",
          "name": "stdout",
          "text": [
            "\r[*********************100%***********************]  1 of 1 completed\n"
          ]
        }
      ]
    },
    {
      "cell_type": "code",
      "source": [
        "test_data = yf.download(tickers='BTC-USD', start=end_train)"
      ],
      "metadata": {
        "colab": {
          "base_uri": "https://localhost:8080/"
        },
        "id": "-bRk9nFc4YVM",
        "outputId": "d6643241-f003-428d-947d-22865c763736"
      },
      "execution_count": null,
      "outputs": [
        {
          "output_type": "stream",
          "name": "stdout",
          "text": [
            "\r[*********************100%***********************]  1 of 1 completed\n"
          ]
        }
      ]
    },
    {
      "cell_type": "code",
      "source": [
        "train_data.head()"
      ],
      "metadata": {
        "colab": {
          "base_uri": "https://localhost:8080/",
          "height": 237
        },
        "id": "LBiM81ae9irf",
        "outputId": "13746152-0cff-4fc0-9c30-593695bec416"
      },
      "execution_count": null,
      "outputs": [
        {
          "output_type": "execute_result",
          "data": {
            "text/html": [
              "\n",
              "  <div id=\"df-9fe12ce7-a921-4880-8902-0a500e70a9b3\">\n",
              "    <div class=\"colab-df-container\">\n",
              "      <div>\n",
              "<style scoped>\n",
              "    .dataframe tbody tr th:only-of-type {\n",
              "        vertical-align: middle;\n",
              "    }\n",
              "\n",
              "    .dataframe tbody tr th {\n",
              "        vertical-align: top;\n",
              "    }\n",
              "\n",
              "    .dataframe thead th {\n",
              "        text-align: right;\n",
              "    }\n",
              "</style>\n",
              "<table border=\"1\" class=\"dataframe\">\n",
              "  <thead>\n",
              "    <tr style=\"text-align: right;\">\n",
              "      <th></th>\n",
              "      <th>Open</th>\n",
              "      <th>High</th>\n",
              "      <th>Low</th>\n",
              "      <th>Close</th>\n",
              "      <th>Adj Close</th>\n",
              "      <th>Volume</th>\n",
              "    </tr>\n",
              "    <tr>\n",
              "      <th>Date</th>\n",
              "      <th></th>\n",
              "      <th></th>\n",
              "      <th></th>\n",
              "      <th></th>\n",
              "      <th></th>\n",
              "      <th></th>\n",
              "    </tr>\n",
              "  </thead>\n",
              "  <tbody>\n",
              "    <tr>\n",
              "      <th>2014-09-17</th>\n",
              "      <td>465.864014</td>\n",
              "      <td>468.174011</td>\n",
              "      <td>452.421997</td>\n",
              "      <td>457.334015</td>\n",
              "      <td>457.334015</td>\n",
              "      <td>21056800</td>\n",
              "    </tr>\n",
              "    <tr>\n",
              "      <th>2014-09-18</th>\n",
              "      <td>456.859985</td>\n",
              "      <td>456.859985</td>\n",
              "      <td>413.104004</td>\n",
              "      <td>424.440002</td>\n",
              "      <td>424.440002</td>\n",
              "      <td>34483200</td>\n",
              "    </tr>\n",
              "    <tr>\n",
              "      <th>2014-09-19</th>\n",
              "      <td>424.102997</td>\n",
              "      <td>427.834991</td>\n",
              "      <td>384.532013</td>\n",
              "      <td>394.795990</td>\n",
              "      <td>394.795990</td>\n",
              "      <td>37919700</td>\n",
              "    </tr>\n",
              "    <tr>\n",
              "      <th>2014-09-20</th>\n",
              "      <td>394.673004</td>\n",
              "      <td>423.295990</td>\n",
              "      <td>389.882996</td>\n",
              "      <td>408.903992</td>\n",
              "      <td>408.903992</td>\n",
              "      <td>36863600</td>\n",
              "    </tr>\n",
              "    <tr>\n",
              "      <th>2014-09-21</th>\n",
              "      <td>408.084991</td>\n",
              "      <td>412.425995</td>\n",
              "      <td>393.181000</td>\n",
              "      <td>398.821014</td>\n",
              "      <td>398.821014</td>\n",
              "      <td>26580100</td>\n",
              "    </tr>\n",
              "  </tbody>\n",
              "</table>\n",
              "</div>\n",
              "      <button class=\"colab-df-convert\" onclick=\"convertToInteractive('df-9fe12ce7-a921-4880-8902-0a500e70a9b3')\"\n",
              "              title=\"Convert this dataframe to an interactive table.\"\n",
              "              style=\"display:none;\">\n",
              "        \n",
              "  <svg xmlns=\"http://www.w3.org/2000/svg\" height=\"24px\"viewBox=\"0 0 24 24\"\n",
              "       width=\"24px\">\n",
              "    <path d=\"M0 0h24v24H0V0z\" fill=\"none\"/>\n",
              "    <path d=\"M18.56 5.44l.94 2.06.94-2.06 2.06-.94-2.06-.94-.94-2.06-.94 2.06-2.06.94zm-11 1L8.5 8.5l.94-2.06 2.06-.94-2.06-.94L8.5 2.5l-.94 2.06-2.06.94zm10 10l.94 2.06.94-2.06 2.06-.94-2.06-.94-.94-2.06-.94 2.06-2.06.94z\"/><path d=\"M17.41 7.96l-1.37-1.37c-.4-.4-.92-.59-1.43-.59-.52 0-1.04.2-1.43.59L10.3 9.45l-7.72 7.72c-.78.78-.78 2.05 0 2.83L4 21.41c.39.39.9.59 1.41.59.51 0 1.02-.2 1.41-.59l7.78-7.78 2.81-2.81c.8-.78.8-2.07 0-2.86zM5.41 20L4 18.59l7.72-7.72 1.47 1.35L5.41 20z\"/>\n",
              "  </svg>\n",
              "      </button>\n",
              "      \n",
              "  <style>\n",
              "    .colab-df-container {\n",
              "      display:flex;\n",
              "      flex-wrap:wrap;\n",
              "      gap: 12px;\n",
              "    }\n",
              "\n",
              "    .colab-df-convert {\n",
              "      background-color: #E8F0FE;\n",
              "      border: none;\n",
              "      border-radius: 50%;\n",
              "      cursor: pointer;\n",
              "      display: none;\n",
              "      fill: #1967D2;\n",
              "      height: 32px;\n",
              "      padding: 0 0 0 0;\n",
              "      width: 32px;\n",
              "    }\n",
              "\n",
              "    .colab-df-convert:hover {\n",
              "      background-color: #E2EBFA;\n",
              "      box-shadow: 0px 1px 2px rgba(60, 64, 67, 0.3), 0px 1px 3px 1px rgba(60, 64, 67, 0.15);\n",
              "      fill: #174EA6;\n",
              "    }\n",
              "\n",
              "    [theme=dark] .colab-df-convert {\n",
              "      background-color: #3B4455;\n",
              "      fill: #D2E3FC;\n",
              "    }\n",
              "\n",
              "    [theme=dark] .colab-df-convert:hover {\n",
              "      background-color: #434B5C;\n",
              "      box-shadow: 0px 1px 3px 1px rgba(0, 0, 0, 0.15);\n",
              "      filter: drop-shadow(0px 1px 2px rgba(0, 0, 0, 0.3));\n",
              "      fill: #FFFFFF;\n",
              "    }\n",
              "  </style>\n",
              "\n",
              "      <script>\n",
              "        const buttonEl =\n",
              "          document.querySelector('#df-9fe12ce7-a921-4880-8902-0a500e70a9b3 button.colab-df-convert');\n",
              "        buttonEl.style.display =\n",
              "          google.colab.kernel.accessAllowed ? 'block' : 'none';\n",
              "\n",
              "        async function convertToInteractive(key) {\n",
              "          const element = document.querySelector('#df-9fe12ce7-a921-4880-8902-0a500e70a9b3');\n",
              "          const dataTable =\n",
              "            await google.colab.kernel.invokeFunction('convertToInteractive',\n",
              "                                                     [key], {});\n",
              "          if (!dataTable) return;\n",
              "\n",
              "          const docLinkHtml = 'Like what you see? Visit the ' +\n",
              "            '<a target=\"_blank\" href=https://colab.research.google.com/notebooks/data_table.ipynb>data table notebook</a>'\n",
              "            + ' to learn more about interactive tables.';\n",
              "          element.innerHTML = '';\n",
              "          dataTable['output_type'] = 'display_data';\n",
              "          await google.colab.output.renderOutput(dataTable, element);\n",
              "          const docLink = document.createElement('div');\n",
              "          docLink.innerHTML = docLinkHtml;\n",
              "          element.appendChild(docLink);\n",
              "        }\n",
              "      </script>\n",
              "    </div>\n",
              "  </div>\n",
              "  "
            ],
            "text/plain": [
              "                  Open        High  ...   Adj Close    Volume\n",
              "Date                                ...                      \n",
              "2014-09-17  465.864014  468.174011  ...  457.334015  21056800\n",
              "2014-09-18  456.859985  456.859985  ...  424.440002  34483200\n",
              "2014-09-19  424.102997  427.834991  ...  394.795990  37919700\n",
              "2014-09-20  394.673004  423.295990  ...  408.903992  36863600\n",
              "2014-09-21  408.084991  412.425995  ...  398.821014  26580100\n",
              "\n",
              "[5 rows x 6 columns]"
            ]
          },
          "metadata": {},
          "execution_count": 4
        }
      ]
    },
    {
      "cell_type": "code",
      "source": [
        "ax = train_data['Open'].plot(figsize=(20,5))\n",
        "test_data['Open'].plot(ax=ax)"
      ],
      "metadata": {
        "colab": {
          "base_uri": "https://localhost:8080/",
          "height": 253
        },
        "id": "Sdd89Hn245jd",
        "outputId": "18217ecd-29ee-448f-e67b-89d84fef8ad5"
      },
      "execution_count": null,
      "outputs": [
        {
          "output_type": "execute_result",
          "data": {
            "text/plain": [
              "<matplotlib.axes._subplots.AxesSubplot at 0x7f9e9c3104d0>"
            ]
          },
          "metadata": {},
          "execution_count": 5
        },
        {
          "output_type": "display_data",
          "data": {
            "image/png": "[encoded data removed]",
            "text/plain": [
              "<Figure size 1440x360 with 1 Axes>"
            ]
          },
          "metadata": {
            "needs_background": "light"
          }
        }
      ]
    },
    {
      "cell_type": "code",
      "source": [
        "from sklearn.preprocessing import MinMaxScaler\n",
        "import numpy as np\n",
        "\n",
        "# normalize train and test data with sklearn.preprocessing.MinMaxScaler\n",
        "scaler = MinMaxScaler()\n",
        "scaler.fit(train_data['Open'].values.reshape(-1, 1))\n",
        "train_normalized = scaler.transform(train_data['Open'].values.reshape(-1, 1))\n",
        "train_normalized = np.squeeze(train_normalized)\n",
        "\n",
        "scaler2 = MinMaxScaler()\n",
        "scaler2.fit(test_data['Open'].values.reshape(-1, 1))\n",
        "test_normalized = scaler2.transform(test_data['Open'].values.reshape(-1, 1))\n",
        "test_normalized = np.squeeze(test_normalized)\n",
        "\n",
        "print(\"train sequence shape\", train_normalized.shape)\n",
        "print(\"test sequence shape\", test_normalized.shape)\n",
        "print(train_normalized[2400])\n",
        "print(test_normalized[50])"
      ],
      "metadata": {
        "colab": {
          "base_uri": "https://localhost:8080/"
        },
        "id": "dZ_QxA3H7a72",
        "outputId": "be28a89b-eb47-4225-e920-6005ffa41e61"
      },
      "execution_count": null,
      "outputs": [
        {
          "output_type": "stream",
          "name": "stdout",
          "text": [
            "train sequence shape (2542,)\n",
            "test sequence shape (116,)\n",
            "0.9426374953289349\n",
            "0.9424117074486829\n"
          ]
        }
      ]
    },
    {
      "cell_type": "code",
      "source": [
        "past = 60\n",
        "x_train = []\n",
        "y_train = []\n",
        "\n",
        "# prepocess data\n",
        "for i in range(train_normalized.size-past):\n",
        "  x = train_normalized[i:i+past]\n",
        "  y = train_normalized[i+past]\n",
        "  x_train.append(x)\n",
        "  y_train.append(y)\n",
        "\n",
        "x_train = np.array(x_train)\n",
        "x_train = np.expand_dims(x_train, axis=-1)\n",
        "print(x_train.shape)\n",
        "\n",
        "y_train = np.array(y_train)\n",
        "print(y_train.shape)  "
      ],
      "metadata": {
        "colab": {
          "base_uri": "https://localhost:8080/"
        },
        "id": "QWg5lCDy_GMH",
        "outputId": "abb5e12a-b102-4e4d-e9f9-6cc69640f531"
      },
      "execution_count": null,
      "outputs": [
        {
          "output_type": "stream",
          "name": "stdout",
          "text": [
            "(2482, 60, 1)\n",
            "(2482,)\n"
          ]
        }
      ]
    },
    {
      "cell_type": "code",
      "source": [
        "x_test = []\n",
        "y_test = []\n",
        "\n",
        "for i in range(test_normalized.size-past):\n",
        "  x = test_normalized[i:i+past]\n",
        "  y = test_normalized[i+past]\n",
        "  x_test.append(x)\n",
        "  y_test.append(y)\n",
        "\n",
        "x_test = np.array(x_test)\n",
        "x_test = np.expand_dims(x_test, axis=-1)\n",
        "print(x_test.shape)\n",
        "\n",
        "y_test = np.array(y_test)\n",
        "print(y_test.shape)"
      ],
      "metadata": {
        "colab": {
          "base_uri": "https://localhost:8080/"
        },
        "id": "vJLXvwMsECqI",
        "outputId": "78d3286d-e145-40cf-85b2-e21dbb37ab66"
      },
      "execution_count": null,
      "outputs": [
        {
          "output_type": "stream",
          "name": "stdout",
          "text": [
            "(56, 60, 1)\n",
            "(56,)\n"
          ]
        }
      ]
    },
    {
      "cell_type": "code",
      "source": [
        "batch_size = 32\n",
        "epoch_size = 100"
      ],
      "metadata": {
        "id": "ad_dTTqnGD9m"
      },
      "execution_count": null,
      "outputs": []
    },
    {
      "cell_type": "code",
      "source": [
        "from keras.models import Sequential\n",
        "from keras.layers import Dense, LSTM, Dropout\n",
        "\n",
        "model = Sequential()\n",
        "model.add(LSTM(50, return_sequences=True, input_shape=(past, 1)))\n",
        "model.add(Dropout(0.2))\n",
        "model.add(LSTM(50, return_sequences=True))\n",
        "model.add(Dropout(0.2))\n",
        "model.add(LSTM(50, return_sequences=True))\n",
        "model.add(Dropout(0.2))\n",
        "model.add(LSTM(50))\n",
        "model.add(Dense(1))"
      ],
      "metadata": {
        "id": "W8xGcTWZFJ0r"
      },
      "execution_count": null,
      "outputs": []
    },
    {
      "cell_type": "code",
      "source": [
        "model.compile(loss='mean_squared_error', optimizer='adam')\n",
        "history = model.fit(x_train, y_train, epochs=epoch_size, batch_size=batch_size)"
      ],
      "metadata": {
        "colab": {
          "base_uri": "https://localhost:8080/"
        },
        "id": "y8Nx3GCqIh4Y",
        "outputId": "4e244ab0-770b-41d6-d796-049eebd5aca5"
      },
      "execution_count": null,
      "outputs": [
        {
          "output_type": "stream",
          "name": "stdout",
          "text": [
            "Epoch 1/100\n",
            "78/78 [==============================] - 15s 64ms/step - loss: 0.0048\n",
            "Epoch 2/100\n",
            "78/78 [==============================] - 5s 62ms/step - loss: 0.0016\n",
            "Epoch 3/100\n",
            "78/78 [==============================] - 5s 64ms/step - loss: 0.0013\n",
            "Epoch 4/100\n",
            "78/78 [==============================] - 5s 64ms/step - loss: 0.0013\n",
            "Epoch 5/100\n",
            "78/78 [==============================] - 5s 62ms/step - loss: 0.0012\n",
            "Epoch 6/100\n",
            "78/78 [==============================] - 5s 62ms/step - loss: 0.0010\n",
            "Epoch 7/100\n",
            "78/78 [==============================] - 5s 62ms/step - loss: 9.1208e-04\n",
            "Epoch 8/100\n",
            "78/78 [==============================] - 5s 62ms/step - loss: 9.0209e-04\n",
            "Epoch 9/100\n",
            "78/78 [==============================] - 5s 61ms/step - loss: 0.0010\n",
            "Epoch 10/100\n",
            "78/78 [==============================] - 5s 62ms/step - loss: 7.7706e-04\n",
            "Epoch 11/100\n",
            "78/78 [==============================] - 5s 62ms/step - loss: 7.0344e-04\n",
            "Epoch 12/100\n",
            "78/78 [==============================] - 5s 62ms/step - loss: 8.0887e-04\n",
            "Epoch 13/100\n",
            "78/78 [==============================] - 5s 62ms/step - loss: 7.1100e-04\n",
            "Epoch 14/100\n",
            "78/78 [==============================] - 5s 62ms/step - loss: 8.2122e-04\n",
            "Epoch 15/100\n",
            "78/78 [==============================] - 5s 62ms/step - loss: 7.6908e-04\n",
            "Epoch 16/100\n",
            "78/78 [==============================] - 5s 62ms/step - loss: 6.8748e-04\n",
            "Epoch 17/100\n",
            "78/78 [==============================] - 5s 61ms/step - loss: 7.0374e-04\n",
            "Epoch 18/100\n",
            "78/78 [==============================] - 5s 62ms/step - loss: 6.3504e-04\n",
            "Epoch 19/100\n",
            "78/78 [==============================] - 5s 62ms/step - loss: 5.2971e-04\n",
            "Epoch 20/100\n",
            "78/78 [==============================] - 5s 62ms/step - loss: 5.4508e-04\n",
            "Epoch 21/100\n",
            "78/78 [==============================] - 5s 62ms/step - loss: 5.0131e-04\n",
            "Epoch 22/100\n",
            "78/78 [==============================] - 5s 62ms/step - loss: 5.3261e-04\n",
            "Epoch 23/100\n",
            "78/78 [==============================] - 5s 62ms/step - loss: 6.7101e-04\n",
            "Epoch 24/100\n",
            "78/78 [==============================] - 5s 62ms/step - loss: 6.2955e-04\n",
            "Epoch 25/100\n",
            "78/78 [==============================] - 5s 62ms/step - loss: 5.7783e-04\n",
            "Epoch 26/100\n",
            "78/78 [==============================] - 5s 62ms/step - loss: 5.8274e-04\n",
            "Epoch 27/100\n",
            "78/78 [==============================] - 5s 61ms/step - loss: 4.1653e-04\n",
            "Epoch 28/100\n",
            "78/78 [==============================] - 5s 61ms/step - loss: 5.2436e-04\n",
            "Epoch 29/100\n",
            "78/78 [==============================] - 5s 62ms/step - loss: 4.5158e-04\n",
            "Epoch 30/100\n",
            "78/78 [==============================] - 5s 62ms/step - loss: 4.5030e-04\n",
            "Epoch 31/100\n",
            "78/78 [==============================] - 5s 62ms/step - loss: 4.5662e-04\n",
            "Epoch 32/100\n",
            "78/78 [==============================] - 5s 62ms/step - loss: 4.2679e-04\n",
            "Epoch 33/100\n",
            "78/78 [==============================] - 5s 62ms/step - loss: 4.7682e-04\n",
            "Epoch 34/100\n",
            "78/78 [==============================] - 5s 61ms/step - loss: 4.5005e-04\n",
            "Epoch 35/100\n",
            "78/78 [==============================] - 5s 62ms/step - loss: 4.9605e-04\n",
            "Epoch 36/100\n",
            "78/78 [==============================] - 5s 62ms/step - loss: 3.7083e-04\n",
            "Epoch 37/100\n",
            "78/78 [==============================] - 5s 62ms/step - loss: 4.2070e-04\n",
            "Epoch 38/100\n",
            "78/78 [==============================] - 5s 62ms/step - loss: 4.1297e-04\n",
            "Epoch 39/100\n",
            "78/78 [==============================] - 5s 62ms/step - loss: 4.1166e-04\n",
            "Epoch 40/100\n",
            "78/78 [==============================] - 5s 62ms/step - loss: 4.5712e-04\n",
            "Epoch 41/100\n",
            "78/78 [==============================] - 5s 62ms/step - loss: 4.1571e-04\n",
            "Epoch 42/100\n",
            "78/78 [==============================] - 5s 62ms/step - loss: 4.1038e-04\n",
            "Epoch 43/100\n",
            "78/78 [==============================] - 5s 62ms/step - loss: 3.7132e-04\n",
            "Epoch 44/100\n",
            "78/78 [==============================] - 5s 62ms/step - loss: 3.6258e-04\n",
            "Epoch 45/100\n",
            "78/78 [==============================] - 5s 61ms/step - loss: 3.9363e-04\n",
            "Epoch 46/100\n",
            "78/78 [==============================] - 5s 62ms/step - loss: 3.6288e-04\n",
            "Epoch 47/100\n",
            "78/78 [==============================] - 5s 62ms/step - loss: 3.0954e-04\n",
            "Epoch 48/100\n",
            "78/78 [==============================] - 5s 61ms/step - loss: 3.1205e-04\n",
            "Epoch 49/100\n",
            "78/78 [==============================] - 5s 61ms/step - loss: 2.8462e-04\n",
            "Epoch 50/100\n",
            "78/78 [==============================] - 5s 61ms/step - loss: 3.1089e-04\n",
            "Epoch 51/100\n",
            "78/78 [==============================] - 5s 62ms/step - loss: 4.4004e-04\n",
            "Epoch 52/100\n",
            "78/78 [==============================] - 5s 62ms/step - loss: 3.5045e-04\n",
            "Epoch 53/100\n",
            "78/78 [==============================] - 5s 61ms/step - loss: 3.8811e-04\n",
            "Epoch 54/100\n",
            "78/78 [==============================] - 5s 61ms/step - loss: 3.1422e-04\n",
            "Epoch 55/100\n",
            "78/78 [==============================] - 5s 62ms/step - loss: 4.1938e-04\n",
            "Epoch 56/100\n",
            "78/78 [==============================] - 5s 61ms/step - loss: 3.2350e-04\n",
            "Epoch 57/100\n",
            "78/78 [==============================] - 5s 62ms/step - loss: 3.2545e-04\n",
            "Epoch 58/100\n",
            "78/78 [==============================] - 5s 62ms/step - loss: 3.3888e-04\n",
            "Epoch 59/100\n",
            "78/78 [==============================] - 5s 62ms/step - loss: 2.8903e-04\n",
            "Epoch 60/100\n",
            "78/78 [==============================] - 5s 61ms/step - loss: 2.7135e-04\n",
            "Epoch 61/100\n",
            "78/78 [==============================] - 5s 61ms/step - loss: 3.8955e-04\n",
            "Epoch 62/100\n",
            "78/78 [==============================] - 5s 62ms/step - loss: 3.8739e-04\n",
            "Epoch 63/100\n",
            "78/78 [==============================] - 5s 62ms/step - loss: 3.5490e-04\n",
            "Epoch 64/100\n",
            "78/78 [==============================] - 5s 62ms/step - loss: 3.0605e-04\n",
            "Epoch 65/100\n",
            "78/78 [==============================] - 5s 61ms/step - loss: 3.1817e-04\n",
            "Epoch 66/100\n",
            "78/78 [==============================] - 5s 61ms/step - loss: 2.7937e-04\n",
            "Epoch 67/100\n",
            "78/78 [==============================] - 5s 61ms/step - loss: 2.8441e-04\n",
            "Epoch 68/100\n",
            "78/78 [==============================] - 5s 62ms/step - loss: 3.1720e-04\n",
            "Epoch 69/100\n",
            "78/78 [==============================] - 5s 62ms/step - loss: 3.8647e-04\n",
            "Epoch 70/100\n",
            "78/78 [==============================] - 5s 62ms/step - loss: 3.0921e-04\n",
            "Epoch 71/100\n",
            "78/78 [==============================] - 5s 62ms/step - loss: 2.8761e-04\n",
            "Epoch 72/100\n",
            "78/78 [==============================] - 5s 62ms/step - loss: 2.6966e-04\n",
            "Epoch 73/100\n",
            "78/78 [==============================] - 5s 62ms/step - loss: 2.7050e-04\n",
            "Epoch 74/100\n",
            "78/78 [==============================] - 5s 62ms/step - loss: 3.8742e-04\n",
            "Epoch 75/100\n",
            "78/78 [==============================] - 5s 62ms/step - loss: 2.9224e-04\n",
            "Epoch 76/100\n",
            "78/78 [==============================] - 5s 62ms/step - loss: 2.8237e-04\n",
            "Epoch 77/100\n",
            "78/78 [==============================] - 5s 63ms/step - loss: 2.8235e-04\n",
            "Epoch 78/100\n",
            "78/78 [==============================] - 5s 62ms/step - loss: 2.8222e-04\n",
            "Epoch 79/100\n",
            "78/78 [==============================] - 5s 62ms/step - loss: 2.6174e-04\n",
            "Epoch 80/100\n",
            "78/78 [==============================] - 5s 62ms/step - loss: 2.5788e-04\n",
            "Epoch 81/100\n",
            "78/78 [==============================] - 5s 62ms/step - loss: 2.7492e-04\n",
            "Epoch 82/100\n",
            "78/78 [==============================] - 5s 62ms/step - loss: 3.2701e-04\n",
            "Epoch 83/100\n",
            "78/78 [==============================] - 5s 62ms/step - loss: 2.6199e-04\n",
            "Epoch 84/100\n",
            "78/78 [==============================] - 5s 62ms/step - loss: 2.3401e-04\n",
            "Epoch 85/100\n",
            "78/78 [==============================] - 5s 62ms/step - loss: 3.1753e-04\n",
            "Epoch 86/100\n",
            "78/78 [==============================] - 5s 63ms/step - loss: 2.8767e-04\n",
            "Epoch 87/100\n",
            "78/78 [==============================] - 5s 62ms/step - loss: 3.0203e-04\n",
            "Epoch 88/100\n",
            "78/78 [==============================] - 5s 62ms/step - loss: 2.8581e-04\n",
            "Epoch 89/100\n",
            "78/78 [==============================] - 5s 63ms/step - loss: 2.5115e-04\n",
            "Epoch 90/100\n",
            "78/78 [==============================] - 5s 62ms/step - loss: 2.4200e-04\n",
            "Epoch 91/100\n",
            "78/78 [==============================] - 5s 62ms/step - loss: 2.6410e-04\n",
            "Epoch 92/100\n",
            "78/78 [==============================] - 5s 62ms/step - loss: 2.2545e-04\n",
            "Epoch 93/100\n",
            "78/78 [==============================] - 5s 62ms/step - loss: 2.3653e-04\n",
            "Epoch 94/100\n",
            "78/78 [==============================] - 5s 62ms/step - loss: 2.4304e-04\n",
            "Epoch 95/100\n",
            "78/78 [==============================] - 5s 62ms/step - loss: 2.4356e-04\n",
            "Epoch 96/100\n",
            "78/78 [==============================] - 5s 62ms/step - loss: 2.4032e-04\n",
            "Epoch 97/100\n",
            "78/78 [==============================] - 5s 62ms/step - loss: 2.6001e-04\n",
            "Epoch 98/100\n",
            "78/78 [==============================] - 5s 62ms/step - loss: 2.3535e-04\n",
            "Epoch 99/100\n",
            "78/78 [==============================] - 5s 62ms/step - loss: 2.7303e-04\n",
            "Epoch 100/100\n",
            "78/78 [==============================] - 5s 62ms/step - loss: 2.4439e-04\n"
          ]
        }
      ]
    },
    {
      "cell_type": "code",
      "source": [
        "import matplotlib.pyplot as plt\n",
        "\n",
        "# predict test data to check the performance of model\n",
        "pred_norm = model.predict(x_test)\n",
        "# print(pred_norm.shape)\n",
        "\n",
        "# inverse of normalize\n",
        "# to find true values\n",
        "test_pred_val = np.squeeze(scaler.inverse_transform(pred_norm))\n",
        "y_test_val = np.squeeze(scaler.inverse_transform([y_test]))\n",
        "# plot true labels of test data and prediction\n",
        "plt.plot(test_pred_val)\n",
        "plt.plot(y_test_val)\n",
        "plt.show()"
      ],
      "metadata": {
        "colab": {
          "base_uri": "https://localhost:8080/",
          "height": 265
        },
        "id": "6etFGi5lKegZ",
        "outputId": "512bac3e-f1dd-426c-d7a7-671cc1ee51d0"
      },
      "execution_count": null,
      "outputs": [
        {
          "output_type": "display_data",
          "data": {
            "image/png": "[encoded data removed]",
            "text/plain": [
              "<Figure size 432x288 with 1 Axes>"
            ]
          },
          "metadata": {
            "needs_background": "light"
          }
        }
      ]
    },
    {
      "cell_type": "code",
      "source": [
        "# predict next 3 months\n",
        "future = 3 * 30\n",
        "data = list(test_normalized[-past:])\n",
        "\n",
        "future_preds = []\n",
        "for i in range(future):\n",
        "  data_batch = np.expand_dims(data, 0)\n",
        "  prediction = model.predict(data_batch)[0][0]  \n",
        "  future_preds.append(prediction)\n",
        "  # remove first elemenet from data and append new prediction for next loop\n",
        "  data.pop(0)\n",
        "  data.append(prediction)"
      ],
      "metadata": {
        "id": "feAOqhgMQLQ_"
      },
      "execution_count": null,
      "outputs": []
    },
    {
      "cell_type": "code",
      "source": [
        "future_preds = np.array(future_preds)\n",
        "inv_pred = scaler.inverse_transform(future_preds.reshape(-1, 1))\n",
        "plt.plot(np.squeeze(inv_pred))"
      ],
      "metadata": {
        "colab": {
          "base_uri": "https://localhost:8080/",
          "height": 284
        },
        "id": "D-d3XfxfU0BH",
        "outputId": "f7fdf8db-d460-490f-90ca-d8f45f1ffea5"
      },
      "execution_count": null,
      "outputs": [
        {
          "output_type": "execute_result",
          "data": {
            "text/plain": [
              "[<matplotlib.lines.Line2D at 0x7f9d826ddc10>]"
            ]
          },
          "metadata": {},
          "execution_count": 14
        },
        {
          "output_type": "display_data",
          "data": {
            "image/png": "[encoded data removed]",
            "text/plain": [
              "<Figure size 432x288 with 1 Axes>"
            ]
          },
          "metadata": {
            "needs_background": "light"
          }
        }
      ]
    }
  ]
}