{
  "nbformat": 4,
  "nbformat_minor": 0,
  "metadata": {
    "colab": {
      "name": "DL-HW12-q2.ipynb",
      "provenance": [],
      "collapsed_sections": []
    },
    "kernelspec": {
      "name": "python3",
      "display_name": "Python 3"
    },
    "language_info": {
      "name": "python"
    }
  },
  "cells": [
    {
      "cell_type": "code",
      "execution_count": 1,
      "metadata": {
        "id": "ZYAuigeifCWQ"
      },
      "outputs": [],
      "source": [
        "with open('enc-dec.txt') as f:\n",
        "  lines = f.read().splitlines()"
      ]
    },
    {
      "cell_type": "code",
      "source": [
        "import numpy as np\n",
        "\n",
        "word_len = 10\n",
        "alphabet = \" abcdefghijklmnopqrstuvwxyz\"\n",
        "alpha_index = dict((c,i) for i,c in enumerate(alphabet))\n",
        "# print(alpha_index)\n",
        "index_alpha = dict((i,c) for i,c in enumerate(alphabet))\n",
        "# print(index_alpha)\n",
        "\n",
        "def convert(data):\n",
        "  one_hot = []\n",
        "  for d in data:\n",
        "    vec = np.zeros((len(alphabet)))\n",
        "    vec[alpha_index[d]] = 1\n",
        "    one_hot.append(vec)\n",
        "    # print(vec)\n",
        "  return np.array(one_hot)\n",
        "\n",
        "x = convert(\"sehlckaohz\")\n",
        "print(x.shape)"
      ],
      "metadata": {
        "colab": {
          "base_uri": "https://localhost:8080/"
        },
        "id": "4_NOtDYvz5J-",
        "outputId": "9ca6e4b1-163e-40ba-b636-03a2d7463ce2"
      },
      "execution_count": 2,
      "outputs": [
        {
          "output_type": "stream",
          "name": "stdout",
          "text": [
            "(10, 27)\n"
          ]
        }
      ]
    },
    {
      "cell_type": "code",
      "source": [
        "x = []\n",
        "y = []\n",
        "\n",
        "for line in lines:\n",
        "  splited = line.split('\\t')\n",
        "  enc = splited[0]\n",
        "  while len(enc) < 10:\n",
        "    enc += ' '\n",
        "\n",
        "  dec = splited[1]\n",
        "  while len(dec) < 10:\n",
        "    dec += ' '\n",
        "\n",
        "  enc_onehot = convert(enc)\n",
        "  dec_onehot = convert(dec)\n",
        "\n",
        "  x.append(enc_onehot)\n",
        "  y.append(dec_onehot)"
      ],
      "metadata": {
        "id": "2ZYEWVgBvQN3"
      },
      "execution_count": 3,
      "outputs": []
    },
    {
      "cell_type": "code",
      "source": [
        "x = np.array(x)\n",
        "y = np.array(y)\n",
        "print(x.shape)\n",
        "print(y.shape)"
      ],
      "metadata": {
        "colab": {
          "base_uri": "https://localhost:8080/"
        },
        "id": "bKiV-vqP2-L9",
        "outputId": "8a164654-78e2-4bb3-f6e6-b798ddd765dd"
      },
      "execution_count": 4,
      "outputs": [
        {
          "output_type": "stream",
          "name": "stdout",
          "text": [
            "(152273, 10, 27)\n",
            "(152273, 10, 27)\n"
          ]
        }
      ]
    },
    {
      "cell_type": "code",
      "source": [
        "from sklearn.model_selection import train_test_split\n",
        "\n",
        "# shuffle data and divide into train and test set\n",
        "x_train, x_test, y_train, y_test = train_test_split(x, y, test_size=0.1, random_state=4)\n",
        "print(x_train.shape)\n",
        "print(y_train.shape)\n",
        "print(x_test.shape)\n",
        "print(y_test.shape)"
      ],
      "metadata": {
        "colab": {
          "base_uri": "https://localhost:8080/"
        },
        "id": "mUgEKKvU3MlU",
        "outputId": "7a261696-1094-4f6d-ab44-7e225946cafe"
      },
      "execution_count": 5,
      "outputs": [
        {
          "output_type": "stream",
          "name": "stdout",
          "text": [
            "(137045, 10, 27)\n",
            "(137045, 10, 27)\n",
            "(15228, 10, 27)\n",
            "(15228, 10, 27)\n"
          ]
        }
      ]
    },
    {
      "cell_type": "code",
      "source": [
        "BATCH_SIZE = 128"
      ],
      "metadata": {
        "id": "TpYMNEDLIy9F"
      },
      "execution_count": 6,
      "outputs": []
    },
    {
      "cell_type": "code",
      "source": [
        "from keras.models import Sequential\n",
        "from keras.layers import Dense, GRU, Dropout, RepeatVector\n",
        "\n",
        "def build_model(layers, hidden):\n",
        "  model = Sequential()\n",
        "  model.add(GRU(hidden, input_shape=(word_len, len(alphabet))))\n",
        "\n",
        "  # As the decoder RNN's input, repeatedly provide with the last output of\n",
        "  # RNN for each time step. Repeat 'word_len' times\n",
        "  model.add(RepeatVector(word_len))\n",
        "\n",
        "  # The decoder RNN could be multiple layers stacked or a single layer.\n",
        "  for _ in range(layers):\n",
        "      model.add(GRU(hidden, return_sequences=True))\n",
        "\n",
        "  model.add(Dense(len(alphabet), activation='softmax'))\n",
        "\n",
        "  return model"
      ],
      "metadata": {
        "id": "5GCD7tlK4rV-"
      },
      "execution_count": 7,
      "outputs": []
    },
    {
      "cell_type": "code",
      "source": [
        "# 4 GRU layers + 128 hidden units\n",
        "model1 = build_model(3, 128)\n",
        "model1.compile(loss='categorical_crossentropy', optimizer='adam', metrics=['accuracy'])\n",
        "model1.summary()"
      ],
      "metadata": {
        "colab": {
          "base_uri": "https://localhost:8080/"
        },
        "id": "c07LCdw5S0eT",
        "outputId": "cf04c27c-7700-40a3-efee-861e28ec41a6"
      },
      "execution_count": 8,
      "outputs": [
        {
          "output_type": "stream",
          "name": "stdout",
          "text": [
            "Model: \"sequential\"\n",
            "_________________________________________________________________\n",
            " Layer (type)                Output Shape              Param #   \n",
            "=================================================================\n",
            " gru (GRU)                   (None, 128)               60288     \n",
            "                                                                 \n",
            " repeat_vector (RepeatVector  (None, 10, 128)          0         \n",
            " )                                                               \n",
            "                                                                 \n",
            " gru_1 (GRU)                 (None, 10, 128)           99072     \n",
            "                                                                 \n",
            " gru_2 (GRU)                 (None, 10, 128)           99072     \n",
            "                                                                 \n",
            " gru_3 (GRU)                 (None, 10, 128)           99072     \n",
            "                                                                 \n",
            " dense (Dense)               (None, 10, 27)            3483      \n",
            "                                                                 \n",
            "=================================================================\n",
            "Total params: 360,987\n",
            "Trainable params: 360,987\n",
            "Non-trainable params: 0\n",
            "_________________________________________________________________\n"
          ]
        }
      ]
    },
    {
      "cell_type": "code",
      "source": [
        "history = model1.fit(x_train, y_train,\n",
        "                     batch_size=BATCH_SIZE,\n",
        "                     epochs=15,\n",
        "                     validation_data=(x_test, y_test))"
      ],
      "metadata": {
        "colab": {
          "base_uri": "https://localhost:8080/"
        },
        "id": "hWsh6VYbTaVy",
        "outputId": "ff18853d-595c-44b6-b00d-b341baf6cba5"
      },
      "execution_count": 10,
      "outputs": [
        {
          "output_type": "stream",
          "name": "stdout",
          "text": [
            "Epoch 1/15\n",
            "1071/1071 [==============================] - 25s 23ms/step - loss: 2.1049 - accuracy: 0.3657 - val_loss: 1.9950 - val_accuracy: 0.3985\n",
            "Epoch 2/15\n",
            "1071/1071 [==============================] - 25s 23ms/step - loss: 1.9046 - accuracy: 0.4287 - val_loss: 1.8188 - val_accuracy: 0.4552\n",
            "Epoch 3/15\n",
            "1071/1071 [==============================] - 25s 24ms/step - loss: 1.7110 - accuracy: 0.4873 - val_loss: 1.6129 - val_accuracy: 0.5161\n",
            "Epoch 4/15\n",
            "1071/1071 [==============================] - 25s 23ms/step - loss: 1.5256 - accuracy: 0.5392 - val_loss: 1.4592 - val_accuracy: 0.5581\n",
            "Epoch 5/15\n",
            "1071/1071 [==============================] - 25s 23ms/step - loss: 1.3668 - accuracy: 0.5822 - val_loss: 1.2648 - val_accuracy: 0.6075\n",
            "Epoch 6/15\n",
            "1071/1071 [==============================] - 25s 23ms/step - loss: 1.0917 - accuracy: 0.6558 - val_loss: 0.9079 - val_accuracy: 0.7071\n",
            "Epoch 7/15\n",
            "1071/1071 [==============================] - 25s 23ms/step - loss: 0.7897 - accuracy: 0.7420 - val_loss: 0.6897 - val_accuracy: 0.7706\n",
            "Epoch 8/15\n",
            "1071/1071 [==============================] - 25s 23ms/step - loss: 0.6225 - accuracy: 0.7909 - val_loss: 0.5635 - val_accuracy: 0.8096\n",
            "Epoch 9/15\n",
            "1071/1071 [==============================] - 25s 23ms/step - loss: 0.5230 - accuracy: 0.8232 - val_loss: 0.4828 - val_accuracy: 0.8402\n",
            "Epoch 10/15\n",
            "1071/1071 [==============================] - 25s 23ms/step - loss: 0.4581 - accuracy: 0.8484 - val_loss: 0.4208 - val_accuracy: 0.8623\n",
            "Epoch 11/15\n",
            "1071/1071 [==============================] - 25s 23ms/step - loss: 0.4098 - accuracy: 0.8653 - val_loss: 0.3848 - val_accuracy: 0.8740\n",
            "Epoch 12/15\n",
            "1071/1071 [==============================] - 25s 23ms/step - loss: 0.3829 - accuracy: 0.8738 - val_loss: 0.3716 - val_accuracy: 0.8772\n",
            "Epoch 13/15\n",
            "1071/1071 [==============================] - 26s 24ms/step - loss: 0.3583 - accuracy: 0.8818 - val_loss: 0.3513 - val_accuracy: 0.8846\n",
            "Epoch 14/15\n",
            "1071/1071 [==============================] - 25s 23ms/step - loss: 0.3443 - accuracy: 0.8863 - val_loss: 0.3560 - val_accuracy: 0.8811\n",
            "Epoch 15/15\n",
            "1071/1071 [==============================] - 27s 25ms/step - loss: 0.3306 - accuracy: 0.8909 - val_loss: 0.3396 - val_accuracy: 0.8875\n"
          ]
        }
      ]
    },
    {
      "cell_type": "code",
      "source": [
        "model1.save('saved_model/model1.h5')"
      ],
      "metadata": {
        "id": "lqmjVbQhXNri"
      },
      "execution_count": 16,
      "outputs": []
    },
    {
      "cell_type": "code",
      "source": [
        "# 6 GRU layers + 128 hidden units\n",
        "model2 = build_model(5, 128)\n",
        "model2.compile(loss='categorical_crossentropy', optimizer='adam', metrics=['accuracy'])\n",
        "model2.summary()"
      ],
      "metadata": {
        "colab": {
          "base_uri": "https://localhost:8080/"
        },
        "id": "kvDiUlAGWyHp",
        "outputId": "3040c695-8568-4226-c111-d6067a120b2b"
      },
      "execution_count": 11,
      "outputs": [
        {
          "output_type": "stream",
          "name": "stdout",
          "text": [
            "Model: \"sequential_1\"\n",
            "_________________________________________________________________\n",
            " Layer (type)                Output Shape              Param #   \n",
            "=================================================================\n",
            " gru_4 (GRU)                 (None, 128)               60288     \n",
            "                                                                 \n",
            " repeat_vector_1 (RepeatVect  (None, 10, 128)          0         \n",
            " or)                                                             \n",
            "                                                                 \n",
            " gru_5 (GRU)                 (None, 10, 128)           99072     \n",
            "                                                                 \n",
            " gru_6 (GRU)                 (None, 10, 128)           99072     \n",
            "                                                                 \n",
            " gru_7 (GRU)                 (None, 10, 128)           99072     \n",
            "                                                                 \n",
            " gru_8 (GRU)                 (None, 10, 128)           99072     \n",
            "                                                                 \n",
            " gru_9 (GRU)                 (None, 10, 128)           99072     \n",
            "                                                                 \n",
            " dense_1 (Dense)             (None, 10, 27)            3483      \n",
            "                                                                 \n",
            "=================================================================\n",
            "Total params: 559,131\n",
            "Trainable params: 559,131\n",
            "Non-trainable params: 0\n",
            "_________________________________________________________________\n"
          ]
        }
      ]
    },
    {
      "cell_type": "code",
      "source": [
        "history2 = model2.fit(x_train, y_train,\n",
        "                     batch_size=BATCH_SIZE,\n",
        "                     epochs=15,\n",
        "                     validation_data=(x_test, y_test))"
      ],
      "metadata": {
        "colab": {
          "base_uri": "https://localhost:8080/"
        },
        "id": "jpqFzdwRXDCR",
        "outputId": "a2c22929-34d7-48c2-87e0-31d3526b9034"
      },
      "execution_count": 12,
      "outputs": [
        {
          "output_type": "stream",
          "name": "stdout",
          "text": [
            "Epoch 1/15\n",
            "1071/1071 [==============================] - 52s 39ms/step - loss: 2.4281 - accuracy: 0.2874 - val_loss: 2.2067 - val_accuracy: 0.3348\n",
            "Epoch 2/15\n",
            "1071/1071 [==============================] - 37s 34ms/step - loss: 2.1066 - accuracy: 0.3654 - val_loss: 1.9876 - val_accuracy: 0.4026\n",
            "Epoch 3/15\n",
            "1071/1071 [==============================] - 38s 36ms/step - loss: 1.8705 - accuracy: 0.4347 - val_loss: 1.7663 - val_accuracy: 0.4626\n",
            "Epoch 4/15\n",
            "1071/1071 [==============================] - 37s 35ms/step - loss: 1.6763 - accuracy: 0.4888 - val_loss: 1.5695 - val_accuracy: 0.5173\n",
            "Epoch 5/15\n",
            "1071/1071 [==============================] - 37s 34ms/step - loss: 1.4736 - accuracy: 0.5431 - val_loss: 1.3401 - val_accuracy: 0.5788\n",
            "Epoch 6/15\n",
            "1071/1071 [==============================] - 37s 34ms/step - loss: 1.2330 - accuracy: 0.6080 - val_loss: 1.1132 - val_accuracy: 0.6415\n",
            "Epoch 7/15\n",
            "1071/1071 [==============================] - 38s 35ms/step - loss: 1.0263 - accuracy: 0.6660 - val_loss: 0.9329 - val_accuracy: 0.6940\n",
            "Epoch 8/15\n",
            "1071/1071 [==============================] - 37s 34ms/step - loss: 0.8698 - accuracy: 0.7126 - val_loss: 0.8039 - val_accuracy: 0.7344\n",
            "Epoch 9/15\n",
            "1071/1071 [==============================] - 36s 34ms/step - loss: 0.7158 - accuracy: 0.7620 - val_loss: 0.6465 - val_accuracy: 0.7841\n",
            "Epoch 10/15\n",
            "1071/1071 [==============================] - 37s 34ms/step - loss: 0.5780 - accuracy: 0.8073 - val_loss: 0.5638 - val_accuracy: 0.8110\n",
            "Epoch 11/15\n",
            "1071/1071 [==============================] - 37s 34ms/step - loss: 0.5021 - accuracy: 0.8337 - val_loss: 0.4634 - val_accuracy: 0.8494\n",
            "Epoch 12/15\n",
            "1071/1071 [==============================] - 38s 35ms/step - loss: 0.4515 - accuracy: 0.8517 - val_loss: 0.4994 - val_accuracy: 0.8301\n",
            "Epoch 13/15\n",
            "1071/1071 [==============================] - 37s 34ms/step - loss: 0.4193 - accuracy: 0.8627 - val_loss: 0.4139 - val_accuracy: 0.8638\n",
            "Epoch 14/15\n",
            "1071/1071 [==============================] - 37s 34ms/step - loss: 0.3914 - accuracy: 0.8717 - val_loss: 0.3776 - val_accuracy: 0.8770\n",
            "Epoch 15/15\n",
            "1071/1071 [==============================] - 36s 34ms/step - loss: 0.3650 - accuracy: 0.8805 - val_loss: 0.3753 - val_accuracy: 0.8763\n"
          ]
        }
      ]
    },
    {
      "cell_type": "code",
      "source": [
        "model2.save('saved_model/model2.h5')"
      ],
      "metadata": {
        "id": "nBGwiF2lbUgY"
      },
      "execution_count": 17,
      "outputs": []
    },
    {
      "cell_type": "code",
      "source": [
        "from keras.models import load_model\n",
        "\n",
        "# train model2 for 10 more epochs (25 epochs in total)\n",
        "model3 = load_model('saved_model/model2.h5')\n",
        "history3 = model3.fit(x_train, y_train,\n",
        "                     batch_size=BATCH_SIZE,\n",
        "                     epochs=10,\n",
        "                     validation_data=(x_test, y_test))\n",
        "# improved 4%"
      ],
      "metadata": {
        "colab": {
          "base_uri": "https://localhost:8080/"
        },
        "id": "vinmnYyTbiSJ",
        "outputId": "d61b5ffc-cfd8-4a32-f93e-0f2caab99753"
      },
      "execution_count": 20,
      "outputs": [
        {
          "output_type": "stream",
          "name": "stdout",
          "text": [
            "Epoch 1/10\n",
            "1071/1071 [==============================] - 46s 37ms/step - loss: 0.3529 - accuracy: 0.8839 - val_loss: 0.3386 - val_accuracy: 0.8902\n",
            "Epoch 2/10\n",
            "1071/1071 [==============================] - 38s 35ms/step - loss: 0.3399 - accuracy: 0.8878 - val_loss: 0.3386 - val_accuracy: 0.8883\n",
            "Epoch 3/10\n",
            "1071/1071 [==============================] - 37s 35ms/step - loss: 0.3306 - accuracy: 0.8907 - val_loss: 0.3275 - val_accuracy: 0.8919\n",
            "Epoch 4/10\n",
            "1071/1071 [==============================] - 38s 35ms/step - loss: 0.3166 - accuracy: 0.8953 - val_loss: 0.3092 - val_accuracy: 0.8976\n",
            "Epoch 5/10\n",
            "1071/1071 [==============================] - 39s 36ms/step - loss: 0.3179 - accuracy: 0.8942 - val_loss: 0.3203 - val_accuracy: 0.8943\n",
            "Epoch 6/10\n",
            "1071/1071 [==============================] - 37s 35ms/step - loss: 0.2995 - accuracy: 0.9010 - val_loss: 0.3141 - val_accuracy: 0.8960\n",
            "Epoch 7/10\n",
            "1071/1071 [==============================] - 37s 34ms/step - loss: 0.3013 - accuracy: 0.8998 - val_loss: 0.2955 - val_accuracy: 0.9032\n",
            "Epoch 8/10\n",
            "1071/1071 [==============================] - 37s 34ms/step - loss: 0.2927 - accuracy: 0.9025 - val_loss: 0.2982 - val_accuracy: 0.9007\n",
            "Epoch 9/10\n",
            "1071/1071 [==============================] - 37s 35ms/step - loss: 0.2881 - accuracy: 0.9042 - val_loss: 0.2772 - val_accuracy: 0.9094\n",
            "Epoch 10/10\n",
            "1071/1071 [==============================] - 37s 35ms/step - loss: 0.2796 - accuracy: 0.9073 - val_loss: 0.2705 - val_accuracy: 0.9113\n"
          ]
        }
      ]
    },
    {
      "cell_type": "code",
      "source": [
        "model3.save('saved_model/model3.h5')"
      ],
      "metadata": {
        "id": "fYWSV22Zct6_"
      },
      "execution_count": 21,
      "outputs": []
    },
    {
      "cell_type": "code",
      "source": [
        "# 4 GRU layers + 256 hidden units\n",
        "model4 = build_model(3, 256)\n",
        "model4.compile(loss='categorical_crossentropy', optimizer='adam', metrics=['accuracy'])\n",
        "model4.summary()"
      ],
      "metadata": {
        "colab": {
          "base_uri": "https://localhost:8080/"
        },
        "id": "7pxuZkI1cagg",
        "outputId": "977e1d53-4805-4a05-bc1e-0b85ac1dc508"
      },
      "execution_count": 22,
      "outputs": [
        {
          "output_type": "stream",
          "name": "stdout",
          "text": [
            "Model: \"sequential_2\"\n",
            "_________________________________________________________________\n",
            " Layer (type)                Output Shape              Param #   \n",
            "=================================================================\n",
            " gru_10 (GRU)                (None, 256)               218880    \n",
            "                                                                 \n",
            " repeat_vector_2 (RepeatVect  (None, 10, 256)          0         \n",
            " or)                                                             \n",
            "                                                                 \n",
            " gru_11 (GRU)                (None, 10, 256)           394752    \n",
            "                                                                 \n",
            " gru_12 (GRU)                (None, 10, 256)           394752    \n",
            "                                                                 \n",
            " gru_13 (GRU)                (None, 10, 256)           394752    \n",
            "                                                                 \n",
            " dense_2 (Dense)             (None, 10, 27)            6939      \n",
            "                                                                 \n",
            "=================================================================\n",
            "Total params: 1,410,075\n",
            "Trainable params: 1,410,075\n",
            "Non-trainable params: 0\n",
            "_________________________________________________________________\n"
          ]
        }
      ]
    },
    {
      "cell_type": "code",
      "source": [
        "history4 = model4.fit(x_train, y_train,\n",
        "                     batch_size=BATCH_SIZE,\n",
        "                     epochs=15,\n",
        "                     validation_data=(x_test, y_test))"
      ],
      "metadata": {
        "colab": {
          "base_uri": "https://localhost:8080/"
        },
        "id": "IaKuL4g2cfWf",
        "outputId": "db0870f1-db3d-4057-8e8d-0f5fbb764a56"
      },
      "execution_count": 23,
      "outputs": [
        {
          "output_type": "stream",
          "name": "stdout",
          "text": [
            "Epoch 1/15\n",
            "1071/1071 [==============================] - 42s 33ms/step - loss: 2.3565 - accuracy: 0.3020 - val_loss: 2.0688 - val_accuracy: 0.3674\n",
            "Epoch 2/15\n",
            "1071/1071 [==============================] - 32s 30ms/step - loss: 1.7347 - accuracy: 0.4651 - val_loss: 1.3810 - val_accuracy: 0.5690\n",
            "Epoch 3/15\n",
            "1071/1071 [==============================] - 31s 29ms/step - loss: 1.0676 - accuracy: 0.6628 - val_loss: 0.7409 - val_accuracy: 0.7656\n",
            "Epoch 4/15\n",
            "1071/1071 [==============================] - 30s 28ms/step - loss: 0.5462 - accuracy: 0.8261 - val_loss: 0.4414 - val_accuracy: 0.8593\n",
            "Epoch 5/15\n",
            "1071/1071 [==============================] - 29s 27ms/step - loss: 0.3782 - accuracy: 0.8796 - val_loss: 0.3223 - val_accuracy: 0.8989\n",
            "Epoch 6/15\n",
            "1071/1071 [==============================] - 28s 26ms/step - loss: 0.2990 - accuracy: 0.9062 - val_loss: 0.2828 - val_accuracy: 0.9109\n",
            "Epoch 7/15\n",
            "1071/1071 [==============================] - 28s 26ms/step - loss: 0.2482 - accuracy: 0.9226 - val_loss: 0.2436 - val_accuracy: 0.9236\n",
            "Epoch 8/15\n",
            "1071/1071 [==============================] - 28s 26ms/step - loss: 0.2217 - accuracy: 0.9310 - val_loss: 0.2229 - val_accuracy: 0.9306\n",
            "Epoch 9/15\n",
            "1071/1071 [==============================] - 27s 26ms/step - loss: 0.2029 - accuracy: 0.9371 - val_loss: 0.2021 - val_accuracy: 0.9377\n",
            "Epoch 10/15\n",
            "1071/1071 [==============================] - 28s 26ms/step - loss: 0.1911 - accuracy: 0.9406 - val_loss: 0.1875 - val_accuracy: 0.9426\n",
            "Epoch 11/15\n",
            "1071/1071 [==============================] - 28s 26ms/step - loss: 0.1746 - accuracy: 0.9459 - val_loss: 0.1895 - val_accuracy: 0.9412\n",
            "Epoch 12/15\n",
            "1071/1071 [==============================] - 28s 26ms/step - loss: 0.1684 - accuracy: 0.9477 - val_loss: 0.1948 - val_accuracy: 0.9390\n",
            "Epoch 13/15\n",
            "1071/1071 [==============================] - 27s 26ms/step - loss: 0.1583 - accuracy: 0.9509 - val_loss: 0.1712 - val_accuracy: 0.9474\n",
            "Epoch 14/15\n",
            "1071/1071 [==============================] - 27s 25ms/step - loss: 0.1541 - accuracy: 0.9521 - val_loss: 0.1631 - val_accuracy: 0.9497\n",
            "Epoch 15/15\n",
            "1071/1071 [==============================] - 27s 25ms/step - loss: 0.1477 - accuracy: 0.9540 - val_loss: 0.1603 - val_accuracy: 0.9510\n"
          ]
        }
      ]
    },
    {
      "cell_type": "code",
      "source": [
        "model4.save('saved_model/model4.h5')"
      ],
      "metadata": {
        "id": "YODVf0v6hW4U"
      },
      "execution_count": 24,
      "outputs": []
    },
    {
      "cell_type": "code",
      "source": [
        "# 6 GRU layers + 256 hidden units\n",
        "model5 = build_model(5, 256)\n",
        "model5.compile(loss='categorical_crossentropy', optimizer='adam', metrics=['accuracy'])\n",
        "model5.summary()"
      ],
      "metadata": {
        "colab": {
          "base_uri": "https://localhost:8080/"
        },
        "id": "yynueb0BhgPX",
        "outputId": "1b816245-e4af-4915-90b4-99b0b0082d34"
      },
      "execution_count": 25,
      "outputs": [
        {
          "output_type": "stream",
          "name": "stdout",
          "text": [
            "Model: \"sequential_3\"\n",
            "_________________________________________________________________\n",
            " Layer (type)                Output Shape              Param #   \n",
            "=================================================================\n",
            " gru_14 (GRU)                (None, 256)               218880    \n",
            "                                                                 \n",
            " repeat_vector_3 (RepeatVect  (None, 10, 256)          0         \n",
            " or)                                                             \n",
            "                                                                 \n",
            " gru_15 (GRU)                (None, 10, 256)           394752    \n",
            "                                                                 \n",
            " gru_16 (GRU)                (None, 10, 256)           394752    \n",
            "                                                                 \n",
            " gru_17 (GRU)                (None, 10, 256)           394752    \n",
            "                                                                 \n",
            " gru_18 (GRU)                (None, 10, 256)           394752    \n",
            "                                                                 \n",
            " gru_19 (GRU)                (None, 10, 256)           394752    \n",
            "                                                                 \n",
            " dense_3 (Dense)             (None, 10, 27)            6939      \n",
            "                                                                 \n",
            "=================================================================\n",
            "Total params: 2,199,579\n",
            "Trainable params: 2,199,579\n",
            "Non-trainable params: 0\n",
            "_________________________________________________________________\n"
          ]
        }
      ]
    },
    {
      "cell_type": "code",
      "source": [
        "history5 = model5.fit(x_train, y_train,\n",
        "                     batch_size=BATCH_SIZE,\n",
        "                     epochs=15,\n",
        "                     validation_data=(x_test, y_test))"
      ],
      "metadata": {
        "colab": {
          "base_uri": "https://localhost:8080/"
        },
        "id": "odIzmx4Mhox2",
        "outputId": "a6e9b980-1b92-4151-c348-ff6579e63fe0"
      },
      "execution_count": 26,
      "outputs": [
        {
          "output_type": "stream",
          "name": "stdout",
          "text": [
            "Epoch 1/15\n",
            "1071/1071 [==============================] - 57s 44ms/step - loss: 2.3227 - accuracy: 0.3137 - val_loss: 2.0045 - val_accuracy: 0.3970\n",
            "Epoch 2/15\n",
            "1071/1071 [==============================] - 40s 37ms/step - loss: 1.6501 - accuracy: 0.4853 - val_loss: 1.2617 - val_accuracy: 0.5786\n",
            "Epoch 3/15\n",
            "1071/1071 [==============================] - 39s 37ms/step - loss: 0.8594 - accuracy: 0.7076 - val_loss: 0.5287 - val_accuracy: 0.8208\n",
            "Epoch 4/15\n",
            "1071/1071 [==============================] - 39s 37ms/step - loss: 0.4582 - accuracy: 0.8447 - val_loss: 0.4016 - val_accuracy: 0.8643\n",
            "Epoch 5/15\n",
            "1071/1071 [==============================] - 39s 36ms/step - loss: 0.3623 - accuracy: 0.8785 - val_loss: 0.3855 - val_accuracy: 0.8703\n",
            "Epoch 6/15\n",
            "1071/1071 [==============================] - 39s 36ms/step - loss: 0.3155 - accuracy: 0.8955 - val_loss: 0.3543 - val_accuracy: 0.8813\n",
            "Epoch 7/15\n",
            "1071/1071 [==============================] - 39s 36ms/step - loss: 0.2842 - accuracy: 0.9062 - val_loss: 0.2836 - val_accuracy: 0.9071\n",
            "Epoch 8/15\n",
            "1071/1071 [==============================] - 39s 36ms/step - loss: 0.2616 - accuracy: 0.9144 - val_loss: 0.2689 - val_accuracy: 0.9119\n",
            "Epoch 9/15\n",
            "1071/1071 [==============================] - 40s 38ms/step - loss: 0.2441 - accuracy: 0.9203 - val_loss: 0.2319 - val_accuracy: 0.9251\n",
            "Epoch 10/15\n",
            "1071/1071 [==============================] - 39s 37ms/step - loss: 0.2256 - accuracy: 0.9266 - val_loss: 0.2254 - val_accuracy: 0.9271\n",
            "Epoch 11/15\n",
            "1071/1071 [==============================] - 39s 37ms/step - loss: 0.2165 - accuracy: 0.9300 - val_loss: 0.2225 - val_accuracy: 0.9277\n",
            "Epoch 12/15\n",
            "1071/1071 [==============================] - 39s 36ms/step - loss: 0.2026 - accuracy: 0.9348 - val_loss: 0.2049 - val_accuracy: 0.9342\n",
            "Epoch 13/15\n",
            "1071/1071 [==============================] - 40s 37ms/step - loss: 0.1966 - accuracy: 0.9369 - val_loss: 0.2357 - val_accuracy: 0.9241\n",
            "Epoch 14/15\n",
            "1071/1071 [==============================] - 39s 36ms/step - loss: 0.1858 - accuracy: 0.9403 - val_loss: 0.2112 - val_accuracy: 0.9319\n",
            "Epoch 15/15\n",
            "1071/1071 [==============================] - 39s 36ms/step - loss: 0.1821 - accuracy: 0.9416 - val_loss: 0.2178 - val_accuracy: 0.9307\n"
          ]
        }
      ]
    },
    {
      "cell_type": "code",
      "source": [
        "model5.save('saved_model/model5.h5')"
      ],
      "metadata": {
        "id": "jA5sNBmdkia2"
      },
      "execution_count": 27,
      "outputs": []
    },
    {
      "cell_type": "code",
      "source": [
        "# model4 has the best val accuracy\n",
        "# so use it to decode the password\n",
        "coded = \"onmltsrqpoihgrezcba lknrvjihgfueiizltflk\"\n",
        "\n",
        "one_hot_coded = []\n",
        "# prepocess the coded string\n",
        "for i in range(0, len(coded), word_len):\n",
        "  word = coded[i:i+word_len]\n",
        "  one_hot = convert(word)\n",
        "  one_hot_coded.append(one_hot)\n",
        "\n",
        "one_hot_coded = np.array(one_hot_coded)\n",
        "print(one_hot_coded.shape)"
      ],
      "metadata": {
        "colab": {
          "base_uri": "https://localhost:8080/"
        },
        "id": "RNlHnTI1jBdH",
        "outputId": "0e5cce81-de0f-4346-be4d-41563cc94865"
      },
      "execution_count": 36,
      "outputs": [
        {
          "output_type": "stream",
          "name": "stdout",
          "text": [
            "(4, 10, 27)\n"
          ]
        }
      ]
    },
    {
      "cell_type": "code",
      "source": [
        "decoded = model4.predict(one_hot_coded)\n",
        "print(decoded.shape)"
      ],
      "metadata": {
        "colab": {
          "base_uri": "https://localhost:8080/"
        },
        "id": "8VvvWnInnblO",
        "outputId": "2765fea6-2b3f-419a-f54c-87b113dafbe7"
      },
      "execution_count": 38,
      "outputs": [
        {
          "output_type": "stream",
          "name": "stdout",
          "text": [
            "(4, 10, 27)\n"
          ]
        }
      ]
    },
    {
      "cell_type": "code",
      "source": [
        "max_prob = np.argmax(decoded, axis=-1)\n",
        "print(max_prob.shape)\n",
        "sentence = []\n",
        "for w in max_prob:\n",
        "  word = \"\"\n",
        "  for ch in w:\n",
        "    word += index_alpha[ch]\n",
        "  sentence.append(word)  "
      ],
      "metadata": {
        "colab": {
          "base_uri": "https://localhost:8080/"
        },
        "id": "67ZyWJIanuLc",
        "outputId": "19add3c8-7de6-4eb1-fe3b-788ceb0ef3af"
      },
      "execution_count": 44,
      "outputs": [
        {
          "output_type": "stream",
          "name": "stdout",
          "text": [
            "(4, 10)\n"
          ]
        }
      ]
    },
    {
      "cell_type": "code",
      "source": [
        "print(sentence)"
      ],
      "metadata": {
        "colab": {
          "base_uri": "https://localhost:8080/"
        },
        "id": "Y_NAcjPFpzSS",
        "outputId": "a64cf2b6-af2c-4dfa-c560-91a2c0da8e72"
      },
      "execution_count": 45,
      "outputs": [
        {
          "output_type": "stream",
          "name": "stdout",
          "text": [
            "['    i     ', '   love   ', 's deep    ', 'plearning ']\n"
          ]
        }
      ]
    }
  ]
}