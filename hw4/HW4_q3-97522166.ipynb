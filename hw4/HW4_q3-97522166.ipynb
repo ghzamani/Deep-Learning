{
  "nbformat": 4,
  "nbformat_minor": 0,
  "metadata": {
    "accelerator": "GPU",
    "colab": {
      "name": "DL-HW4-q3.ipynb",
      "provenance": [],
      "collapsed_sections": []
    },
    "kernelspec": {
      "display_name": "Python 3",
      "name": "python3"
    },
    "language_info": {
      "name": "python"
    }
  },
  "cells": [
    {
      "cell_type": "code",
      "metadata": {
        "id": "SIGR4LUC_Sns"
      },
      "source": [
        "import torch\n",
        "import torch.nn as nn\n",
        "import torch.nn.functional as F\n",
        "import torch.optim as optim\n",
        "from torch.optim import lr_scheduler\n",
        "import numpy as np\n",
        "import torchvision\n",
        "from torchvision import datasets, models, transforms"
      ],
      "execution_count": 7,
      "outputs": []
    },
    {
      "cell_type": "code",
      "metadata": {
        "colab": {
          "base_uri": "https://localhost:8080/"
        },
        "id": "7qBQkfAeBgvx",
        "outputId": "b5b65e23-f896-4414-eb06-4eb993eb44e5"
      },
      "source": [
        "transform = transforms.Compose([transforms.RandomHorizontalFlip(),                     # Horizontally flip the given image randomly with a given probability\n",
        "                                transforms.RandomResizedCrop((32, 32)),                # Crop a random portion of image and resize it to a given size\n",
        "                                transforms.RandomRotation(15),                         # Rotate the image by angle\n",
        "                                transforms.RandomAffine(0, shear=10, scale=(0.8,1.2)), # Random affine transformation of the image keeping center invariant\n",
        "                                transforms.RandomInvert(p=0.3),                        # Inverts the colors of the given image randomly with a given probability\n",
        "                                transforms.ToTensor(),\n",
        "                                transforms.Normalize((0.5, 0.5, 0.5), (0.5, 0.5, 0.5)) # Normalize\n",
        "                               ])\n",
        "\n",
        "transform_test = transforms.Compose([transforms.ToTensor(),\n",
        "                                     transforms.Normalize((0.5, 0.5, 0.5), (0.5, 0.5, 0.5))])\n",
        "\n",
        "batch_size = 4\n",
        "train_set = torchvision.datasets.CIFAR10(root='./data', train=True,\n",
        "                                         download=True, transform=transform)\n",
        "train_loader = torch.utils.data.DataLoader(train_set, batch_size=batch_size,\n",
        "                                           shuffle=True, num_workers=2)\n",
        "\n",
        "test_set = torchvision.datasets.CIFAR10(root='./data', train=False,\n",
        "                                         download=True, transform=transform_test)\n",
        "test_loader = torch.utils.data.DataLoader(test_set, batch_size=batch_size,\n",
        "                                           shuffle=False, num_workers=2)\n",
        "\n",
        "classes = ('plane', 'car', 'bird', 'cat', 'deer', 'dog', 'frog', 'horse', 'ship', 'truck')"
      ],
      "execution_count": 8,
      "outputs": [
        {
          "output_type": "stream",
          "name": "stdout",
          "text": [
            "Files already downloaded and verified\n",
            "Files already downloaded and verified\n"
          ]
        }
      ]
    },
    {
      "cell_type": "code",
      "metadata": {
        "colab": {
          "base_uri": "https://localhost:8080/"
        },
        "id": "nDYwIr6LzaF0",
        "outputId": "c1122df2-8cd1-4533-b89f-04a7e23a3f15"
      },
      "source": [
        "use_cuda = torch.cuda.is_available()\n",
        "device = torch.device(\"cuda\" if use_cuda else \"cpu\")\n",
        "print(\"using\", device)"
      ],
      "execution_count": 9,
      "outputs": [
        {
          "output_type": "stream",
          "name": "stdout",
          "text": [
            "using cuda\n"
          ]
        }
      ]
    },
    {
      "cell_type": "code",
      "metadata": {
        "colab": {
          "base_uri": "https://localhost:8080/"
        },
        "id": "dTRYrTSDEUWQ",
        "outputId": "d439478f-dce6-4346-bd5b-6af8a6cfc79c"
      },
      "source": [
        "class Network(nn.Module):\n",
        "  def __init__(self, n_in=3,\n",
        "               n_hidden1=4,\n",
        "               n_hidden2=8,\n",
        "               n_hidden3=16,\n",
        "               n_hidden4=32,\n",
        "               n_hidden5=64,\n",
        "               n_hidden6=128,\n",
        "               n_l1=1000,\n",
        "               n_l2=100,\n",
        "               n_output=10,\n",
        "               kernel_size_cnn=3,\n",
        "               kernel_size_pool=2,\n",
        "               p=0.2,\n",
        "               padding=1):\n",
        "    super().__init__()\n",
        "    self.conv_layer = nn.Sequential(\n",
        "        nn.Conv2d(n_in, n_hidden1, kernel_size_cnn, padding=padding), #(in_channels, out_channels, kernel_size)\n",
        "        nn.BatchNorm2d(n_hidden1), #(number of features)\n",
        "        nn.ReLU(),\n",
        "        nn.Conv2d(n_hidden1, n_hidden2, kernel_size_cnn, padding=padding),\n",
        "        nn.ReLU(),\n",
        "        nn.MaxPool2d(kernel_size_pool),\n",
        "\n",
        "        nn.Conv2d(n_hidden2, n_hidden3, kernel_size_cnn, padding=padding),\n",
        "        nn.BatchNorm2d(n_hidden3),\n",
        "        nn.ReLU(),\n",
        "        nn.Conv2d(n_hidden3, n_hidden4, kernel_size_cnn, padding=padding),\n",
        "        nn.ReLU(),\n",
        "        nn.MaxPool2d(kernel_size_pool),\n",
        "        nn.Dropout(p),\n",
        "\n",
        "        nn.Conv2d(n_hidden4, n_hidden5, kernel_size_cnn, padding=padding),\n",
        "        nn.BatchNorm2d(n_hidden5),\n",
        "        nn.ReLU(),\n",
        "        nn.Conv2d(n_hidden5, n_hidden6, kernel_size_cnn, padding=padding),\n",
        "        nn.ReLU(),\n",
        "        nn.MaxPool2d(kernel_size_pool), # output shape = (128, 4, 4)\n",
        "    )\n",
        "\n",
        "    self.fc_layer = nn.Sequential(\n",
        "        nn.Dropout(p),\n",
        "        nn.Flatten(),\n",
        "        nn.Linear(n_hidden6*4*4, n_l1),\n",
        "        nn.ReLU(),\n",
        "        nn.Linear(n_l1, n_l2),\n",
        "        nn.ReLU(),\n",
        "        nn.Dropout(p),\n",
        "        nn.Linear(n_l2, n_output)\n",
        "    )\n",
        "\n",
        "  def forward(self, x):\n",
        "    x = self.conv_layer(x)\n",
        "    x = self.fc_layer(x)\n",
        "\n",
        "    return x\n",
        "\n",
        "model = Network().to(device)\n",
        "print(model)"
      ],
      "execution_count": 10,
      "outputs": [
        {
          "output_type": "stream",
          "name": "stdout",
          "text": [
            "Network(\n",
            "  (conv_layer): Sequential(\n",
            "    (0): Conv2d(3, 4, kernel_size=(3, 3), stride=(1, 1), padding=(1, 1))\n",
            "    (1): BatchNorm2d(4, eps=1e-05, momentum=0.1, affine=True, track_running_stats=True)\n",
            "    (2): ReLU()\n",
            "    (3): Conv2d(4, 8, kernel_size=(3, 3), stride=(1, 1), padding=(1, 1))\n",
            "    (4): ReLU()\n",
            "    (5): MaxPool2d(kernel_size=2, stride=2, padding=0, dilation=1, ceil_mode=False)\n",
            "    (6): Conv2d(8, 16, kernel_size=(3, 3), stride=(1, 1), padding=(1, 1))\n",
            "    (7): BatchNorm2d(16, eps=1e-05, momentum=0.1, affine=True, track_running_stats=True)\n",
            "    (8): ReLU()\n",
            "    (9): Conv2d(16, 32, kernel_size=(3, 3), stride=(1, 1), padding=(1, 1))\n",
            "    (10): ReLU()\n",
            "    (11): MaxPool2d(kernel_size=2, stride=2, padding=0, dilation=1, ceil_mode=False)\n",
            "    (12): Dropout(p=0.2, inplace=False)\n",
            "    (13): Conv2d(32, 64, kernel_size=(3, 3), stride=(1, 1), padding=(1, 1))\n",
            "    (14): BatchNorm2d(64, eps=1e-05, momentum=0.1, affine=True, track_running_stats=True)\n",
            "    (15): ReLU()\n",
            "    (16): Conv2d(64, 128, kernel_size=(3, 3), stride=(1, 1), padding=(1, 1))\n",
            "    (17): ReLU()\n",
            "    (18): MaxPool2d(kernel_size=2, stride=2, padding=0, dilation=1, ceil_mode=False)\n",
            "  )\n",
            "  (fc_layer): Sequential(\n",
            "    (0): Dropout(p=0.2, inplace=False)\n",
            "    (1): Flatten(start_dim=1, end_dim=-1)\n",
            "    (2): Linear(in_features=2048, out_features=1000, bias=True)\n",
            "    (3): ReLU()\n",
            "    (4): Linear(in_features=1000, out_features=100, bias=True)\n",
            "    (5): ReLU()\n",
            "    (6): Dropout(p=0.2, inplace=False)\n",
            "    (7): Linear(in_features=100, out_features=10, bias=True)\n",
            "  )\n",
            ")\n"
          ]
        }
      ]
    },
    {
      "cell_type": "code",
      "metadata": {
        "id": "gP6ar5ihS1b9"
      },
      "source": [
        "loss_fn = nn.CrossEntropyLoss().to(device)\n",
        "optimizer = optim.Adam(model.parameters(), lr=0.001, weight_decay=0.005)"
      ],
      "execution_count": 16,
      "outputs": []
    },
    {
      "cell_type": "code",
      "metadata": {
        "colab": {
          "base_uri": "https://localhost:8080/"
        },
        "id": "MDEWyQfgR1Cc",
        "outputId": "1b4b5139-9728-4aca-9331-b2c1a477196e"
      },
      "source": [
        "def train(dataloader, model, loss_fn, optimizer):\n",
        "  size = len(dataloader.dataset)\n",
        "  correct = 0\n",
        "  model.train()\n",
        "  for batch, (x, y) in enumerate(dataloader):\n",
        "    x, y = x.to(device), y.to(device)\n",
        "    optimizer.zero_grad()\n",
        "\n",
        "    pred = model(x)\n",
        "    loss = loss_fn(pred, y)\n",
        "    \n",
        "    # Backpropagation\n",
        "    loss.backward()\n",
        "    optimizer.step()\n",
        "    \n",
        "    correct += (pred.argmax(1) == y).type(torch.float).sum().item()\n",
        "    if batch % 500 == 0:\n",
        "        loss, current = loss.item(), batch * batch_size\n",
        "        print(f\"loss: {loss:>7f}  [{current:>5d}/{size:>5d}]\")\n",
        "\n",
        "  print(f\"total train accuracy: {correct*100/size:>7f}\")\n",
        "\n",
        "def test(dataloader, model, loss_fn, optimizer):\n",
        "  correct_pred = {c: 0 for c in classes}\n",
        "  total = {c: 0 for c in classes}\n",
        "\n",
        "  model.eval()\n",
        "  with torch.no_grad():\n",
        "    for data in dataloader:\n",
        "      x, y = data\n",
        "      x, y = x.to(device), y.to(device)\n",
        "      out = model(x)\n",
        "      pred = out.argmax(1)\n",
        "      for y, pred in zip(y, pred):\n",
        "        if y == pred:\n",
        "          correct_pred[classes[y]] += 1\n",
        "        total[classes[y]] += 1\n",
        "  \n",
        "  # print results\n",
        "  for c in classes:\n",
        "    acc = float(correct_pred[c]) / total[c]\n",
        "    print(f\"Accuracy of {c}: {acc*100}%\")\n",
        "\n",
        "for epoch in range(2):\n",
        "  print(f\"Epoch {epoch+1}\\n-------------------------------\")\n",
        "  train(train_loader, model, loss_fn, optimizer)\n",
        "print('Finished Training')\n",
        "\n",
        "test(test_loader, model, loss_fn, optimizer)\n"
      ],
      "execution_count": 17,
      "outputs": [
        {
          "output_type": "stream",
          "name": "stdout",
          "text": [
            "Epoch 1\n",
            "-------------------------------\n",
            "loss: 2.275115  [    0/50000]\n",
            "loss: 1.925573  [ 2000/50000]\n",
            "loss: 1.852545  [ 4000/50000]\n",
            "loss: 2.354488  [ 6000/50000]\n",
            "loss: 1.852010  [ 8000/50000]\n",
            "loss: 1.970184  [10000/50000]\n",
            "loss: 1.995650  [12000/50000]\n",
            "loss: 2.248348  [14000/50000]\n",
            "loss: 2.021744  [16000/50000]\n",
            "loss: 2.040428  [18000/50000]\n",
            "loss: 2.993144  [20000/50000]\n",
            "loss: 2.113527  [22000/50000]\n",
            "loss: 2.301047  [24000/50000]\n",
            "loss: 1.972690  [26000/50000]\n",
            "loss: 2.044314  [28000/50000]\n",
            "loss: 2.266176  [30000/50000]\n",
            "loss: 2.218407  [32000/50000]\n",
            "loss: 2.179538  [34000/50000]\n",
            "loss: 1.844463  [36000/50000]\n",
            "loss: 1.995457  [38000/50000]\n",
            "loss: 1.576590  [40000/50000]\n",
            "loss: 2.082208  [42000/50000]\n",
            "loss: 1.965498  [44000/50000]\n",
            "loss: 2.110747  [46000/50000]\n",
            "loss: 2.166228  [48000/50000]\n",
            "total train accuracy: 22.540000\n",
            "Epoch 2\n",
            "-------------------------------\n",
            "loss: 2.030478  [    0/50000]\n",
            "loss: 2.009756  [ 2000/50000]\n",
            "loss: 1.941110  [ 4000/50000]\n",
            "loss: 1.688848  [ 6000/50000]\n",
            "loss: 2.260008  [ 8000/50000]\n",
            "loss: 2.044127  [10000/50000]\n",
            "loss: 2.182343  [12000/50000]\n",
            "loss: 2.850788  [14000/50000]\n",
            "loss: 2.150543  [16000/50000]\n",
            "loss: 1.973233  [18000/50000]\n",
            "loss: 2.249617  [20000/50000]\n",
            "loss: 2.428895  [22000/50000]\n",
            "loss: 2.457697  [24000/50000]\n",
            "loss: 1.954258  [26000/50000]\n",
            "loss: 1.852434  [28000/50000]\n",
            "loss: 1.731977  [30000/50000]\n",
            "loss: 2.197763  [32000/50000]\n",
            "loss: 2.090644  [34000/50000]\n",
            "loss: 2.131619  [36000/50000]\n",
            "loss: 1.742185  [38000/50000]\n",
            "loss: 2.040437  [40000/50000]\n",
            "loss: 2.114441  [42000/50000]\n",
            "loss: 2.561153  [44000/50000]\n",
            "loss: 1.843608  [46000/50000]\n",
            "loss: 2.004793  [48000/50000]\n",
            "total train accuracy: 22.818000\n",
            "Finished Training\n",
            "Accuracy of plane: 12.0%\n",
            "Accuracy of car: 70.5%\n",
            "Accuracy of bird: 3.5000000000000004%\n",
            "Accuracy of cat: 6.6000000000000005%\n",
            "Accuracy of deer: 42.8%\n",
            "Accuracy of dog: 54.7%\n",
            "Accuracy of frog: 16.5%\n",
            "Accuracy of horse: 49.0%\n",
            "Accuracy of ship: 58.5%\n",
            "Accuracy of truck: 9.6%\n"
          ]
        }
      ]
    }
  ]
}