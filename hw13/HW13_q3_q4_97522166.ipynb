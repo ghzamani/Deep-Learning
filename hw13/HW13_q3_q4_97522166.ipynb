{
  "cells": [
    {
      "cell_type": "code",
      "execution_count": null,
      "metadata": {
        "cellView": "form",
        "id": "05e4mKftC8BP"
      },
      "outputs": [],
      "source": [
        "#@title Student Information\n",
        "#@markdown Enter the following info and run the cell:\n",
        "Name = \"Ghazal ZamaniNejad\" #@param {type:\"string\"}\n",
        "StudentNumber = 97522166 #@param {type:\"integer\"}"
      ]
    },
    {
      "cell_type": "markdown",
      "metadata": {
        "id": "Tf-jnHngag-m"
      },
      "source": [
        "#Imports"
      ]
    },
    {
      "cell_type": "code",
      "execution_count": null,
      "metadata": {
        "id": "dJBzDr12K3bf"
      },
      "outputs": [],
      "source": [
        "%%capture\n",
        "!pip install transformers"
      ]
    },
    {
      "cell_type": "code",
      "execution_count": null,
      "metadata": {
        "id": "-0twGcAkFWiG"
      },
      "outputs": [],
      "source": [
        "import tensorflow as tf\n",
        "tf.config.run_functions_eagerly(True)\n",
        "import tensorflow_datasets as tfds\n",
        "\n",
        "from functools import reduce\n",
        "import tarfile\n",
        "import numpy as np\n",
        "import re\n",
        "\n",
        "import IPython\n",
        "from IPython.display import clear_output \n",
        "import matplotlib.pyplot as plt\n",
        "import pandas as pd\n",
        "\n",
        "from transformers import TFBertModel, BertTokenizer\n",
        "%matplotlib inline"
      ]
    },
    {
      "cell_type": "code",
      "execution_count": null,
      "metadata": {
        "colab": {
          "base_uri": "https://localhost:8080/"
        },
        "id": "FGw9iBLGU9Cu",
        "outputId": "6257bef7-eb0d-4b84-c296-fba5a809c29b"
      },
      "outputs": [
        {
          "output_type": "stream",
          "name": "stdout",
          "text": [
            "NVIDIA-SMI has failed because it couldn't communicate with the NVIDIA driver. Make sure that the latest NVIDIA driver is installed and running.\n",
            "\n"
          ]
        }
      ],
      "source": [
        "!nvidia-smi # check if gpu mode is selected"
      ]
    },
    {
      "cell_type": "markdown",
      "metadata": {
        "id": "2JqUZuEo8G_p"
      },
      "source": [
        "We will use a dataset consists of questions where a previously given single supporting fact, potentially amongst a set of other irrelevant facts, provides the answer. We first test one of the simplest cases of this, by asking for the location of a person, e.g. “$Mary$ $travelled$ $to$ $the$ $office.$ $Where$ $is$ $Mary?$”. It can be considered the\n",
        "simplest case of some real world QA datasets."
      ]
    },
    {
      "cell_type": "markdown",
      "metadata": {
        "id": "KsvVnfvfGnib"
      },
      "source": [
        "About the dataset: https://research.fb.com/downloads/babi/"
      ]
    },
    {
      "cell_type": "markdown",
      "metadata": {
        "id": "-OlahJ1OrKjd"
      },
      "source": [
        "Lets download the dataset:"
      ]
    },
    {
      "cell_type": "markdown",
      "metadata": {
        "id": "h_dp3WT7FW8E"
      },
      "source": [
        "# 1. LSTM- Q&A\n",
        "\n"
      ]
    },
    {
      "cell_type": "markdown",
      "metadata": {
        "id": "259V3MeC9G55"
      },
      "source": [
        "## 1.2 Preprocessing"
      ]
    },
    {
      "cell_type": "markdown",
      "metadata": {
        "id": "4u_xDAfovXf7"
      },
      "source": [
        "Our model takes a discrete set of inputs $x_{1}, ..., x_{n}$ that are to be stored in the memory, a query $q$, and outputs an answer $a$. Each of the $x_{i}$, $q$, and $a$ contains symbols coming from a dictionary with $V$ words. The model writes all $x$ to the memory up to a fixed buffer size, and then finds a continuous representation for the $x$ and $q$. The continuous representation is then processed via multiple hops to\n",
        "output $a$. This allows backpropagation of the error signal through multiple memory accesses back to the input during training. The overall model is shown in the next figure. During training, all three embedding matrices $A, B$ and $C$, as well as $W$ are jointly learned by minimizing a standard cross-entropy loss between $aˆ$ and the true\n",
        "label $a$. Training is performed using stochastic gradient descent.\n",
        "\n",
        "\n",
        "Delve more deeply into the details: https://arxiv.org/pdf/1503.08895.pdf"
      ]
    },
    {
      "cell_type": "code",
      "execution_count": null,
      "metadata": {
        "id": "Tx-wpcdQJfpk"
      },
      "outputs": [],
      "source": [
        "%%capture\n",
        "!wget https://s3.amazonaws.com/text-datasets/babi_tasks_1-20_v1-2.tar.gz\n",
        "!tar -xvzf babi_tasks_1-20_v1-2.tar.gz"
      ]
    },
    {
      "cell_type": "code",
      "execution_count": null,
      "metadata": {
        "id": "tBYgDigJanwz"
      },
      "outputs": [],
      "source": [
        "challenges = [\n",
        "    'qa1_single-supporting-fact',\n",
        "    'qa2_two-supporting-facts',\n",
        "]\n",
        "train_file_path = f'/content/tasks_1-20_v1-2/en-10k/{challenges[0]}_train.txt'\n",
        "test_file_path = f'/content/tasks_1-20_v1-2/en-10k/{challenges[0]}_test.txt'"
      ]
    },
    {
      "cell_type": "code",
      "execution_count": null,
      "metadata": {
        "id": "JCBfH4qrrKjL"
      },
      "outputs": [],
      "source": [
        "def word_tokenizer(sent):\n",
        "    return [ x.strip() for x in re.split('(\\W+)', sent) if x.strip()]"
      ]
    },
    {
      "cell_type": "markdown",
      "metadata": {
        "id": "_WLJmevS-Dy6"
      },
      "source": [
        "According to the dataset (bAbi tasks), we need to prepare the data for training the model. With the next function we parse the dataset and manufactore it in desired way."
      ]
    },
    {
      "cell_type": "code",
      "execution_count": null,
      "metadata": {
        "id": "tzksSX8drKjP"
      },
      "outputs": [],
      "source": [
        "def parse_stories(lines, only_supporting=False, tokenize = True):\n",
        "    '''Parse stories provided in the bAbi tasks format\n",
        "    If only_supporting is true, only the sentences\n",
        "    that support the answer are kept.\n",
        "    '''\n",
        "    data = []\n",
        "    story = []\n",
        "    for line in lines:\n",
        "        line = line.strip()\n",
        "        nid, line = line.split(' ', 1)\n",
        "        nid = int(nid)\n",
        "        \n",
        "        if nid == 1:\n",
        "            story = []\n",
        "        if '\\t' in line:\n",
        "            q, a, supporting = line.split('\\t')\n",
        "            if tokenize:\n",
        "                q = word_tokenizer(q)\n",
        "            substory = None\n",
        "            if only_supporting:\n",
        "                # Only select the related substory\n",
        "                supporting = map(int, supporting.split())\n",
        "                substory = [story[i - 1] for i in supporting]\n",
        "            else:\n",
        "                # Provide all the substories\n",
        "                substory = [x for x in story if x]\n",
        "            data.append((substory, q, a))\n",
        "            story.append('')\n",
        "        else:\n",
        "            if tokenize:\n",
        "                sent = word_tokenizer(line)\n",
        "            else:\n",
        "                sent = line\n",
        "            story.append(sent)\n",
        "    return data\n"
      ]
    },
    {
      "cell_type": "markdown",
      "metadata": {
        "id": "FwkiTJYRJvPe"
      },
      "source": [
        "Now we need to take proper structure of the data: "
      ]
    },
    {
      "cell_type": "code",
      "execution_count": null,
      "metadata": {
        "id": "kBc_rzF-rKjT"
      },
      "outputs": [],
      "source": [
        "def get_stories(f, only_supporting=False, max_length=None, tokenize=True):\n",
        "    data = parse_stories(f.readlines(), only_supporting=only_supporting, tokenize=tokenize)\n",
        "    flatten = lambda data: reduce(lambda x, y: x + y, data)\n",
        "    data = [(story[0]+story[1], q, answer) for story, q, answer in data if not max_length or len(flatten(story)) < max_length]\n",
        "    return data"
      ]
    },
    {
      "cell_type": "markdown",
      "metadata": {
        "id": "FivvTCc8J-GW"
      },
      "source": [
        "Here we need to make the vectors of stories, questions and answers. its too easy:"
      ]
    },
    {
      "cell_type": "code",
      "execution_count": null,
      "metadata": {
        "id": "BzEnmDN_rKjW"
      },
      "outputs": [],
      "source": [
        "def vectorize_stories(data, word_idx, story_maxlen, query_maxlen):\n",
        "  \n",
        "    ########################################\n",
        "    #     Put your implementation here     #\n",
        "    ########################################\n",
        "    inputs_train = []\n",
        "    queries_train = []\n",
        "    answers_train = []\n",
        "\n",
        "    for d in data:\n",
        "      story, query, answer = d\n",
        "      \n",
        "      story_vec = np.zeros(story_maxlen)\n",
        "      for i in range(len(story)):\n",
        "        story_vec[i] = word_idx[story[i]]\n",
        "      inputs_train.append(np.array(story_vec))\n",
        "\n",
        "      query_vec = np.zeros(query_maxlen)\n",
        "      for i in range(len(query)):\n",
        "        query_vec[i] = word_idx[query[i]]\n",
        "      queries_train.append(query_vec)\n",
        "      \n",
        "      ans_vec = np.zeros(len(word_idx) + 1)\n",
        "      ans_num = word_idx[answer]\n",
        "      ans_vec[ans_num] = 1\n",
        "      answers_train.append(ans_vec)\n",
        "      \n",
        "    return np.array(inputs_train), np.array(queries_train), np.array(answers_train)"
      ]
    },
    {
      "cell_type": "markdown",
      "metadata": {
        "id": "B77myra2ZJYK"
      },
      "source": [
        "Its time to extract stories from the dataset, then pass them to the defined functions for parsing and make it usable:"
      ]
    },
    {
      "cell_type": "code",
      "execution_count": null,
      "metadata": {
        "id": "Akcwoo3frKjj"
      },
      "outputs": [],
      "source": [
        "train_stories = get_stories(open(train_file_path), tokenize=True)\n",
        "test_stories = get_stories(open(test_file_path), tokenize=True)"
      ]
    },
    {
      "cell_type": "code",
      "execution_count": null,
      "metadata": {
        "colab": {
          "base_uri": "https://localhost:8080/"
        },
        "id": "kyiMaVRirKjm",
        "outputId": "4f43ee71-70e5-47dd-eb42-a300cc9e91eb"
      },
      "outputs": [
        {
          "output_type": "execute_result",
          "data": {
            "text/plain": [
              "(10000, 1000)"
            ]
          },
          "metadata": {},
          "execution_count": 11
        }
      ],
      "source": [
        "len(train_stories), len(test_stories)"
      ]
    },
    {
      "cell_type": "markdown",
      "metadata": {
        "id": "YpXH9iYQrKjq"
      },
      "source": [
        "## 1.3 Check our helper functions and prepare the data:"
      ]
    },
    {
      "cell_type": "code",
      "execution_count": null,
      "metadata": {
        "id": "29110FTDrKjr"
      },
      "outputs": [],
      "source": [
        "vocab = set()\n",
        "for story, q, answer in train_stories + test_stories:\n",
        "    vocab |= set(story + q + [answer])\n",
        "vocab = sorted(vocab)\n",
        "\n",
        "# Reserve 0 for masking via pad_sequences\n",
        "vocab_size = len(vocab) + 1\n",
        "story_maxlen = max(map(len, (x for x, _, _ in train_stories + test_stories)))\n",
        "query_maxlen = max(map(len, (x for _, x, _ in train_stories + test_stories)))"
      ]
    },
    {
      "cell_type": "code",
      "execution_count": null,
      "metadata": {
        "colab": {
          "base_uri": "https://localhost:8080/"
        },
        "id": "PopB46hnrKju",
        "outputId": "b6f0c16b-d6f5-4536-8498-35e76a5a439f"
      },
      "outputs": [
        {
          "output_type": "execute_result",
          "data": {
            "text/plain": [
              "(14, 4)"
            ]
          },
          "metadata": {},
          "execution_count": 13
        }
      ],
      "source": [
        "story_maxlen, query_maxlen"
      ]
    },
    {
      "cell_type": "code",
      "execution_count": null,
      "metadata": {
        "colab": {
          "base_uri": "https://localhost:8080/"
        },
        "id": "q-G22KfxrKjy",
        "outputId": "727c98ca-1c40-47f8-b82b-330a00627051"
      },
      "outputs": [
        {
          "output_type": "stream",
          "name": "stdout",
          "text": [
            "-\n",
            "Vocab size: 22 unique words\n",
            "Story max length: 14 words\n",
            "Query max length: 4 words\n",
            "Number of training stories: 10000\n",
            "Number of test stories: 1000\n",
            "-\n",
            "Here's what a \"story\" tuple looks like (input, query, answer):\n",
            "(['Mary', 'moved', 'to', 'the', 'bathroom', '.', 'John', 'went', 'to', 'the', 'hallway', '.'], ['Where', 'is', 'Mary', '?'], 'bathroom')\n",
            "-\n",
            "Vectorizing the word sequences...\n"
          ]
        }
      ],
      "source": [
        "print('-')\n",
        "print('Vocab size:', vocab_size, 'unique words')\n",
        "print('Story max length:', story_maxlen, 'words')\n",
        "print('Query max length:', query_maxlen, 'words')\n",
        "print('Number of training stories:', len(train_stories))\n",
        "print('Number of test stories:', len(test_stories))\n",
        "print('-')\n",
        "print('Here\\'s what a \"story\" tuple looks like (input, query, answer):')\n",
        "print(train_stories[0])\n",
        "print('-')\n",
        "print('Vectorizing the word sequences...')\n",
        "\n",
        "word_idx = dict((c, i + 1) for i, c in enumerate(vocab))\n",
        "idx_word = dict((i+1, c) for i,c in enumerate(vocab))\n",
        "inputs_train, queries_train, answers_train = vectorize_stories(train_stories,\n",
        "                                                               word_idx,\n",
        "                                                               story_maxlen,\n",
        "                                                               query_maxlen)\n",
        "inputs_test, queries_test, answers_test = vectorize_stories(test_stories,\n",
        "                                                            word_idx,\n",
        "                                                            story_maxlen,\n",
        "                                                            query_maxlen)\n"
      ]
    },
    {
      "cell_type": "code",
      "execution_count": null,
      "metadata": {
        "colab": {
          "base_uri": "https://localhost:8080/"
        },
        "id": "oMnIXlTBrKj1",
        "outputId": "1d6b552d-c9a8-418c-f9a8-dffe60cc3474"
      },
      "outputs": [
        {
          "output_type": "execute_result",
          "data": {
            "text/plain": [
              "((10000, 14), (10000, 4), (10000, 22))"
            ]
          },
          "metadata": {},
          "execution_count": 33
        }
      ],
      "source": [
        "inputs_train.shape, queries_train.shape, answers_train.shape"
      ]
    },
    {
      "cell_type": "code",
      "execution_count": null,
      "metadata": {
        "colab": {
          "base_uri": "https://localhost:8080/"
        },
        "id": "d4lNOEBkrKj5",
        "outputId": "6c82fa5b-7c33-43f8-f98f-f9a44e291e26"
      },
      "outputs": [
        {
          "output_type": "stream",
          "name": "stdout",
          "text": [
            "-\n",
            "inputs: integer tensor of shape (samples, max_length)\n",
            "inputs_train shape: (10000, 14)\n",
            "inputs_test shape: (1000, 14)\n",
            "-\n",
            "queries: integer tensor of shape (samples, max_length)\n",
            "queries_train shape: (10000, 4)\n",
            "queries_test shape: (1000, 4)\n",
            "-\n",
            "answers: binary (1 or 0) tensor of shape (samples, vocab_size)\n",
            "answers_train shape: (10000, 22)\n",
            "answers_test shape: (1000, 22)\n",
            "-\n",
            "Compiling...\n"
          ]
        }
      ],
      "source": [
        "print('-')\n",
        "print('inputs: integer tensor of shape (samples, max_length)')\n",
        "print('inputs_train shape:', inputs_train.shape)\n",
        "print('inputs_test shape:', inputs_test.shape)\n",
        "print('-')\n",
        "print('queries: integer tensor of shape (samples, max_length)')\n",
        "print('queries_train shape:', queries_train.shape)\n",
        "print('queries_test shape:', queries_test.shape)\n",
        "print('-')\n",
        "print('answers: binary (1 or 0) tensor of shape (samples, vocab_size)')\n",
        "print('answers_train shape:', answers_train.shape)\n",
        "print('answers_test shape:', answers_test.shape)\n",
        "print('-')\n",
        "print('Compiling...')\n"
      ]
    },
    {
      "cell_type": "markdown",
      "metadata": {
        "id": "tvyawLqgfz_N"
      },
      "source": [
        "In this part you should implement 2 functions which illustrate the procedure of learning, Loss and Accuracy. These functions take two inputs: \n",
        "* The history of your designed model \n",
        "* Proper title for describing the plot"
      ]
    },
    {
      "cell_type": "code",
      "execution_count": null,
      "metadata": {
        "id": "g8Ya5e3e3OWG"
      },
      "outputs": [],
      "source": [
        "def plot_acc(history, title):\n",
        "  \n",
        "  # This function should show not only the plot of accuracy on training and validation set\n",
        "  # but also it should show the maximum value of accuracy with its related epoch.\n",
        "  ########################################\n",
        "  #     Put your implementation here     #\n",
        "  ########################################\n",
        "  plt.plot(history.history['accuracy'],label=\"train_accuracy\")\n",
        "  plt.plot(history.history['val_accuracy'],label=\"validation_accuracy\")\n",
        "  plt.xlabel(\"epoch\")\n",
        "  plt.ylabel(title)\n",
        "  plt.legend()\n",
        "  plt.tight_layout()\n",
        "  plt.show()"
      ]
    },
    {
      "cell_type": "code",
      "execution_count": null,
      "metadata": {
        "id": "pA9BBcEP3Hym"
      },
      "outputs": [],
      "source": [
        "def plot_loss(history, title):\n",
        "  \n",
        "  # This function should show not only the plot of loss on training and validation set\n",
        "  # but also it should show the minimum value of loss with its related epoch.\n",
        "  ########################################\n",
        "  #     Put your implementation here     #\n",
        "  ########################################\n",
        "  plt.plot(history.history['loss'],label=\"train_loss\")\n",
        "  plt.plot(history.history['val_loss'],label=\"validation_loss\")\n",
        "  plt.xlabel(\"epoch\")\n",
        "  plt.ylabel(title)\n",
        "  plt.legend()\n",
        "  plt.tight_layout()\n",
        "  plt.show()"
      ]
    },
    {
      "cell_type": "markdown",
      "metadata": {
        "id": "cMxMeM78xBT8"
      },
      "source": [
        "Define model's hyperparameters"
      ]
    },
    {
      "cell_type": "code",
      "execution_count": null,
      "metadata": {
        "id": "p6-mw90LrKj9"
      },
      "outputs": [],
      "source": [
        "train_epochs = 10\n",
        "batch_size = 32\n",
        "lstm_size = 32"
      ]
    },
    {
      "cell_type": "markdown",
      "metadata": {
        "id": "4G5X8ksgrKkA"
      },
      "source": [
        "## 1.4 Implementstion:"
      ]
    },
    {
      "cell_type": "markdown",
      "metadata": {
        "id": "ayB5NMoI-Sh-"
      },
      "source": [
        "Let's build the model. You should use Keras framework. The summary and outview of the right model is saved in the next cells to help you create the proper model faster.\n"
      ]
    },
    {
      "cell_type": "code",
      "execution_count": null,
      "metadata": {
        "id": "2UNREQ9rrKkB",
        "colab": {
          "base_uri": "https://localhost:8080/"
        },
        "outputId": "f6f7353a-1266-442f-d239-74f8bc334fed"
      },
      "outputs": [
        {
          "output_type": "stream",
          "name": "stdout",
          "text": [
            "Input sequence: KerasTensor(type_spec=TensorSpec(shape=(None, 14), dtype=tf.float32, name='input_3'), name='input_3', description=\"created by layer 'input_3'\")\n",
            "Question: KerasTensor(type_spec=TensorSpec(shape=(None, 4), dtype=tf.float32, name='input_4'), name='input_4', description=\"created by layer 'input_4'\")\n"
          ]
        }
      ],
      "source": [
        "from tensorflow.keras.layers import Embedding, Dot, Activation, Permute, Concatenate, LSTM, Dropout, Dense, Add\n",
        "from tensorflow.keras import Sequential\n",
        "\n",
        "# define the model: \n",
        "input_sequence = tf.keras.layers.Input((story_maxlen,))\n",
        "question = tf.keras.layers.Input((query_maxlen,))\n",
        "\n",
        "print('Input sequence:', input_sequence)\n",
        "print('Question:', question)\n",
        "\n",
        "########################################\n",
        "#     Put your implementation here     #\n",
        "########################################\n",
        "sequential1 = Sequential([Embedding(vocab_size, 64)])(input_sequence)\n",
        "sequential2 = Sequential([Embedding(vocab_size, 4)])(input_sequence)\n",
        "sequential3 = Sequential([Embedding(vocab_size, 64)])(question)\n",
        "dot = Dot(axes=(2, 2))([sequential1, sequential3])\n",
        "activation = Activation('relu')(dot)\n",
        "add = Add()([activation, sequential2])\n",
        "permute = Permute((2, 1))(add)\n",
        "concat = Concatenate()([permute, sequential3])\n",
        "lstm = LSTM(lstm_size)(concat)\n",
        "dropout = Dropout(0.1)(lstm)\n",
        "dense = Dense(vocab_size)(dropout)\n",
        "answer = Activation('softmax')(dense)"
      ]
    },
    {
      "cell_type": "code",
      "execution_count": null,
      "metadata": {
        "id": "WUvfDiLkrKkF"
      },
      "outputs": [],
      "source": [
        "# build the final model\n",
        "model = tf.keras.models.Model([input_sequence, question], answer)\n",
        "model.compile(optimizer='rmsprop', loss='categorical_crossentropy',\n",
        "              metrics=['accuracy'])"
      ]
    },
    {
      "cell_type": "markdown",
      "metadata": {
        "id": "UFqPorzN_9Lv"
      },
      "source": [
        "The model architecture should look like this:"
      ]
    },
    {
      "cell_type": "code",
      "execution_count": null,
      "metadata": {
        "colab": {
          "base_uri": "https://localhost:8080/",
          "height": 1000
        },
        "id": "aX6c1qWQ0iMX",
        "outputId": "e03a6935-f273-4958-bca3-d37d8ecc1972"
      },
      "outputs": [
        {
          "output_type": "execute_result",
          "data": {
            "text/plain": [
              "<IPython.core.display.SVG object>"
            ],
            "image/svg+xml": "<svg height=\"737pt\" viewBox=\"0.00 0.00 905.00 885.00\" width=\"754pt\" xmlns=\"http://www.w3.org/2000/svg\" xmlns:xlink=\"http://www.w3.org/1999/xlink\">\n<g class=\"graph\" id=\"graph0\" transform=\"scale(.8333 .8333) rotate(0) translate(4 881)\">\n<title>G</title>\n<polygon fill=\"#ffffff\" points=\"-4,4 -4,-881 901,-881 901,4 -4,4\" stroke=\"transparent\"/>\n<!-- 139672945679120 -->\n<g class=\"node\" id=\"node1\">\n<title>139672945679120</title>\n<polygon fill=\"none\" points=\"121,-830.5 121,-876.5 410,-876.5 410,-830.5 121,-830.5\" stroke=\"#000000\"/>\n<text fill=\"#000000\" font-family=\"Times,serif\" font-size=\"14.00\" text-anchor=\"middle\" x=\"152\" y=\"-849.8\">input_3</text>\n<polyline fill=\"none\" points=\"183,-830.5 183,-876.5 \" stroke=\"#000000\"/>\n<text fill=\"#000000\" font-family=\"Times,serif\" font-size=\"14.00\" text-anchor=\"middle\" x=\"223\" y=\"-849.8\">InputLayer</text>\n<polyline fill=\"none\" points=\"263,-830.5 263,-876.5 \" stroke=\"#000000\"/>\n<text fill=\"#000000\" font-family=\"Times,serif\" font-size=\"14.00\" text-anchor=\"middle\" x=\"292\" y=\"-861.3\">input:</text>\n<polyline fill=\"none\" points=\"263,-853.5 321,-853.5 \" stroke=\"#000000\"/>\n<text fill=\"#000000\" font-family=\"Times,serif\" font-size=\"14.00\" text-anchor=\"middle\" x=\"292\" y=\"-838.3\">output:</text>\n<polyline fill=\"none\" points=\"321,-830.5 321,-876.5 \" stroke=\"#000000\"/>\n<text fill=\"#000000\" font-family=\"Times,serif\" font-size=\"14.00\" text-anchor=\"middle\" x=\"365.5\" y=\"-861.3\">[(None, 14)]</text>\n<polyline fill=\"none\" points=\"321,-853.5 410,-853.5 \" stroke=\"#000000\"/>\n<text fill=\"#000000\" font-family=\"Times,serif\" font-size=\"14.00\" text-anchor=\"middle\" x=\"365.5\" y=\"-838.3\">[(None, 14)]</text>\n</g>\n<!-- 139672943974352 -->\n<g class=\"node\" id=\"node3\">\n<title>139672943974352</title>\n<polygon fill=\"none\" points=\"193,-747.5 193,-793.5 536,-793.5 536,-747.5 193,-747.5\" stroke=\"#000000\"/>\n<text fill=\"#000000\" font-family=\"Times,serif\" font-size=\"14.00\" text-anchor=\"middle\" x=\"237.5\" y=\"-766.8\">sequential_3</text>\n<polyline fill=\"none\" points=\"282,-747.5 282,-793.5 \" stroke=\"#000000\"/>\n<text fill=\"#000000\" font-family=\"Times,serif\" font-size=\"14.00\" text-anchor=\"middle\" x=\"320.5\" y=\"-766.8\">Sequential</text>\n<polyline fill=\"none\" points=\"359,-747.5 359,-793.5 \" stroke=\"#000000\"/>\n<text fill=\"#000000\" font-family=\"Times,serif\" font-size=\"14.00\" text-anchor=\"middle\" x=\"388\" y=\"-778.3\">input:</text>\n<polyline fill=\"none\" points=\"359,-770.5 417,-770.5 \" stroke=\"#000000\"/>\n<text fill=\"#000000\" font-family=\"Times,serif\" font-size=\"14.00\" text-anchor=\"middle\" x=\"388\" y=\"-755.3\">output:</text>\n<polyline fill=\"none\" points=\"417,-747.5 417,-793.5 \" stroke=\"#000000\"/>\n<text fill=\"#000000\" font-family=\"Times,serif\" font-size=\"14.00\" text-anchor=\"middle\" x=\"476.5\" y=\"-778.3\">(None, None)</text>\n<polyline fill=\"none\" points=\"417,-770.5 536,-770.5 \" stroke=\"#000000\"/>\n<text fill=\"#000000\" font-family=\"Times,serif\" font-size=\"14.00\" text-anchor=\"middle\" x=\"476.5\" y=\"-755.3\">(None, None, 64)</text>\n</g>\n<!-- 139672945679120&#45;&gt;139672943974352 -->\n<g class=\"edge\" id=\"edge1\">\n<title>139672945679120-&gt;139672943974352</title>\n<path d=\"M293.077,-830.3799C304.1407,-821.1043 317.0354,-810.2936 328.7999,-800.4304\" fill=\"none\" stroke=\"#000000\"/>\n<polygon fill=\"#000000\" points=\"331.313,-802.8908 336.7275,-793.784 326.8157,-797.5266 331.313,-802.8908\" stroke=\"#000000\"/>\n</g>\n<!-- 139672943988880 -->\n<g class=\"node\" id=\"node7\">\n<title>139672943988880</title>\n<polygon fill=\"none\" points=\"0,-664.5 0,-710.5 335,-710.5 335,-664.5 0,-664.5\" stroke=\"#000000\"/>\n<text fill=\"#000000\" font-family=\"Times,serif\" font-size=\"14.00\" text-anchor=\"middle\" x=\"44.5\" y=\"-683.8\">sequential_4</text>\n<polyline fill=\"none\" points=\"89,-664.5 89,-710.5 \" stroke=\"#000000\"/>\n<text fill=\"#000000\" font-family=\"Times,serif\" font-size=\"14.00\" text-anchor=\"middle\" x=\"127.5\" y=\"-683.8\">Sequential</text>\n<polyline fill=\"none\" points=\"166,-664.5 166,-710.5 \" stroke=\"#000000\"/>\n<text fill=\"#000000\" font-family=\"Times,serif\" font-size=\"14.00\" text-anchor=\"middle\" x=\"195\" y=\"-695.3\">input:</text>\n<polyline fill=\"none\" points=\"166,-687.5 224,-687.5 \" stroke=\"#000000\"/>\n<text fill=\"#000000\" font-family=\"Times,serif\" font-size=\"14.00\" text-anchor=\"middle\" x=\"195\" y=\"-672.3\">output:</text>\n<polyline fill=\"none\" points=\"224,-664.5 224,-710.5 \" stroke=\"#000000\"/>\n<text fill=\"#000000\" font-family=\"Times,serif\" font-size=\"14.00\" text-anchor=\"middle\" x=\"279.5\" y=\"-695.3\">(None, None)</text>\n<polyline fill=\"none\" points=\"224,-687.5 335,-687.5 \" stroke=\"#000000\"/>\n<text fill=\"#000000\" font-family=\"Times,serif\" font-size=\"14.00\" text-anchor=\"middle\" x=\"279.5\" y=\"-672.3\">(None, None, 4)</text>\n</g>\n<!-- 139672945679120&#45;&gt;139672943988880 -->\n<g class=\"edge\" id=\"edge6\">\n<title>139672945679120-&gt;139672943988880</title>\n<path d=\"M220.5803,-830.3156C206.5673,-820.902 192.4524,-808.7301 183.5,-794 170.2314,-772.168 166.5689,-743.3008 166.0379,-721.1283\" fill=\"none\" stroke=\"#000000\"/>\n<polygon fill=\"#000000\" points=\"169.537,-720.8287 166.0005,-710.8415 162.537,-720.8542 169.537,-720.8287\" stroke=\"#000000\"/>\n</g>\n<!-- 139672944000720 -->\n<g class=\"node\" id=\"node2\">\n<title>139672944000720</title>\n<polygon fill=\"none\" points=\"585,-830.5 585,-876.5 866,-876.5 866,-830.5 585,-830.5\" stroke=\"#000000\"/>\n<text fill=\"#000000\" font-family=\"Times,serif\" font-size=\"14.00\" text-anchor=\"middle\" x=\"616\" y=\"-849.8\">input_4</text>\n<polyline fill=\"none\" points=\"647,-830.5 647,-876.5 \" stroke=\"#000000\"/>\n<text fill=\"#000000\" font-family=\"Times,serif\" font-size=\"14.00\" text-anchor=\"middle\" x=\"687\" y=\"-849.8\">InputLayer</text>\n<polyline fill=\"none\" points=\"727,-830.5 727,-876.5 \" stroke=\"#000000\"/>\n<text fill=\"#000000\" font-family=\"Times,serif\" font-size=\"14.00\" text-anchor=\"middle\" x=\"756\" y=\"-861.3\">input:</text>\n<polyline fill=\"none\" points=\"727,-853.5 785,-853.5 \" stroke=\"#000000\"/>\n<text fill=\"#000000\" font-family=\"Times,serif\" font-size=\"14.00\" text-anchor=\"middle\" x=\"756\" y=\"-838.3\">output:</text>\n<polyline fill=\"none\" points=\"785,-830.5 785,-876.5 \" stroke=\"#000000\"/>\n<text fill=\"#000000\" font-family=\"Times,serif\" font-size=\"14.00\" text-anchor=\"middle\" x=\"825.5\" y=\"-861.3\">[(None, 4)]</text>\n<polyline fill=\"none\" points=\"785,-853.5 866,-853.5 \" stroke=\"#000000\"/>\n<text fill=\"#000000\" font-family=\"Times,serif\" font-size=\"14.00\" text-anchor=\"middle\" x=\"825.5\" y=\"-838.3\">[(None, 4)]</text>\n</g>\n<!-- 139672945530576 -->\n<g class=\"node\" id=\"node4\">\n<title>139672945530576</title>\n<polygon fill=\"none\" points=\"554,-747.5 554,-793.5 897,-793.5 897,-747.5 554,-747.5\" stroke=\"#000000\"/>\n<text fill=\"#000000\" font-family=\"Times,serif\" font-size=\"14.00\" text-anchor=\"middle\" x=\"598.5\" y=\"-766.8\">sequential_5</text>\n<polyline fill=\"none\" points=\"643,-747.5 643,-793.5 \" stroke=\"#000000\"/>\n<text fill=\"#000000\" font-family=\"Times,serif\" font-size=\"14.00\" text-anchor=\"middle\" x=\"681.5\" y=\"-766.8\">Sequential</text>\n<polyline fill=\"none\" points=\"720,-747.5 720,-793.5 \" stroke=\"#000000\"/>\n<text fill=\"#000000\" font-family=\"Times,serif\" font-size=\"14.00\" text-anchor=\"middle\" x=\"749\" y=\"-778.3\">input:</text>\n<polyline fill=\"none\" points=\"720,-770.5 778,-770.5 \" stroke=\"#000000\"/>\n<text fill=\"#000000\" font-family=\"Times,serif\" font-size=\"14.00\" text-anchor=\"middle\" x=\"749\" y=\"-755.3\">output:</text>\n<polyline fill=\"none\" points=\"778,-747.5 778,-793.5 \" stroke=\"#000000\"/>\n<text fill=\"#000000\" font-family=\"Times,serif\" font-size=\"14.00\" text-anchor=\"middle\" x=\"837.5\" y=\"-778.3\">(None, None)</text>\n<polyline fill=\"none\" points=\"778,-770.5 897,-770.5 \" stroke=\"#000000\"/>\n<text fill=\"#000000\" font-family=\"Times,serif\" font-size=\"14.00\" text-anchor=\"middle\" x=\"837.5\" y=\"-755.3\">(None, None, 64)</text>\n</g>\n<!-- 139672944000720&#45;&gt;139672945530576 -->\n<g class=\"edge\" id=\"edge2\">\n<title>139672944000720-&gt;139672945530576</title>\n<path d=\"M725.5,-830.3799C725.5,-822.1745 725.5,-812.7679 725.5,-803.8786\" fill=\"none\" stroke=\"#000000\"/>\n<polygon fill=\"#000000\" points=\"729.0001,-803.784 725.5,-793.784 722.0001,-803.784 729.0001,-803.784\" stroke=\"#000000\"/>\n</g>\n<!-- 139672945173584 -->\n<g class=\"node\" id=\"node5\">\n<title>139672945173584</title>\n<polygon fill=\"none\" points=\"353,-664.5 353,-710.5 696,-710.5 696,-664.5 353,-664.5\" stroke=\"#000000\"/>\n<text fill=\"#000000\" font-family=\"Times,serif\" font-size=\"14.00\" text-anchor=\"middle\" x=\"378\" y=\"-683.8\">dot_1</text>\n<polyline fill=\"none\" points=\"403,-664.5 403,-710.5 \" stroke=\"#000000\"/>\n<text fill=\"#000000\" font-family=\"Times,serif\" font-size=\"14.00\" text-anchor=\"middle\" x=\"422\" y=\"-683.8\">Dot</text>\n<polyline fill=\"none\" points=\"441,-664.5 441,-710.5 \" stroke=\"#000000\"/>\n<text fill=\"#000000\" font-family=\"Times,serif\" font-size=\"14.00\" text-anchor=\"middle\" x=\"470\" y=\"-695.3\">input:</text>\n<polyline fill=\"none\" points=\"441,-687.5 499,-687.5 \" stroke=\"#000000\"/>\n<text fill=\"#000000\" font-family=\"Times,serif\" font-size=\"14.00\" text-anchor=\"middle\" x=\"470\" y=\"-672.3\">output:</text>\n<polyline fill=\"none\" points=\"499,-664.5 499,-710.5 \" stroke=\"#000000\"/>\n<text fill=\"#000000\" font-family=\"Times,serif\" font-size=\"14.00\" text-anchor=\"middle\" x=\"597.5\" y=\"-695.3\">[(None, 14, 64), (None, 4, 64)]</text>\n<polyline fill=\"none\" points=\"499,-687.5 696,-687.5 \" stroke=\"#000000\"/>\n<text fill=\"#000000\" font-family=\"Times,serif\" font-size=\"14.00\" text-anchor=\"middle\" x=\"597.5\" y=\"-672.3\">(None, 14, 4)</text>\n</g>\n<!-- 139672943974352&#45;&gt;139672945173584 -->\n<g class=\"edge\" id=\"edge3\">\n<title>139672943974352-&gt;139672945173584</title>\n<path d=\"M409.0689,-747.3799C428.2333,-737.4384 450.7971,-725.7334 470.8678,-715.3217\" fill=\"none\" stroke=\"#000000\"/>\n<polygon fill=\"#000000\" points=\"472.6278,-718.3516 479.8929,-710.6399 469.4045,-712.1379 472.6278,-718.3516\" stroke=\"#000000\"/>\n</g>\n<!-- 139672945530576&#45;&gt;139672945173584 -->\n<g class=\"edge\" id=\"edge4\">\n<title>139672945530576-&gt;139672945173584</title>\n<path d=\"M669.7772,-747.4901C644.9434,-737.2353 615.5245,-725.0872 589.6772,-714.414\" fill=\"none\" stroke=\"#000000\"/>\n<polygon fill=\"#000000\" points=\"590.91,-711.1364 580.3312,-710.5547 588.2383,-717.6065 590.91,-711.1364\" stroke=\"#000000\"/>\n</g>\n<!-- 139672944016080 -->\n<g class=\"node\" id=\"node10\">\n<title>139672944016080</title>\n<polygon fill=\"none\" points=\"410,-332.5 410,-378.5 841,-378.5 841,-332.5 410,-332.5\" stroke=\"#000000\"/>\n<text fill=\"#000000\" font-family=\"Times,serif\" font-size=\"14.00\" text-anchor=\"middle\" x=\"459\" y=\"-351.8\">concatenate_1</text>\n<polyline fill=\"none\" points=\"508,-332.5 508,-378.5 \" stroke=\"#000000\"/>\n<text fill=\"#000000\" font-family=\"Times,serif\" font-size=\"14.00\" text-anchor=\"middle\" x=\"551\" y=\"-351.8\">Concatenate</text>\n<polyline fill=\"none\" points=\"594,-332.5 594,-378.5 \" stroke=\"#000000\"/>\n<text fill=\"#000000\" font-family=\"Times,serif\" font-size=\"14.00\" text-anchor=\"middle\" x=\"623\" y=\"-363.3\">input:</text>\n<polyline fill=\"none\" points=\"594,-355.5 652,-355.5 \" stroke=\"#000000\"/>\n<text fill=\"#000000\" font-family=\"Times,serif\" font-size=\"14.00\" text-anchor=\"middle\" x=\"623\" y=\"-340.3\">output:</text>\n<polyline fill=\"none\" points=\"652,-332.5 652,-378.5 \" stroke=\"#000000\"/>\n<text fill=\"#000000\" font-family=\"Times,serif\" font-size=\"14.00\" text-anchor=\"middle\" x=\"746.5\" y=\"-363.3\">[(None, 4, 14), (None, 4, 64)]</text>\n<polyline fill=\"none\" points=\"652,-355.5 841,-355.5 \" stroke=\"#000000\"/>\n<text fill=\"#000000\" font-family=\"Times,serif\" font-size=\"14.00\" text-anchor=\"middle\" x=\"746.5\" y=\"-340.3\">(None, 4, 78)</text>\n</g>\n<!-- 139672945530576&#45;&gt;139672944016080 -->\n<g class=\"edge\" id=\"edge11\">\n<title>139672945530576-&gt;139672944016080</title>\n<path d=\"M725.2731,-747.4055C724.978,-715.3386 724.5,-655.5113 724.5,-604.5 724.5,-604.5 724.5,-604.5 724.5,-521.5 724.5,-472.3246 720.9075,-456.4833 694.5,-415 687.4623,-403.9446 677.7528,-393.8129 667.8379,-385.1651\" fill=\"none\" stroke=\"#000000\"/>\n<polygon fill=\"#000000\" points=\"669.8171,-382.259 659.8895,-378.5585 665.3426,-387.6422 669.8171,-382.259\" stroke=\"#000000\"/>\n</g>\n<!-- 139672944030032 -->\n<g class=\"node\" id=\"node6\">\n<title>139672944030032</title>\n<polygon fill=\"none\" points=\"366,-581.5 366,-627.5 683,-627.5 683,-581.5 366,-581.5\" stroke=\"#000000\"/>\n<text fill=\"#000000\" font-family=\"Times,serif\" font-size=\"14.00\" text-anchor=\"middle\" x=\"409.5\" y=\"-600.8\">activation_2</text>\n<polyline fill=\"none\" points=\"453,-581.5 453,-627.5 \" stroke=\"#000000\"/>\n<text fill=\"#000000\" font-family=\"Times,serif\" font-size=\"14.00\" text-anchor=\"middle\" x=\"491.5\" y=\"-600.8\">Activation</text>\n<polyline fill=\"none\" points=\"530,-581.5 530,-627.5 \" stroke=\"#000000\"/>\n<text fill=\"#000000\" font-family=\"Times,serif\" font-size=\"14.00\" text-anchor=\"middle\" x=\"559\" y=\"-612.3\">input:</text>\n<polyline fill=\"none\" points=\"530,-604.5 588,-604.5 \" stroke=\"#000000\"/>\n<text fill=\"#000000\" font-family=\"Times,serif\" font-size=\"14.00\" text-anchor=\"middle\" x=\"559\" y=\"-589.3\">output:</text>\n<polyline fill=\"none\" points=\"588,-581.5 588,-627.5 \" stroke=\"#000000\"/>\n<text fill=\"#000000\" font-family=\"Times,serif\" font-size=\"14.00\" text-anchor=\"middle\" x=\"635.5\" y=\"-612.3\">(None, 14, 4)</text>\n<polyline fill=\"none\" points=\"588,-604.5 683,-604.5 \" stroke=\"#000000\"/>\n<text fill=\"#000000\" font-family=\"Times,serif\" font-size=\"14.00\" text-anchor=\"middle\" x=\"635.5\" y=\"-589.3\">(None, 14, 4)</text>\n</g>\n<!-- 139672945173584&#45;&gt;139672944030032 -->\n<g class=\"edge\" id=\"edge5\">\n<title>139672945173584-&gt;139672944030032</title>\n<path d=\"M524.5,-664.3799C524.5,-656.1745 524.5,-646.7679 524.5,-637.8786\" fill=\"none\" stroke=\"#000000\"/>\n<polygon fill=\"#000000\" points=\"528.0001,-637.784 524.5,-627.784 521.0001,-637.784 528.0001,-637.784\" stroke=\"#000000\"/>\n</g>\n<!-- 139672944792784 -->\n<g class=\"node\" id=\"node8\">\n<title>139672944792784</title>\n<polygon fill=\"none\" points=\"353.5,-498.5 353.5,-544.5 695.5,-544.5 695.5,-498.5 353.5,-498.5\" stroke=\"#000000\"/>\n<text fill=\"#000000\" font-family=\"Times,serif\" font-size=\"14.00\" text-anchor=\"middle\" x=\"380\" y=\"-517.8\">add_1</text>\n<polyline fill=\"none\" points=\"406.5,-498.5 406.5,-544.5 \" stroke=\"#000000\"/>\n<text fill=\"#000000\" font-family=\"Times,serif\" font-size=\"14.00\" text-anchor=\"middle\" x=\"427.5\" y=\"-517.8\">Add</text>\n<polyline fill=\"none\" points=\"448.5,-498.5 448.5,-544.5 \" stroke=\"#000000\"/>\n<text fill=\"#000000\" font-family=\"Times,serif\" font-size=\"14.00\" text-anchor=\"middle\" x=\"477.5\" y=\"-529.3\">input:</text>\n<polyline fill=\"none\" points=\"448.5,-521.5 506.5,-521.5 \" stroke=\"#000000\"/>\n<text fill=\"#000000\" font-family=\"Times,serif\" font-size=\"14.00\" text-anchor=\"middle\" x=\"477.5\" y=\"-506.3\">output:</text>\n<polyline fill=\"none\" points=\"506.5,-498.5 506.5,-544.5 \" stroke=\"#000000\"/>\n<text fill=\"#000000\" font-family=\"Times,serif\" font-size=\"14.00\" text-anchor=\"middle\" x=\"601\" y=\"-529.3\">[(None, 14, 4), (None, 14, 4)]</text>\n<polyline fill=\"none\" points=\"506.5,-521.5 695.5,-521.5 \" stroke=\"#000000\"/>\n<text fill=\"#000000\" font-family=\"Times,serif\" font-size=\"14.00\" text-anchor=\"middle\" x=\"601\" y=\"-506.3\">(None, 14, 4)</text>\n</g>\n<!-- 139672944030032&#45;&gt;139672944792784 -->\n<g class=\"edge\" id=\"edge7\">\n<title>139672944030032-&gt;139672944792784</title>\n<path d=\"M524.5,-581.3799C524.5,-573.1745 524.5,-563.7679 524.5,-554.8786\" fill=\"none\" stroke=\"#000000\"/>\n<polygon fill=\"#000000\" points=\"528.0001,-554.784 524.5,-544.784 521.0001,-554.784 528.0001,-554.784\" stroke=\"#000000\"/>\n</g>\n<!-- 139672943988880&#45;&gt;139672944792784 -->\n<g class=\"edge\" id=\"edge8\">\n<title>139672943988880-&gt;139672944792784</title>\n<path d=\"M204.1582,-664.3259C241.5295,-641.3093 301.6435,-605.9437 356.5,-581 383.4597,-568.7412 413.7446,-557.3316 441.0994,-547.8499\" fill=\"none\" stroke=\"#000000\"/>\n<polygon fill=\"#000000\" points=\"442.3182,-551.1321 450.6427,-544.5783 440.0481,-544.5104 442.3182,-551.1321\" stroke=\"#000000\"/>\n</g>\n<!-- 139677253939408 -->\n<g class=\"node\" id=\"node9\">\n<title>139677253939408</title>\n<polygon fill=\"none\" points=\"390,-415.5 390,-461.5 685,-461.5 685,-415.5 390,-415.5\" stroke=\"#000000\"/>\n<text fill=\"#000000\" font-family=\"Times,serif\" font-size=\"14.00\" text-anchor=\"middle\" x=\"429\" y=\"-434.8\">permute_1</text>\n<polyline fill=\"none\" points=\"468,-415.5 468,-461.5 \" stroke=\"#000000\"/>\n<text fill=\"#000000\" font-family=\"Times,serif\" font-size=\"14.00\" text-anchor=\"middle\" x=\"500\" y=\"-434.8\">Permute</text>\n<polyline fill=\"none\" points=\"532,-415.5 532,-461.5 \" stroke=\"#000000\"/>\n<text fill=\"#000000\" font-family=\"Times,serif\" font-size=\"14.00\" text-anchor=\"middle\" x=\"561\" y=\"-446.3\">input:</text>\n<polyline fill=\"none\" points=\"532,-438.5 590,-438.5 \" stroke=\"#000000\"/>\n<text fill=\"#000000\" font-family=\"Times,serif\" font-size=\"14.00\" text-anchor=\"middle\" x=\"561\" y=\"-423.3\">output:</text>\n<polyline fill=\"none\" points=\"590,-415.5 590,-461.5 \" stroke=\"#000000\"/>\n<text fill=\"#000000\" font-family=\"Times,serif\" font-size=\"14.00\" text-anchor=\"middle\" x=\"637.5\" y=\"-446.3\">(None, 14, 4)</text>\n<polyline fill=\"none\" points=\"590,-438.5 685,-438.5 \" stroke=\"#000000\"/>\n<text fill=\"#000000\" font-family=\"Times,serif\" font-size=\"14.00\" text-anchor=\"middle\" x=\"637.5\" y=\"-423.3\">(None, 4, 14)</text>\n</g>\n<!-- 139672944792784&#45;&gt;139677253939408 -->\n<g class=\"edge\" id=\"edge9\">\n<title>139672944792784-&gt;139677253939408</title>\n<path d=\"M528.1212,-498.3799C529.4064,-490.1745 530.8797,-480.7679 532.272,-471.8786\" fill=\"none\" stroke=\"#000000\"/>\n<polygon fill=\"#000000\" points=\"535.7635,-472.2052 533.8531,-461.784 528.8478,-471.1219 535.7635,-472.2052\" stroke=\"#000000\"/>\n</g>\n<!-- 139677253939408&#45;&gt;139672944016080 -->\n<g class=\"edge\" id=\"edge10\">\n<title>139677253939408-&gt;139672944016080</title>\n<path d=\"M562.0129,-415.3799C571.7527,-406.1935 583.089,-395.5013 593.4646,-385.7152\" fill=\"none\" stroke=\"#000000\"/>\n<polygon fill=\"#000000\" points=\"595.9401,-388.1916 600.8133,-378.784 591.1371,-383.0993 595.9401,-388.1916\" stroke=\"#000000\"/>\n</g>\n<!-- 139672944055824 -->\n<g class=\"node\" id=\"node11\">\n<title>139672944055824</title>\n<polygon fill=\"none\" points=\"493,-249.5 493,-295.5 758,-295.5 758,-249.5 493,-249.5\" stroke=\"#000000\"/>\n<text fill=\"#000000\" font-family=\"Times,serif\" font-size=\"14.00\" text-anchor=\"middle\" x=\"521\" y=\"-268.8\">lstm_1</text>\n<polyline fill=\"none\" points=\"549,-249.5 549,-295.5 \" stroke=\"#000000\"/>\n<text fill=\"#000000\" font-family=\"Times,serif\" font-size=\"14.00\" text-anchor=\"middle\" x=\"577\" y=\"-268.8\">LSTM</text>\n<polyline fill=\"none\" points=\"605,-249.5 605,-295.5 \" stroke=\"#000000\"/>\n<text fill=\"#000000\" font-family=\"Times,serif\" font-size=\"14.00\" text-anchor=\"middle\" x=\"634\" y=\"-280.3\">input:</text>\n<polyline fill=\"none\" points=\"605,-272.5 663,-272.5 \" stroke=\"#000000\"/>\n<text fill=\"#000000\" font-family=\"Times,serif\" font-size=\"14.00\" text-anchor=\"middle\" x=\"634\" y=\"-257.3\">output:</text>\n<polyline fill=\"none\" points=\"663,-249.5 663,-295.5 \" stroke=\"#000000\"/>\n<text fill=\"#000000\" font-family=\"Times,serif\" font-size=\"14.00\" text-anchor=\"middle\" x=\"710.5\" y=\"-280.3\">(None, 4, 78)</text>\n<polyline fill=\"none\" points=\"663,-272.5 758,-272.5 \" stroke=\"#000000\"/>\n<text fill=\"#000000\" font-family=\"Times,serif\" font-size=\"14.00\" text-anchor=\"middle\" x=\"710.5\" y=\"-257.3\">(None, 32)</text>\n</g>\n<!-- 139672944016080&#45;&gt;139672944055824 -->\n<g class=\"edge\" id=\"edge12\">\n<title>139672944016080-&gt;139672944055824</title>\n<path d=\"M625.5,-332.3799C625.5,-324.1745 625.5,-314.7679 625.5,-305.8786\" fill=\"none\" stroke=\"#000000\"/>\n<polygon fill=\"#000000\" points=\"629.0001,-305.784 625.5,-295.784 622.0001,-305.784 629.0001,-305.784\" stroke=\"#000000\"/>\n</g>\n<!-- 139672944074384 -->\n<g class=\"node\" id=\"node12\">\n<title>139672944074384</title>\n<polygon fill=\"none\" points=\"485.5,-166.5 485.5,-212.5 765.5,-212.5 765.5,-166.5 485.5,-166.5\" stroke=\"#000000\"/>\n<text fill=\"#000000\" font-family=\"Times,serif\" font-size=\"14.00\" text-anchor=\"middle\" x=\"524\" y=\"-185.8\">dropout_1</text>\n<polyline fill=\"none\" points=\"562.5,-166.5 562.5,-212.5 \" stroke=\"#000000\"/>\n<text fill=\"#000000\" font-family=\"Times,serif\" font-size=\"14.00\" text-anchor=\"middle\" x=\"595\" y=\"-185.8\">Dropout</text>\n<polyline fill=\"none\" points=\"627.5,-166.5 627.5,-212.5 \" stroke=\"#000000\"/>\n<text fill=\"#000000\" font-family=\"Times,serif\" font-size=\"14.00\" text-anchor=\"middle\" x=\"656.5\" y=\"-197.3\">input:</text>\n<polyline fill=\"none\" points=\"627.5,-189.5 685.5,-189.5 \" stroke=\"#000000\"/>\n<text fill=\"#000000\" font-family=\"Times,serif\" font-size=\"14.00\" text-anchor=\"middle\" x=\"656.5\" y=\"-174.3\">output:</text>\n<polyline fill=\"none\" points=\"685.5,-166.5 685.5,-212.5 \" stroke=\"#000000\"/>\n<text fill=\"#000000\" font-family=\"Times,serif\" font-size=\"14.00\" text-anchor=\"middle\" x=\"725.5\" y=\"-197.3\">(None, 32)</text>\n<polyline fill=\"none\" points=\"685.5,-189.5 765.5,-189.5 \" stroke=\"#000000\"/>\n<text fill=\"#000000\" font-family=\"Times,serif\" font-size=\"14.00\" text-anchor=\"middle\" x=\"725.5\" y=\"-174.3\">(None, 32)</text>\n</g>\n<!-- 139672944055824&#45;&gt;139672944074384 -->\n<g class=\"edge\" id=\"edge13\">\n<title>139672944055824-&gt;139672944074384</title>\n<path d=\"M625.5,-249.3799C625.5,-241.1745 625.5,-231.7679 625.5,-222.8786\" fill=\"none\" stroke=\"#000000\"/>\n<polygon fill=\"#000000\" points=\"629.0001,-222.784 625.5,-212.784 622.0001,-222.784 629.0001,-222.784\" stroke=\"#000000\"/>\n</g>\n<!-- 139672944063184 -->\n<g class=\"node\" id=\"node13\">\n<title>139672944063184</title>\n<polygon fill=\"none\" points=\"498.5,-83.5 498.5,-129.5 752.5,-129.5 752.5,-83.5 498.5,-83.5\" stroke=\"#000000\"/>\n<text fill=\"#000000\" font-family=\"Times,serif\" font-size=\"14.00\" text-anchor=\"middle\" x=\"530.5\" y=\"-102.8\">dense_1</text>\n<polyline fill=\"none\" points=\"562.5,-83.5 562.5,-129.5 \" stroke=\"#000000\"/>\n<text fill=\"#000000\" font-family=\"Times,serif\" font-size=\"14.00\" text-anchor=\"middle\" x=\"588.5\" y=\"-102.8\">Dense</text>\n<polyline fill=\"none\" points=\"614.5,-83.5 614.5,-129.5 \" stroke=\"#000000\"/>\n<text fill=\"#000000\" font-family=\"Times,serif\" font-size=\"14.00\" text-anchor=\"middle\" x=\"643.5\" y=\"-114.3\">input:</text>\n<polyline fill=\"none\" points=\"614.5,-106.5 672.5,-106.5 \" stroke=\"#000000\"/>\n<text fill=\"#000000\" font-family=\"Times,serif\" font-size=\"14.00\" text-anchor=\"middle\" x=\"643.5\" y=\"-91.3\">output:</text>\n<polyline fill=\"none\" points=\"672.5,-83.5 672.5,-129.5 \" stroke=\"#000000\"/>\n<text fill=\"#000000\" font-family=\"Times,serif\" font-size=\"14.00\" text-anchor=\"middle\" x=\"712.5\" y=\"-114.3\">(None, 32)</text>\n<polyline fill=\"none\" points=\"672.5,-106.5 752.5,-106.5 \" stroke=\"#000000\"/>\n<text fill=\"#000000\" font-family=\"Times,serif\" font-size=\"14.00\" text-anchor=\"middle\" x=\"712.5\" y=\"-91.3\">(None, 22)</text>\n</g>\n<!-- 139672944074384&#45;&gt;139672944063184 -->\n<g class=\"edge\" id=\"edge14\">\n<title>139672944074384-&gt;139672944063184</title>\n<path d=\"M625.5,-166.3799C625.5,-158.1745 625.5,-148.7679 625.5,-139.8786\" fill=\"none\" stroke=\"#000000\"/>\n<polygon fill=\"#000000\" points=\"629.0001,-139.784 625.5,-129.784 622.0001,-139.784 629.0001,-139.784\" stroke=\"#000000\"/>\n</g>\n<!-- 139672944018640 -->\n<g class=\"node\" id=\"node14\">\n<title>139672944018640</title>\n<polygon fill=\"none\" points=\"474.5,-.5 474.5,-46.5 776.5,-46.5 776.5,-.5 474.5,-.5\" stroke=\"#000000\"/>\n<text fill=\"#000000\" font-family=\"Times,serif\" font-size=\"14.00\" text-anchor=\"middle\" x=\"518\" y=\"-19.8\">activation_3</text>\n<polyline fill=\"none\" points=\"561.5,-.5 561.5,-46.5 \" stroke=\"#000000\"/>\n<text fill=\"#000000\" font-family=\"Times,serif\" font-size=\"14.00\" text-anchor=\"middle\" x=\"600\" y=\"-19.8\">Activation</text>\n<polyline fill=\"none\" points=\"638.5,-.5 638.5,-46.5 \" stroke=\"#000000\"/>\n<text fill=\"#000000\" font-family=\"Times,serif\" font-size=\"14.00\" text-anchor=\"middle\" x=\"667.5\" y=\"-31.3\">input:</text>\n<polyline fill=\"none\" points=\"638.5,-23.5 696.5,-23.5 \" stroke=\"#000000\"/>\n<text fill=\"#000000\" font-family=\"Times,serif\" font-size=\"14.00\" text-anchor=\"middle\" x=\"667.5\" y=\"-8.3\">output:</text>\n<polyline fill=\"none\" points=\"696.5,-.5 696.5,-46.5 \" stroke=\"#000000\"/>\n<text fill=\"#000000\" font-family=\"Times,serif\" font-size=\"14.00\" text-anchor=\"middle\" x=\"736.5\" y=\"-31.3\">(None, 22)</text>\n<polyline fill=\"none\" points=\"696.5,-23.5 776.5,-23.5 \" stroke=\"#000000\"/>\n<text fill=\"#000000\" font-family=\"Times,serif\" font-size=\"14.00\" text-anchor=\"middle\" x=\"736.5\" y=\"-8.3\">(None, 22)</text>\n</g>\n<!-- 139672944063184&#45;&gt;139672944018640 -->\n<g class=\"edge\" id=\"edge15\">\n<title>139672944063184-&gt;139672944018640</title>\n<path d=\"M625.5,-83.3799C625.5,-75.1745 625.5,-65.7679 625.5,-56.8786\" fill=\"none\" stroke=\"#000000\"/>\n<polygon fill=\"#000000\" points=\"629.0001,-56.784 625.5,-46.784 622.0001,-56.784 629.0001,-56.784\" stroke=\"#000000\"/>\n</g>\n</g>\n</svg>"
          },
          "metadata": {},
          "execution_count": 47
        }
      ],
      "source": [
        "from IPython.display import SVG\n",
        "\n",
        "SVG(tf.keras.utils.model_to_dot(model,show_shapes= True, show_layer_names=True, dpi=60).create(prog='dot', format='svg'))"
      ]
    },
    {
      "cell_type": "markdown",
      "metadata": {
        "id": "BxK-MxYMrKkI"
      },
      "source": [
        "Model summary"
      ]
    },
    {
      "cell_type": "code",
      "execution_count": null,
      "metadata": {
        "colab": {
          "base_uri": "https://localhost:8080/"
        },
        "id": "bjEgTL9LrKkJ",
        "outputId": "8f639653-9b79-48be-a0a3-23460c8a7dbb"
      },
      "outputs": [
        {
          "output_type": "stream",
          "name": "stdout",
          "text": [
            "Model: \"model_1\"\n",
            "__________________________________________________________________________________________________\n",
            " Layer (type)                   Output Shape         Param #     Connected to                     \n",
            "==================================================================================================\n",
            " input_3 (InputLayer)           [(None, 14)]         0           []                               \n",
            "                                                                                                  \n",
            " input_4 (InputLayer)           [(None, 4)]          0           []                               \n",
            "                                                                                                  \n",
            " sequential_3 (Sequential)      (None, None, 64)     1408        ['input_3[0][0]']                \n",
            "                                                                                                  \n",
            " sequential_5 (Sequential)      (None, None, 64)     1408        ['input_4[0][0]']                \n",
            "                                                                                                  \n",
            " dot_1 (Dot)                    (None, 14, 4)        0           ['sequential_3[0][0]',           \n",
            "                                                                  'sequential_5[0][0]']           \n",
            "                                                                                                  \n",
            " activation_2 (Activation)      (None, 14, 4)        0           ['dot_1[0][0]']                  \n",
            "                                                                                                  \n",
            " sequential_4 (Sequential)      (None, None, 4)      88          ['input_3[0][0]']                \n",
            "                                                                                                  \n",
            " add_1 (Add)                    (None, 14, 4)        0           ['activation_2[0][0]',           \n",
            "                                                                  'sequential_4[0][0]']           \n",
            "                                                                                                  \n",
            " permute_1 (Permute)            (None, 4, 14)        0           ['add_1[0][0]']                  \n",
            "                                                                                                  \n",
            " concatenate_1 (Concatenate)    (None, 4, 78)        0           ['permute_1[0][0]',              \n",
            "                                                                  'sequential_5[0][0]']           \n",
            "                                                                                                  \n",
            " lstm_1 (LSTM)                  (None, 32)           14208       ['concatenate_1[0][0]']          \n",
            "                                                                                                  \n",
            " dropout_1 (Dropout)            (None, 32)           0           ['lstm_1[0][0]']                 \n",
            "                                                                                                  \n",
            " dense_1 (Dense)                (None, 22)           726         ['dropout_1[0][0]']              \n",
            "                                                                                                  \n",
            " activation_3 (Activation)      (None, 22)           0           ['dense_1[0][0]']                \n",
            "                                                                                                  \n",
            "==================================================================================================\n",
            "Total params: 17,838\n",
            "Trainable params: 17,838\n",
            "Non-trainable params: 0\n",
            "__________________________________________________________________________________________________\n"
          ]
        }
      ],
      "source": [
        "model.summary()"
      ]
    },
    {
      "cell_type": "markdown",
      "metadata": {
        "id": "_tnbz5YJrKkQ"
      },
      "source": [
        "## 1.5 Training"
      ]
    },
    {
      "cell_type": "markdown",
      "metadata": {
        "id": "W_bUUHq-A8Us"
      },
      "source": [
        "In this section we start the training procedure with fitting the data to the designed model."
      ]
    },
    {
      "cell_type": "code",
      "execution_count": null,
      "metadata": {
        "id": "c3sOGkotZKmk",
        "colab": {
          "base_uri": "https://localhost:8080/",
          "height": 1000
        },
        "outputId": "f8906ab5-4e6e-4c65-f37d-4c7d01a3c8db"
      },
      "outputs": [
        {
          "output_type": "stream",
          "name": "stdout",
          "text": [
            "Epoch 1/10\n",
            "\r  1/313 [..............................] - ETA: 14s - loss: 1.7716 - accuracy: 0.1875"
          ]
        },
        {
          "output_type": "stream",
          "name": "stderr",
          "text": [
            "/usr/local/lib/python3.7/dist-packages/tensorflow/python/data/ops/dataset_ops.py:4527: UserWarning: Even though the `tf.config.experimental_run_functions_eagerly` option is set, this option does not apply to tf.data functions. To force eager execution of tf.data functions, please use `tf.data.experimental.enable_debug_mode()`.\n",
            "  \"Even though the `tf.config.experimental_run_functions_eagerly` \"\n"
          ]
        },
        {
          "output_type": "stream",
          "name": "stdout",
          "text": [
            "313/313 [==============================] - 17s 55ms/step - loss: 1.8026 - accuracy: 0.1676 - val_loss: 1.7933 - val_accuracy: 0.1920\n",
            "Epoch 2/10\n",
            "313/313 [==============================] - 18s 57ms/step - loss: 1.7886 - accuracy: 0.1861 - val_loss: 1.7713 - val_accuracy: 0.2350\n",
            "Epoch 3/10\n",
            "313/313 [==============================] - 17s 53ms/step - loss: 1.7780 - accuracy: 0.2113 - val_loss: 1.7636 - val_accuracy: 0.2560\n",
            "Epoch 4/10\n",
            "313/313 [==============================] - 17s 53ms/step - loss: 1.7699 - accuracy: 0.2285 - val_loss: 1.7489 - val_accuracy: 0.2780\n",
            "Epoch 5/10\n",
            "313/313 [==============================] - 17s 55ms/step - loss: 1.7634 - accuracy: 0.2412 - val_loss: 1.7427 - val_accuracy: 0.2730\n",
            "Epoch 6/10\n",
            "313/313 [==============================] - 17s 53ms/step - loss: 1.7601 - accuracy: 0.2458 - val_loss: 1.7392 - val_accuracy: 0.2890\n",
            "Epoch 7/10\n",
            "313/313 [==============================] - 17s 54ms/step - loss: 1.7571 - accuracy: 0.2507 - val_loss: 1.7361 - val_accuracy: 0.2900\n",
            "Epoch 8/10\n",
            "313/313 [==============================] - 17s 55ms/step - loss: 1.7547 - accuracy: 0.2520 - val_loss: 1.7357 - val_accuracy: 0.2870\n",
            "Epoch 9/10\n",
            "313/313 [==============================] - 17s 54ms/step - loss: 1.7518 - accuracy: 0.2542 - val_loss: 1.7313 - val_accuracy: 0.2990\n",
            "Epoch 10/10\n",
            "313/313 [==============================] - 16s 53ms/step - loss: 1.7498 - accuracy: 0.2615 - val_loss: 1.7244 - val_accuracy: 0.2840\n"
          ]
        },
        {
          "output_type": "display_data",
          "data": {
            "image/png": "[encoded data removed]",
            "text/plain": [
              "<Figure size 432x288 with 1 Axes>"
            ]
          },
          "metadata": {
            "needs_background": "light"
          }
        },
        {
          "output_type": "display_data",
          "data": {
            "image/png": "[encoded data removed]",
            "text/plain": [
              "<Figure size 432x288 with 1 Axes>"
            ]
          },
          "metadata": {
            "needs_background": "light"
          }
        },
        {
          "output_type": "stream",
          "name": "stderr",
          "text": [
            "/usr/local/lib/python3.7/dist-packages/keras/engine/functional.py:1410: CustomMaskWarning: Custom mask layers require a config and must override get_config. When loading, the custom mask layer must be passed to the custom_objects argument.\n",
            "  layer_config = serialize_layer_fn(layer)\n"
          ]
        }
      ],
      "source": [
        "history = model.fit([inputs_train, queries_train], answers_train, batch_size, train_epochs,\n",
        "          validation_data=([inputs_test, queries_test], answers_test))\n",
        "\n",
        "plot_loss(history,\"Loss\")\n",
        "plot_acc(history,\"Accuracy\")\n",
        "\n",
        "model.save('model.h5')"
      ]
    },
    {
      "cell_type": "markdown",
      "metadata": {
        "id": "GXxhXOvcrKkV"
      },
      "source": [
        "## 1.6 Testing and Analysis"
      ]
    },
    {
      "cell_type": "markdown",
      "metadata": {
        "id": "ciBt077dEBLd"
      },
      "source": [
        "Now we need to actually make predictions and check the performance of our trained model with some examples:"
      ]
    },
    {
      "cell_type": "code",
      "execution_count": null,
      "metadata": {
        "colab": {
          "base_uri": "https://localhost:8080/"
        },
        "id": "a4b3f5-arKkW",
        "outputId": "596d99f8-2c7e-40f8-a7c1-019fecf163d8"
      },
      "outputs": [
        {
          "output_type": "stream",
          "name": "stderr",
          "text": [
            "/usr/local/lib/python3.7/dist-packages/tensorflow/python/data/ops/dataset_ops.py:4527: UserWarning: Even though the `tf.config.experimental_run_functions_eagerly` option is set, this option does not apply to tf.data functions. To force eager execution of tf.data functions, please use `tf.data.experimental.enable_debug_mode()`.\n",
            "  \"Even though the `tf.config.experimental_run_functions_eagerly` \"\n"
          ]
        },
        {
          "output_type": "stream",
          "name": "stdout",
          "text": [
            "John travelled to the hallway . Mary journeyed to the bathroom . Where is John ? | Prediction: bathroom | Ground Truth: hallway\n",
            "-----------------------------------------------------------------------------------------\n",
            "John travelled to the hallway . Mary journeyed to the bathroom . Where is Sandra ? | Prediction: hallway | Ground Truth: kitchen\n",
            "-----------------------------------------------------------------------------------------\n",
            "John travelled to the hallway . Mary journeyed to the bathroom . Where is Sandra ? | Prediction: hallway | Ground Truth: kitchen\n",
            "-----------------------------------------------------------------------------------------\n",
            "Sandra travelled to the kitchen . Sandra travelled to the hallway . Where is Sandra ? | Prediction: hallway | Ground Truth: garden\n",
            "-----------------------------------------------------------------------------------------\n",
            "Sandra travelled to the kitchen . Sandra travelled to the hallway . Where is Sandra ? | Prediction: hallway | Ground Truth: office\n",
            "-----------------------------------------------------------------------------------------\n",
            "John travelled to the office . Mary journeyed to the kitchen . Where is Mary ? | Prediction: kitchen | Ground Truth: kitchen\n",
            "-----------------------------------------------------------------------------------------\n",
            "John travelled to the office . Mary journeyed to the kitchen . Where is Daniel ? | Prediction: kitchen | Ground Truth: office\n",
            "-----------------------------------------------------------------------------------------\n",
            "John travelled to the office . Mary journeyed to the kitchen . Where is Mary ? | Prediction: kitchen | Ground Truth: bedroom\n",
            "-----------------------------------------------------------------------------------------\n",
            "John moved to the hallway . John journeyed to the kitchen . Where is John ? | Prediction: kitchen | Ground Truth: garden\n",
            "-----------------------------------------------------------------------------------------\n",
            "John moved to the hallway . John journeyed to the kitchen . Where is Daniel ? | Prediction: kitchen | Ground Truth: office\n",
            "-----------------------------------------------------------------------------------------\n"
          ]
        }
      ],
      "source": [
        "for i in range(0,10):\n",
        "    current_inp = test_stories[2*i]\n",
        "    current_story, current_query, current_answer = vectorize_stories([current_inp], word_idx, story_maxlen, query_maxlen)\n",
        "    current_prediction = model.predict([current_story, current_query])\n",
        "    current_prediction = idx_word[np.argmax(current_prediction)]\n",
        "    print(' '.join(current_inp[0]), ' '.join(current_inp[1]), '| Prediction:', current_prediction, '| Ground Truth:', current_inp[2])\n",
        "    print(\"-----------------------------------------------------------------------------------------\")\n"
      ]
    },
    {
      "cell_type": "markdown",
      "metadata": {
        "collapsed": true,
        "id": "DWGbl4PdrKka"
      },
      "source": [
        "## 1.7 Custom Inputs"
      ]
    },
    {
      "cell_type": "markdown",
      "metadata": {
        "id": "iJUI2SIXEV4x"
      },
      "source": [
        "You can even write your example and test it with your model to see how powerful it is:"
      ]
    },
    {
      "cell_type": "code",
      "execution_count": null,
      "metadata": {
        "id": "UT83MJ8yrKkb",
        "colab": {
          "base_uri": "https://localhost:8080/",
          "height": 862
        },
        "outputId": "498066fe-ea16-4560-9f73-146e9b4c3ec3"
      },
      "outputs": [
        {
          "name": "stdout",
          "output_type": "stream",
          "text": [
            "-------------------------------------------------------------------------------------------\n",
            "Custom User Queries (Make sure there are spaces before each word)\n",
            "-------------------------------------------------------------------------------------------\n",
            "Please input a story\n",
            "Sandra travelled to the office . John journeyed to the garden .\n",
            "Please input a query\n",
            "Where is John ?\n"
          ]
        },
        {
          "output_type": "stream",
          "name": "stderr",
          "text": [
            "/usr/local/lib/python3.7/dist-packages/tensorflow/python/data/ops/dataset_ops.py:4527: UserWarning: Even though the `tf.config.experimental_run_functions_eagerly` option is set, this option does not apply to tf.data functions. To force eager execution of tf.data functions, please use `tf.data.experimental.enable_debug_mode()`.\n",
            "  \"Even though the `tf.config.experimental_run_functions_eagerly` \"\n"
          ]
        },
        {
          "output_type": "stream",
          "name": "stdout",
          "text": [
            "Result\n",
            "Sandra travelled to the office . John journeyed to the garden . Where is John ? | Prediction: garden\n",
            "-------------------------------------------------------------------------------------------\n",
            "Please input a story\n"
          ]
        },
        {
          "output_type": "error",
          "ename": "KeyboardInterrupt",
          "evalue": "ignored",
          "traceback": [
            "\u001b[0;31m---------------------------------------------------------------------------\u001b[0m",
            "\u001b[0;31mKeyboardInterrupt\u001b[0m                         Traceback (most recent call last)",
            "\u001b[0;32m/usr/local/lib/python3.7/dist-packages/ipykernel/kernelbase.py\u001b[0m in \u001b[0;36m_input_request\u001b[0;34m(self, prompt, ident, parent, password)\u001b[0m\n\u001b[1;32m    728\u001b[0m             \u001b[0;32mtry\u001b[0m\u001b[0;34m:\u001b[0m\u001b[0;34m\u001b[0m\u001b[0;34m\u001b[0m\u001b[0m\n\u001b[0;32m--> 729\u001b[0;31m                 \u001b[0mident\u001b[0m\u001b[0;34m,\u001b[0m \u001b[0mreply\u001b[0m \u001b[0;34m=\u001b[0m \u001b[0mself\u001b[0m\u001b[0;34m.\u001b[0m\u001b[0msession\u001b[0m\u001b[0;34m.\u001b[0m\u001b[0mrecv\u001b[0m\u001b[0;34m(\u001b[0m\u001b[0mself\u001b[0m\u001b[0;34m.\u001b[0m\u001b[0mstdin_socket\u001b[0m\u001b[0;34m,\u001b[0m \u001b[0;36m0\u001b[0m\u001b[0;34m)\u001b[0m\u001b[0;34m\u001b[0m\u001b[0;34m\u001b[0m\u001b[0m\n\u001b[0m\u001b[1;32m    730\u001b[0m             \u001b[0;32mexcept\u001b[0m \u001b[0mException\u001b[0m\u001b[0;34m:\u001b[0m\u001b[0;34m\u001b[0m\u001b[0;34m\u001b[0m\u001b[0m\n",
            "\u001b[0;32m/usr/local/lib/python3.7/dist-packages/jupyter_client/session.py\u001b[0m in \u001b[0;36mrecv\u001b[0;34m(self, socket, mode, content, copy)\u001b[0m\n\u001b[1;32m    802\u001b[0m         \u001b[0;32mtry\u001b[0m\u001b[0;34m:\u001b[0m\u001b[0;34m\u001b[0m\u001b[0;34m\u001b[0m\u001b[0m\n\u001b[0;32m--> 803\u001b[0;31m             \u001b[0mmsg_list\u001b[0m \u001b[0;34m=\u001b[0m \u001b[0msocket\u001b[0m\u001b[0;34m.\u001b[0m\u001b[0mrecv_multipart\u001b[0m\u001b[0;34m(\u001b[0m\u001b[0mmode\u001b[0m\u001b[0;34m,\u001b[0m \u001b[0mcopy\u001b[0m\u001b[0;34m=\u001b[0m\u001b[0mcopy\u001b[0m\u001b[0;34m)\u001b[0m\u001b[0;34m\u001b[0m\u001b[0;34m\u001b[0m\u001b[0m\n\u001b[0m\u001b[1;32m    804\u001b[0m         \u001b[0;32mexcept\u001b[0m \u001b[0mzmq\u001b[0m\u001b[0;34m.\u001b[0m\u001b[0mZMQError\u001b[0m \u001b[0;32mas\u001b[0m \u001b[0me\u001b[0m\u001b[0;34m:\u001b[0m\u001b[0;34m\u001b[0m\u001b[0;34m\u001b[0m\u001b[0m\n",
            "\u001b[0;32m/usr/local/lib/python3.7/dist-packages/zmq/sugar/socket.py\u001b[0m in \u001b[0;36mrecv_multipart\u001b[0;34m(self, flags, copy, track)\u001b[0m\n\u001b[1;32m    624\u001b[0m         \"\"\"\n\u001b[0;32m--> 625\u001b[0;31m         \u001b[0mparts\u001b[0m \u001b[0;34m=\u001b[0m \u001b[0;34m[\u001b[0m\u001b[0mself\u001b[0m\u001b[0;34m.\u001b[0m\u001b[0mrecv\u001b[0m\u001b[0;34m(\u001b[0m\u001b[0mflags\u001b[0m\u001b[0;34m,\u001b[0m \u001b[0mcopy\u001b[0m\u001b[0;34m=\u001b[0m\u001b[0mcopy\u001b[0m\u001b[0;34m,\u001b[0m \u001b[0mtrack\u001b[0m\u001b[0;34m=\u001b[0m\u001b[0mtrack\u001b[0m\u001b[0;34m)\u001b[0m\u001b[0;34m]\u001b[0m\u001b[0;34m\u001b[0m\u001b[0;34m\u001b[0m\u001b[0m\n\u001b[0m\u001b[1;32m    626\u001b[0m         \u001b[0;31m# have first part already, only loop while more to receive\u001b[0m\u001b[0;34m\u001b[0m\u001b[0;34m\u001b[0m\u001b[0;34m\u001b[0m\u001b[0m\n",
            "\u001b[0;32mzmq/backend/cython/socket.pyx\u001b[0m in \u001b[0;36mzmq.backend.cython.socket.Socket.recv\u001b[0;34m()\u001b[0m\n",
            "\u001b[0;32mzmq/backend/cython/socket.pyx\u001b[0m in \u001b[0;36mzmq.backend.cython.socket.Socket.recv\u001b[0;34m()\u001b[0m\n",
            "\u001b[0;32mzmq/backend/cython/socket.pyx\u001b[0m in \u001b[0;36mzmq.backend.cython.socket._recv_copy\u001b[0;34m()\u001b[0m\n",
            "\u001b[0;32m/usr/local/lib/python3.7/dist-packages/zmq/backend/cython/checkrc.pxd\u001b[0m in \u001b[0;36mzmq.backend.cython.checkrc._check_rc\u001b[0;34m()\u001b[0m\n",
            "\u001b[0;31mKeyboardInterrupt\u001b[0m: ",
            "\nDuring handling of the above exception, another exception occurred:\n",
            "\u001b[0;31mKeyboardInterrupt\u001b[0m                         Traceback (most recent call last)",
            "\u001b[0;32m<ipython-input-55-cd5b1d8fbfdb>\u001b[0m in \u001b[0;36m<module>\u001b[0;34m()\u001b[0m\n\u001b[1;32m      4\u001b[0m     \u001b[0mprint\u001b[0m\u001b[0;34m(\u001b[0m\u001b[0;34m'-------------------------------------------------------------------------------------------'\u001b[0m\u001b[0;34m)\u001b[0m\u001b[0;34m\u001b[0m\u001b[0;34m\u001b[0m\u001b[0m\n\u001b[1;32m      5\u001b[0m     \u001b[0mprint\u001b[0m\u001b[0;34m(\u001b[0m\u001b[0;34m'Please input a story'\u001b[0m\u001b[0;34m)\u001b[0m\u001b[0;34m\u001b[0m\u001b[0;34m\u001b[0m\u001b[0m\n\u001b[0;32m----> 6\u001b[0;31m     \u001b[0muser_story_inp\u001b[0m \u001b[0;34m=\u001b[0m \u001b[0minput\u001b[0m\u001b[0;34m(\u001b[0m\u001b[0;34m)\u001b[0m\u001b[0;34m.\u001b[0m\u001b[0msplit\u001b[0m\u001b[0;34m(\u001b[0m\u001b[0;34m' '\u001b[0m\u001b[0;34m)\u001b[0m\u001b[0;34m\u001b[0m\u001b[0;34m\u001b[0m\u001b[0m\n\u001b[0m\u001b[1;32m      7\u001b[0m     \u001b[0mprint\u001b[0m\u001b[0;34m(\u001b[0m\u001b[0;34m'Please input a query'\u001b[0m\u001b[0;34m)\u001b[0m\u001b[0;34m\u001b[0m\u001b[0;34m\u001b[0m\u001b[0m\n\u001b[1;32m      8\u001b[0m     \u001b[0muser_query_inp\u001b[0m \u001b[0;34m=\u001b[0m \u001b[0minput\u001b[0m\u001b[0;34m(\u001b[0m\u001b[0;34m)\u001b[0m\u001b[0;34m.\u001b[0m\u001b[0msplit\u001b[0m\u001b[0;34m(\u001b[0m\u001b[0;34m' '\u001b[0m\u001b[0;34m)\u001b[0m\u001b[0;34m\u001b[0m\u001b[0;34m\u001b[0m\u001b[0m\n",
            "\u001b[0;32m/usr/local/lib/python3.7/dist-packages/ipykernel/kernelbase.py\u001b[0m in \u001b[0;36mraw_input\u001b[0;34m(self, prompt)\u001b[0m\n\u001b[1;32m    702\u001b[0m             \u001b[0mself\u001b[0m\u001b[0;34m.\u001b[0m\u001b[0m_parent_ident\u001b[0m\u001b[0;34m,\u001b[0m\u001b[0;34m\u001b[0m\u001b[0;34m\u001b[0m\u001b[0m\n\u001b[1;32m    703\u001b[0m             \u001b[0mself\u001b[0m\u001b[0;34m.\u001b[0m\u001b[0m_parent_header\u001b[0m\u001b[0;34m,\u001b[0m\u001b[0;34m\u001b[0m\u001b[0;34m\u001b[0m\u001b[0m\n\u001b[0;32m--> 704\u001b[0;31m             \u001b[0mpassword\u001b[0m\u001b[0;34m=\u001b[0m\u001b[0;32mFalse\u001b[0m\u001b[0;34m,\u001b[0m\u001b[0;34m\u001b[0m\u001b[0;34m\u001b[0m\u001b[0m\n\u001b[0m\u001b[1;32m    705\u001b[0m         )\n\u001b[1;32m    706\u001b[0m \u001b[0;34m\u001b[0m\u001b[0m\n",
            "\u001b[0;32m/usr/local/lib/python3.7/dist-packages/ipykernel/kernelbase.py\u001b[0m in \u001b[0;36m_input_request\u001b[0;34m(self, prompt, ident, parent, password)\u001b[0m\n\u001b[1;32m    732\u001b[0m             \u001b[0;32mexcept\u001b[0m \u001b[0mKeyboardInterrupt\u001b[0m\u001b[0;34m:\u001b[0m\u001b[0;34m\u001b[0m\u001b[0;34m\u001b[0m\u001b[0m\n\u001b[1;32m    733\u001b[0m                 \u001b[0;31m# re-raise KeyboardInterrupt, to truncate traceback\u001b[0m\u001b[0;34m\u001b[0m\u001b[0;34m\u001b[0m\u001b[0;34m\u001b[0m\u001b[0m\n\u001b[0;32m--> 734\u001b[0;31m                 \u001b[0;32mraise\u001b[0m \u001b[0mKeyboardInterrupt\u001b[0m\u001b[0;34m\u001b[0m\u001b[0;34m\u001b[0m\u001b[0m\n\u001b[0m\u001b[1;32m    735\u001b[0m             \u001b[0;32melse\u001b[0m\u001b[0;34m:\u001b[0m\u001b[0;34m\u001b[0m\u001b[0;34m\u001b[0m\u001b[0m\n\u001b[1;32m    736\u001b[0m                 \u001b[0;32mbreak\u001b[0m\u001b[0;34m\u001b[0m\u001b[0;34m\u001b[0m\u001b[0m\n",
            "\u001b[0;31mKeyboardInterrupt\u001b[0m: "
          ]
        }
      ],
      "source": [
        "print('-------------------------------------------------------------------------------------------')\n",
        "print('Custom User Queries (Make sure there are spaces before each word)')\n",
        "while 1:\n",
        "    print('-------------------------------------------------------------------------------------------')\n",
        "    print('Please input a story')\n",
        "    user_story_inp = input().split(' ')\n",
        "    print('Please input a query')\n",
        "    user_query_inp = input().split(' ')\n",
        "    user_story, user_query, user_ans = vectorize_stories([[user_story_inp, user_query_inp, '.']], word_idx, story_maxlen, query_maxlen)\n",
        "    user_prediction = model.predict([user_story, user_query])\n",
        "    user_prediction = idx_word[np.argmax(user_prediction)]\n",
        "    print('Result')\n",
        "    print(' '.join(user_story_inp), ' '.join(user_query_inp), '| Prediction:', user_prediction)"
      ]
    },
    {
      "cell_type": "code",
      "execution_count": null,
      "metadata": {
        "id": "id1unEEQrKkf"
      },
      "outputs": [],
      "source": [
        "# some examples:\n",
        "# Mary went to the bathroom . John moved to the hallway . Mary travelled to the office . # Where is Mary ?\n",
        "# Sandra travelled to the office . John journeyed to the garden ."
      ]
    },
    {
      "cell_type": "markdown",
      "metadata": {
        "id": "ZtYRcM2KE4te"
      },
      "source": [
        "As you understood how the model trained, please tell us about the pros and cons of the proposed model. How can we improve it if we want to use it in realistic task ? "
      ]
    },
    {
      "cell_type": "markdown",
      "metadata": {
        "id": "p9NiIbN5F7zb"
      },
      "source": [
        "$\\color{red}{\\text{Write your answer in document}}$\n",
        "\n"
      ]
    },
    {
      "cell_type": "markdown",
      "metadata": {
        "id": "OFKXfqrgQfQm"
      },
      "source": [
        "#  2. Hands on SSL"
      ]
    },
    {
      "cell_type": "code",
      "execution_count": null,
      "metadata": {
        "id": "0WP9j6u6hADR"
      },
      "outputs": [],
      "source": [
        "import cv2\n",
        "import numpy as np\n",
        "from matplotlib import pyplot as plt\n",
        "from tensorflow import keras"
      ]
    },
    {
      "cell_type": "markdown",
      "metadata": {
        "id": "h7UbcqmKUZ1q"
      },
      "source": [
        "## 2.1 prepare data"
      ]
    },
    {
      "cell_type": "code",
      "execution_count": null,
      "metadata": {
        "id": "RDOwLbCAjENO",
        "colab": {
          "base_uri": "https://localhost:8080/"
        },
        "outputId": "370cf731-0900-4b80-8aa1-6f8dc35d49be"
      },
      "outputs": [
        {
          "output_type": "stream",
          "name": "stdout",
          "text": [
            "Downloading data from https://www.cs.toronto.edu/~kriz/cifar-10-python.tar.gz\n",
            "170500096/170498071 [==============================] - 5s 0us/step\n",
            "170508288/170498071 [==============================] - 5s 0us/step\n"
          ]
        }
      ],
      "source": [
        "(x_train, y_train), (x_test, y_test) = keras.datasets.cifar10.load_data()"
      ]
    },
    {
      "cell_type": "code",
      "execution_count": null,
      "metadata": {
        "id": "_GMQmFwajGW4"
      },
      "outputs": [],
      "source": [
        "unlabeld_index = np.ones(y_train.shape, np.bool)\n",
        "\n",
        "N = 20\n",
        "for i in range(10):\n",
        "  idx = np.where(y_train == i)[0][:N]\n",
        "  unlabeld_index[idx] = 0"
      ]
    },
    {
      "cell_type": "code",
      "execution_count": null,
      "metadata": {
        "id": "cBwOJ5sJjJOm"
      },
      "outputs": [],
      "source": [
        "x_unlabeld = x_train[np.where(unlabeld_index)[0], ...]\n",
        "\n",
        "x_train = x_train[np.where(~unlabeld_index)[0], ...]\n",
        "y_train = y_train[np.where(~unlabeld_index)[0], ...]"
      ]
    },
    {
      "cell_type": "code",
      "execution_count": null,
      "metadata": {
        "colab": {
          "base_uri": "https://localhost:8080/"
        },
        "id": "B4R5nnKejLF2",
        "outputId": "10aa6ff6-ad8e-4642-c1d6-d9e5638e688a"
      },
      "outputs": [
        {
          "output_type": "stream",
          "name": "stdout",
          "text": [
            "0.051293306\n",
            "0.0\n",
            "0.0\n"
          ]
        }
      ],
      "source": [
        "# examples of categorical crossentropy\n",
        "cce = keras.losses.CategoricalCrossentropy()\n",
        "\n",
        "# a labeled data from the second class\n",
        "y_true = [[0, 1, 0, 0]]\n",
        "y_pred = [[0.05, 0.95, 0, 0]]\n",
        "print(cce(y_true, y_pred).numpy())\n",
        "\n",
        "# an ulabeled data\n",
        "y_true = [[0, 0, 0, 0]]\n",
        "y_pred = [[0.05, 0.95, 0, 0]]\n",
        "print(cce(y_true, y_pred).numpy())\n",
        "\n",
        "# another ulabeled data\n",
        "y_true = [[0, 0, 0, 0]]\n",
        "y_pred = [[0.1, 0.4, 0.3, 0.2]]\n",
        "print(cce(y_true, y_pred).numpy())"
      ]
    },
    {
      "cell_type": "code",
      "execution_count": null,
      "metadata": {
        "colab": {
          "base_uri": "https://localhost:8080/"
        },
        "id": "7jy8IRxwpGZh",
        "outputId": "04b66660-0dbb-4df7-e7f4-540daab754ef"
      },
      "outputs": [
        {
          "output_type": "stream",
          "name": "stdout",
          "text": [
            "(49800, 32, 32, 3)\n",
            "(200, 32, 32, 3)\n",
            "(200, 1)\n"
          ]
        }
      ],
      "source": [
        "print(x_unlabeld.shape)\n",
        "print(x_train.shape)\n",
        "print(y_train.shape)"
      ]
    },
    {
      "cell_type": "code",
      "execution_count": null,
      "metadata": {
        "id": "t-OA4dSPq0D4"
      },
      "outputs": [],
      "source": [
        "from tensorflow.keras.utils import to_categorical\n",
        "\n",
        "# preprocess dataset\n",
        "x_unlabeld_normalized = np.divide(x_unlabeld.astype('float32'), 255)\n",
        "x_train_normalized = np.divide(x_train.astype('float32'), 255)\n",
        "y_train_onehot = to_categorical(y_train, num_classes=10)\n",
        "\n",
        "# preprocess trainset\n",
        "x_test_normalized = np.divide(x_test.astype('float32'), 255)\n",
        "y_test_onehot = to_categorical(y_test, num_classes=10)"
      ]
    },
    {
      "cell_type": "code",
      "execution_count": null,
      "metadata": {
        "colab": {
          "base_uri": "https://localhost:8080/"
        },
        "id": "VxIymD4DyNSg",
        "outputId": "1de99bdf-f4af-4093-fa3c-9f5c01e34b5b"
      },
      "outputs": [
        {
          "output_type": "stream",
          "name": "stdout",
          "text": [
            "(200, 10)\n",
            "(10000, 10)\n"
          ]
        }
      ],
      "source": [
        "print(y_train_onehot.shape)\n",
        "print(y_test_onehot.shape)"
      ]
    },
    {
      "cell_type": "code",
      "execution_count": null,
      "metadata": {
        "id": "GPDQ6h0ksIbA"
      },
      "outputs": [],
      "source": [
        "from keras.models import Sequential\n",
        "from keras.layers import Conv2D, MaxPooling2D, Dense, Flatten, BatchNormalization, Dropout\n",
        "from tensorflow.keras.optimizers import SGD, Adam\n",
        "\n",
        "def convolutional(p):\n",
        "  model = Sequential()\n",
        "  model.add(Conv2D(32, (3, 3), activation='relu', padding='same', input_shape=(32, 32, 3)))\n",
        "  model.add(BatchNormalization())\n",
        "  model.add(Conv2D(32, (3, 3), activation='relu', padding='same'))\n",
        "  model.add(BatchNormalization())\n",
        "  model.add(MaxPooling2D((2, 2)))\n",
        "  model.add(Dropout(p))\n",
        "  model.add(Conv2D(64, (3, 3), activation='relu', padding='same'))\n",
        "  model.add(BatchNormalization())\n",
        "  model.add(Conv2D(64, (3, 3), activation='relu', padding='same'))\n",
        "  model.add(BatchNormalization())\n",
        "  model.add(MaxPooling2D((2, 2)))\n",
        "  model.add(Dropout(p))\n",
        "  model.add(Conv2D(128, (3, 3), activation='relu', padding='same'))\n",
        "  model.add(BatchNormalization())\n",
        "  model.add(Conv2D(128, (3, 3), activation='relu', padding='same'))\n",
        "  model.add(BatchNormalization())\n",
        "  model.add(MaxPooling2D((2, 2)))\n",
        "  model.add(Dropout(p))\n",
        "  return model"
      ]
    },
    {
      "cell_type": "code",
      "execution_count": null,
      "metadata": {
        "colab": {
          "base_uri": "https://localhost:8080/"
        },
        "id": "y8pjGoiiumPo",
        "outputId": "0883a103-7212-4bfe-fbf1-f82179e3c62e"
      },
      "outputs": [
        {
          "output_type": "stream",
          "name": "stdout",
          "text": [
            "Model: \"sequential\"\n",
            "_________________________________________________________________\n",
            " Layer (type)                Output Shape              Param #   \n",
            "=================================================================\n",
            " conv2d (Conv2D)             (None, 32, 32, 32)        896       \n",
            "                                                                 \n",
            " batch_normalization (BatchN  (None, 32, 32, 32)       128       \n",
            " ormalization)                                                   \n",
            "                                                                 \n",
            " conv2d_1 (Conv2D)           (None, 32, 32, 32)        9248      \n",
            "                                                                 \n",
            " batch_normalization_1 (Batc  (None, 32, 32, 32)       128       \n",
            " hNormalization)                                                 \n",
            "                                                                 \n",
            " max_pooling2d (MaxPooling2D  (None, 16, 16, 32)       0         \n",
            " )                                                               \n",
            "                                                                 \n",
            " dropout (Dropout)           (None, 16, 16, 32)        0         \n",
            "                                                                 \n",
            " conv2d_2 (Conv2D)           (None, 16, 16, 64)        18496     \n",
            "                                                                 \n",
            " batch_normalization_2 (Batc  (None, 16, 16, 64)       256       \n",
            " hNormalization)                                                 \n",
            "                                                                 \n",
            " conv2d_3 (Conv2D)           (None, 16, 16, 64)        36928     \n",
            "                                                                 \n",
            " batch_normalization_3 (Batc  (None, 16, 16, 64)       256       \n",
            " hNormalization)                                                 \n",
            "                                                                 \n",
            " max_pooling2d_1 (MaxPooling  (None, 8, 8, 64)         0         \n",
            " 2D)                                                             \n",
            "                                                                 \n",
            " dropout_1 (Dropout)         (None, 8, 8, 64)          0         \n",
            "                                                                 \n",
            " conv2d_4 (Conv2D)           (None, 8, 8, 128)         73856     \n",
            "                                                                 \n",
            " batch_normalization_4 (Batc  (None, 8, 8, 128)        512       \n",
            " hNormalization)                                                 \n",
            "                                                                 \n",
            " conv2d_5 (Conv2D)           (None, 8, 8, 128)         147584    \n",
            "                                                                 \n",
            " batch_normalization_5 (Batc  (None, 8, 8, 128)        512       \n",
            " hNormalization)                                                 \n",
            "                                                                 \n",
            " max_pooling2d_2 (MaxPooling  (None, 4, 4, 128)        0         \n",
            " 2D)                                                             \n",
            "                                                                 \n",
            " dropout_2 (Dropout)         (None, 4, 4, 128)         0         \n",
            "                                                                 \n",
            " flatten (Flatten)           (None, 2048)              0         \n",
            "                                                                 \n",
            " dense (Dense)               (None, 128)               262272    \n",
            "                                                                 \n",
            " dense_1 (Dense)             (None, 10)                1290      \n",
            "                                                                 \n",
            "=================================================================\n",
            "Total params: 552,362\n",
            "Trainable params: 551,466\n",
            "Non-trainable params: 896\n",
            "_________________________________________________________________\n"
          ]
        }
      ],
      "source": [
        "model1 = convolutional(0.2)\n",
        "model1.add(Flatten())\n",
        "model1.add(Dense(128, activation='relu', kernel_initializer='he_uniform'))\n",
        "model1.add(Dense(10, activation='softmax'))\n",
        "\n",
        "model1.summary()"
      ]
    },
    {
      "cell_type": "code",
      "execution_count": null,
      "metadata": {
        "id": "Q0YoRGstukqX"
      },
      "outputs": [],
      "source": [
        "opt = Adam(learning_rate=0.01)\n",
        "model1.compile(optimizer=opt, loss='categorical_crossentropy', metrics=['accuracy'])"
      ]
    },
    {
      "cell_type": "code",
      "execution_count": null,
      "metadata": {
        "colab": {
          "base_uri": "https://localhost:8080/"
        },
        "id": "KYJgOXfZxGEO",
        "outputId": "32b1ab24-b21e-446d-fe59-40c03fb30c4d"
      },
      "outputs": [
        {
          "name": "stdout",
          "output_type": "stream",
          "text": [
            "Epoch 1/100\n",
            "4/4 [==============================] - 22s 7s/step - loss: 9.1873 - accuracy: 0.1600 - val_loss: 2402.4680 - val_accuracy: 0.0913\n",
            "Epoch 2/100\n",
            "4/4 [==============================] - 23s 7s/step - loss: 5.9166 - accuracy: 0.2000 - val_loss: 2992.3362 - val_accuracy: 0.1283\n",
            "Epoch 3/100\n",
            "4/4 [==============================] - 23s 8s/step - loss: 5.9463 - accuracy: 0.3150 - val_loss: 5952.2778 - val_accuracy: 0.1007\n",
            "Epoch 4/100\n",
            "4/4 [==============================] - 22s 7s/step - loss: 4.4410 - accuracy: 0.3350 - val_loss: 5850.2920 - val_accuracy: 0.0976\n",
            "Epoch 5/100\n",
            "4/4 [==============================] - 22s 7s/step - loss: 4.5020 - accuracy: 0.3000 - val_loss: 3503.3760 - val_accuracy: 0.0993\n",
            "Epoch 6/100\n",
            "4/4 [==============================] - 22s 7s/step - loss: 3.8864 - accuracy: 0.3250 - val_loss: 1447.0992 - val_accuracy: 0.1235\n",
            "Epoch 7/100\n",
            "4/4 [==============================] - 22s 7s/step - loss: 3.0249 - accuracy: 0.3850 - val_loss: 457.3521 - val_accuracy: 0.1105\n",
            "Epoch 8/100\n",
            "4/4 [==============================] - 22s 7s/step - loss: 3.3325 - accuracy: 0.3650 - val_loss: 221.2388 - val_accuracy: 0.1237\n",
            "Epoch 9/100\n",
            "4/4 [==============================] - 21s 7s/step - loss: 2.5871 - accuracy: 0.3550 - val_loss: 233.8309 - val_accuracy: 0.1255\n",
            "Epoch 10/100\n",
            "4/4 [==============================] - 22s 7s/step - loss: 2.2392 - accuracy: 0.3900 - val_loss: 170.2009 - val_accuracy: 0.1293\n",
            "Epoch 11/100\n",
            "4/4 [==============================] - 21s 7s/step - loss: 1.6362 - accuracy: 0.4550 - val_loss: 94.7551 - val_accuracy: 0.1601\n",
            "Epoch 12/100\n",
            "4/4 [==============================] - 21s 7s/step - loss: 1.6398 - accuracy: 0.4850 - val_loss: 98.1842 - val_accuracy: 0.1432\n",
            "Epoch 13/100\n",
            "4/4 [==============================] - 21s 7s/step - loss: 1.5910 - accuracy: 0.5350 - val_loss: 79.6656 - val_accuracy: 0.1343\n",
            "Epoch 14/100\n",
            "4/4 [==============================] - 22s 7s/step - loss: 1.3932 - accuracy: 0.5800 - val_loss: 52.6287 - val_accuracy: 0.1498\n",
            "Epoch 15/100\n",
            "4/4 [==============================] - 22s 7s/step - loss: 2.0451 - accuracy: 0.4850 - val_loss: 54.7408 - val_accuracy: 0.1176\n",
            "Epoch 16/100\n",
            "4/4 [==============================] - 21s 7s/step - loss: 2.1911 - accuracy: 0.5100 - val_loss: 60.8361 - val_accuracy: 0.1461\n",
            "Epoch 17/100\n",
            "4/4 [==============================] - 21s 7s/step - loss: 1.6289 - accuracy: 0.5450 - val_loss: 86.4782 - val_accuracy: 0.1100\n",
            "Epoch 18/100\n",
            "4/4 [==============================] - 21s 7s/step - loss: 1.4461 - accuracy: 0.5700 - val_loss: 53.1840 - val_accuracy: 0.1272\n",
            "Epoch 19/100\n",
            "4/4 [==============================] - 21s 7s/step - loss: 1.4280 - accuracy: 0.5900 - val_loss: 41.6968 - val_accuracy: 0.1416\n",
            "Epoch 20/100\n",
            "4/4 [==============================] - 21s 7s/step - loss: 1.2310 - accuracy: 0.5800 - val_loss: 58.7458 - val_accuracy: 0.1374\n",
            "Epoch 21/100\n",
            "4/4 [==============================] - 21s 7s/step - loss: 1.4066 - accuracy: 0.5950 - val_loss: 59.0705 - val_accuracy: 0.1432\n",
            "Epoch 22/100\n",
            "4/4 [==============================] - 21s 7s/step - loss: 1.3371 - accuracy: 0.6100 - val_loss: 45.6180 - val_accuracy: 0.1449\n",
            "Epoch 23/100\n",
            "4/4 [==============================] - 21s 7s/step - loss: 1.2189 - accuracy: 0.6450 - val_loss: 30.1046 - val_accuracy: 0.1467\n",
            "Epoch 24/100\n",
            "4/4 [==============================] - 21s 7s/step - loss: 1.0165 - accuracy: 0.6550 - val_loss: 21.5247 - val_accuracy: 0.1566\n",
            "Epoch 25/100\n",
            "4/4 [==============================] - 21s 7s/step - loss: 0.9316 - accuracy: 0.6950 - val_loss: 14.5729 - val_accuracy: 0.1786\n",
            "Epoch 26/100\n",
            "4/4 [==============================] - 21s 7s/step - loss: 0.9997 - accuracy: 0.6300 - val_loss: 15.1546 - val_accuracy: 0.1813\n",
            "Epoch 27/100\n",
            "4/4 [==============================] - 21s 7s/step - loss: 0.8849 - accuracy: 0.7000 - val_loss: 18.9974 - val_accuracy: 0.1737\n",
            "Epoch 28/100\n",
            "4/4 [==============================] - 21s 7s/step - loss: 0.8594 - accuracy: 0.7000 - val_loss: 18.2497 - val_accuracy: 0.1644\n",
            "Epoch 29/100\n",
            "4/4 [==============================] - 21s 7s/step - loss: 0.8081 - accuracy: 0.6750 - val_loss: 13.2827 - val_accuracy: 0.1610\n",
            "Epoch 30/100\n",
            "4/4 [==============================] - 21s 7s/step - loss: 0.9890 - accuracy: 0.6650 - val_loss: 11.1884 - val_accuracy: 0.1702\n",
            "Epoch 31/100\n",
            "4/4 [==============================] - 21s 7s/step - loss: 0.7499 - accuracy: 0.7350 - val_loss: 11.2526 - val_accuracy: 0.1881\n",
            "Epoch 32/100\n",
            "4/4 [==============================] - 21s 7s/step - loss: 0.8438 - accuracy: 0.7150 - val_loss: 12.1685 - val_accuracy: 0.1738\n",
            "Epoch 33/100\n",
            "4/4 [==============================] - 21s 7s/step - loss: 0.9747 - accuracy: 0.6700 - val_loss: 14.0916 - val_accuracy: 0.1525\n",
            "Epoch 34/100\n",
            "4/4 [==============================] - 20s 7s/step - loss: 0.8104 - accuracy: 0.7250 - val_loss: 15.0741 - val_accuracy: 0.1609\n",
            "Epoch 35/100\n",
            "4/4 [==============================] - 21s 7s/step - loss: 0.6709 - accuracy: 0.7700 - val_loss: 15.4125 - val_accuracy: 0.1506\n",
            "Epoch 36/100\n",
            "4/4 [==============================] - 21s 7s/step - loss: 0.8740 - accuracy: 0.7250 - val_loss: 12.3687 - val_accuracy: 0.1776\n",
            "Epoch 37/100\n",
            "4/4 [==============================] - 20s 7s/step - loss: 0.7499 - accuracy: 0.7350 - val_loss: 11.0581 - val_accuracy: 0.1914\n",
            "Epoch 38/100\n",
            "4/4 [==============================] - 21s 7s/step - loss: 0.7133 - accuracy: 0.7550 - val_loss: 10.2012 - val_accuracy: 0.1790\n",
            "Epoch 39/100\n",
            "4/4 [==============================] - 21s 7s/step - loss: 0.5733 - accuracy: 0.7900 - val_loss: 9.7685 - val_accuracy: 0.1750\n",
            "Epoch 40/100\n",
            "4/4 [==============================] - 20s 7s/step - loss: 0.7976 - accuracy: 0.7150 - val_loss: 9.7577 - val_accuracy: 0.1787\n",
            "Epoch 41/100\n",
            "4/4 [==============================] - 21s 7s/step - loss: 0.5589 - accuracy: 0.7950 - val_loss: 7.3256 - val_accuracy: 0.1772\n",
            "Epoch 42/100\n",
            "4/4 [==============================] - 21s 7s/step - loss: 0.5531 - accuracy: 0.8200 - val_loss: 5.5438 - val_accuracy: 0.1854\n",
            "Epoch 43/100\n",
            "4/4 [==============================] - 21s 7s/step - loss: 0.6869 - accuracy: 0.7750 - val_loss: 6.6163 - val_accuracy: 0.2018\n",
            "Epoch 44/100\n",
            "4/4 [==============================] - 21s 7s/step - loss: 0.7278 - accuracy: 0.7800 - val_loss: 7.8963 - val_accuracy: 0.1960\n",
            "Epoch 45/100\n",
            "4/4 [==============================] - 20s 7s/step - loss: 1.1100 - accuracy: 0.7200 - val_loss: 6.2382 - val_accuracy: 0.1743\n",
            "Epoch 46/100\n",
            "4/4 [==============================] - 21s 7s/step - loss: 0.8857 - accuracy: 0.6900 - val_loss: 7.0523 - val_accuracy: 0.1767\n",
            "Epoch 47/100\n",
            "4/4 [==============================] - 20s 7s/step - loss: 0.9949 - accuracy: 0.7450 - val_loss: 10.6246 - val_accuracy: 0.1656\n",
            "Epoch 48/100\n",
            "4/4 [==============================] - 20s 7s/step - loss: 1.0079 - accuracy: 0.7250 - val_loss: 8.3869 - val_accuracy: 0.1668\n",
            "Epoch 49/100\n",
            "4/4 [==============================] - 20s 7s/step - loss: 0.5878 - accuracy: 0.8100 - val_loss: 8.5530 - val_accuracy: 0.1839\n",
            "Epoch 50/100\n",
            "4/4 [==============================] - 20s 7s/step - loss: 0.5795 - accuracy: 0.7850 - val_loss: 7.1271 - val_accuracy: 0.1937\n",
            "Epoch 51/100\n",
            "4/4 [==============================] - 20s 7s/step - loss: 0.6088 - accuracy: 0.7950 - val_loss: 7.1719 - val_accuracy: 0.1805\n",
            "Epoch 52/100\n",
            "4/4 [==============================] - 20s 7s/step - loss: 0.5063 - accuracy: 0.8150 - val_loss: 7.9903 - val_accuracy: 0.1734\n",
            "Epoch 53/100\n",
            "4/4 [==============================] - 20s 7s/step - loss: 0.4899 - accuracy: 0.8350 - val_loss: 8.1691 - val_accuracy: 0.1841\n",
            "Epoch 54/100\n",
            "4/4 [==============================] - 20s 7s/step - loss: 0.4644 - accuracy: 0.8550 - val_loss: 9.6497 - val_accuracy: 0.1641\n",
            "Epoch 55/100\n",
            "4/4 [==============================] - 20s 7s/step - loss: 0.5821 - accuracy: 0.8450 - val_loss: 10.3443 - val_accuracy: 0.1642\n",
            "Epoch 56/100\n",
            "4/4 [==============================] - 20s 7s/step - loss: 0.5124 - accuracy: 0.8150 - val_loss: 9.8218 - val_accuracy: 0.1879\n",
            "Epoch 57/100\n",
            "4/4 [==============================] - 21s 7s/step - loss: 0.4204 - accuracy: 0.8450 - val_loss: 9.5166 - val_accuracy: 0.1961\n",
            "Epoch 58/100\n",
            "4/4 [==============================] - 20s 7s/step - loss: 0.3446 - accuracy: 0.8950 - val_loss: 8.5179 - val_accuracy: 0.1989\n",
            "Epoch 59/100\n",
            "4/4 [==============================] - 21s 7s/step - loss: 0.2809 - accuracy: 0.9000 - val_loss: 8.6122 - val_accuracy: 0.1859\n",
            "Epoch 60/100\n",
            "4/4 [==============================] - 21s 7s/step - loss: 0.4341 - accuracy: 0.8650 - val_loss: 8.5804 - val_accuracy: 0.1965\n",
            "Epoch 61/100\n",
            "4/4 [==============================] - 23s 8s/step - loss: 0.3523 - accuracy: 0.8700 - val_loss: 7.0312 - val_accuracy: 0.2105\n",
            "Epoch 62/100\n",
            "4/4 [==============================] - 21s 7s/step - loss: 0.4046 - accuracy: 0.8450 - val_loss: 6.2200 - val_accuracy: 0.2156\n",
            "Epoch 63/100\n",
            "4/4 [==============================] - 21s 7s/step - loss: 0.3038 - accuracy: 0.8900 - val_loss: 6.3407 - val_accuracy: 0.2220\n",
            "Epoch 64/100\n",
            "4/4 [==============================] - 20s 7s/step - loss: 0.3071 - accuracy: 0.9150 - val_loss: 6.5509 - val_accuracy: 0.2294\n",
            "Epoch 65/100\n",
            "4/4 [==============================] - 20s 7s/step - loss: 0.3234 - accuracy: 0.8900 - val_loss: 6.4203 - val_accuracy: 0.2306\n",
            "Epoch 66/100\n",
            "4/4 [==============================] - 20s 7s/step - loss: 0.3965 - accuracy: 0.8600 - val_loss: 7.2288 - val_accuracy: 0.2029\n",
            "Epoch 67/100\n",
            "4/4 [==============================] - 21s 7s/step - loss: 0.3713 - accuracy: 0.8700 - val_loss: 6.6355 - val_accuracy: 0.2198\n",
            "Epoch 68/100\n",
            "4/4 [==============================] - 21s 7s/step - loss: 0.3141 - accuracy: 0.8950 - val_loss: 5.8224 - val_accuracy: 0.2344\n",
            "Epoch 69/100\n",
            "4/4 [==============================] - 21s 7s/step - loss: 0.2349 - accuracy: 0.9300 - val_loss: 5.6117 - val_accuracy: 0.2396\n",
            "Epoch 70/100\n",
            "4/4 [==============================] - 21s 7s/step - loss: 0.3936 - accuracy: 0.9200 - val_loss: 5.4658 - val_accuracy: 0.2275\n",
            "Epoch 71/100\n",
            "4/4 [==============================] - 21s 7s/step - loss: 0.2778 - accuracy: 0.9100 - val_loss: 5.8189 - val_accuracy: 0.1968\n",
            "Epoch 72/100\n",
            "4/4 [==============================] - 21s 7s/step - loss: 0.7949 - accuracy: 0.8250 - val_loss: 5.5225 - val_accuracy: 0.2016\n",
            "Epoch 73/100\n",
            "4/4 [==============================] - 21s 7s/step - loss: 0.8003 - accuracy: 0.7800 - val_loss: 6.0236 - val_accuracy: 0.2001\n",
            "Epoch 74/100\n",
            "4/4 [==============================] - 21s 7s/step - loss: 0.6338 - accuracy: 0.8550 - val_loss: 6.6753 - val_accuracy: 0.2259\n",
            "Epoch 75/100\n",
            "4/4 [==============================] - 21s 7s/step - loss: 0.3994 - accuracy: 0.9150 - val_loss: 7.7057 - val_accuracy: 0.2253\n",
            "Epoch 76/100\n",
            "4/4 [==============================] - 21s 7s/step - loss: 0.4314 - accuracy: 0.8900 - val_loss: 7.5989 - val_accuracy: 0.2169\n",
            "Epoch 77/100\n",
            "4/4 [==============================] - 21s 7s/step - loss: 0.3561 - accuracy: 0.8850 - val_loss: 7.2602 - val_accuracy: 0.2168\n",
            "Epoch 78/100\n",
            "4/4 [==============================] - 21s 7s/step - loss: 0.3352 - accuracy: 0.9050 - val_loss: 7.5365 - val_accuracy: 0.2114\n",
            "Epoch 79/100\n",
            "4/4 [==============================] - 21s 7s/step - loss: 0.3852 - accuracy: 0.8550 - val_loss: 7.5145 - val_accuracy: 0.2053\n",
            "Epoch 80/100\n",
            "4/4 [==============================] - 21s 7s/step - loss: 0.2961 - accuracy: 0.8900 - val_loss: 6.8383 - val_accuracy: 0.1916\n",
            "Epoch 81/100\n",
            "4/4 [==============================] - 21s 7s/step - loss: 0.3609 - accuracy: 0.8900 - val_loss: 6.7615 - val_accuracy: 0.2004\n",
            "Epoch 82/100\n",
            "4/4 [==============================] - 21s 7s/step - loss: 0.3355 - accuracy: 0.8800 - val_loss: 6.2376 - val_accuracy: 0.2113\n",
            "Epoch 83/100\n",
            "4/4 [==============================] - 21s 7s/step - loss: 0.2731 - accuracy: 0.9250 - val_loss: 6.4549 - val_accuracy: 0.2091\n",
            "Epoch 84/100\n",
            "4/4 [==============================] - 21s 7s/step - loss: 0.3340 - accuracy: 0.9050 - val_loss: 6.6466 - val_accuracy: 0.1975\n",
            "Epoch 85/100\n",
            "4/4 [==============================] - 21s 7s/step - loss: 0.2632 - accuracy: 0.9400 - val_loss: 6.5507 - val_accuracy: 0.1993\n",
            "Epoch 86/100\n",
            "4/4 [==============================] - 21s 7s/step - loss: 0.2094 - accuracy: 0.9450 - val_loss: 6.1901 - val_accuracy: 0.2152\n",
            "Epoch 87/100\n",
            "4/4 [==============================] - 21s 7s/step - loss: 0.3736 - accuracy: 0.9000 - val_loss: 6.7809 - val_accuracy: 0.2208\n",
            "Epoch 88/100\n",
            "4/4 [==============================] - 21s 7s/step - loss: 0.2360 - accuracy: 0.9250 - val_loss: 6.7828 - val_accuracy: 0.2153\n",
            "Epoch 89/100\n",
            "4/4 [==============================] - 21s 7s/step - loss: 0.2857 - accuracy: 0.8950 - val_loss: 5.9467 - val_accuracy: 0.2217\n",
            "Epoch 90/100\n",
            "4/4 [==============================] - 21s 7s/step - loss: 0.2593 - accuracy: 0.9250 - val_loss: 6.3134 - val_accuracy: 0.2145\n",
            "Epoch 91/100\n",
            "4/4 [==============================] - 21s 7s/step - loss: 0.2474 - accuracy: 0.9050 - val_loss: 6.2489 - val_accuracy: 0.2292\n",
            "Epoch 92/100\n",
            "4/4 [==============================] - 21s 7s/step - loss: 0.1423 - accuracy: 0.9600 - val_loss: 6.4588 - val_accuracy: 0.2489\n",
            "Epoch 93/100\n",
            "4/4 [==============================] - 20s 7s/step - loss: 0.1822 - accuracy: 0.9450 - val_loss: 6.4508 - val_accuracy: 0.2596\n",
            "Epoch 94/100\n",
            "4/4 [==============================] - 21s 7s/step - loss: 0.1571 - accuracy: 0.9500 - val_loss: 6.3518 - val_accuracy: 0.2611\n",
            "Epoch 95/100\n",
            "4/4 [==============================] - 21s 7s/step - loss: 0.1022 - accuracy: 0.9750 - val_loss: 6.4887 - val_accuracy: 0.2554\n",
            "Epoch 96/100\n",
            "4/4 [==============================] - 21s 7s/step - loss: 0.1395 - accuracy: 0.9600 - val_loss: 6.6277 - val_accuracy: 0.2443\n",
            "Epoch 97/100\n",
            "4/4 [==============================] - 21s 7s/step - loss: 0.1319 - accuracy: 0.9600 - val_loss: 6.4494 - val_accuracy: 0.2422\n",
            "Epoch 98/100\n",
            "4/4 [==============================] - 21s 7s/step - loss: 0.1396 - accuracy: 0.9500 - val_loss: 6.3475 - val_accuracy: 0.2355\n",
            "Epoch 99/100\n",
            "4/4 [==============================] - 20s 7s/step - loss: 0.1013 - accuracy: 0.9700 - val_loss: 7.4126 - val_accuracy: 0.2196\n",
            "Epoch 100/100\n",
            "4/4 [==============================] - 21s 7s/step - loss: 0.2860 - accuracy: 0.9100 - val_loss: 8.0633 - val_accuracy: 0.2086\n"
          ]
        },
        {
          "data": {
            "text/plain": [
              "<keras.callbacks.History at 0x7f65a61fcf50>"
            ]
          },
          "execution_count": 90,
          "metadata": {},
          "output_type": "execute_result"
        }
      ],
      "source": [
        "model1.fit(x_train_normalized, y_train_onehot, validation_data=(x_test_normalized, y_test_onehot), batch_size=64, epochs=100)"
      ]
    },
    {
      "cell_type": "code",
      "execution_count": null,
      "metadata": {
        "id": "C244NOgOqTQN"
      },
      "outputs": [],
      "source": [
        "model1.save(\"model1.h5\")"
      ]
    },
    {
      "cell_type": "code",
      "execution_count": null,
      "metadata": {
        "id": "IQ8w9v2Jzy6o"
      },
      "outputs": [],
      "source": [
        "# Q4, part 2\n",
        "def rotate(img, i):\n",
        "  # rotate image i * 90 degree times\n",
        "  y = np.zeros(4)\n",
        "  x = np.rot90(img, k=i)\n",
        "  y[i] = 1\n",
        "  return x, y\n",
        "\n",
        "def ssl_data(data):\n",
        "  x_rotated = []\n",
        "  y_rotated = []\n",
        "  for d in data:\n",
        "    for i in range(4):\n",
        "      x, y = rotate(d, i)\n",
        "      x_rotated.append(x)\n",
        "      y_rotated.append(y)\n",
        "    \n",
        "  return x_rotated, y_rotated\n",
        "\n",
        "x_rotated, y_rotated = ssl_data(x_unlabeld_normalized)"
      ]
    },
    {
      "cell_type": "code",
      "execution_count": null,
      "metadata": {
        "colab": {
          "base_uri": "https://localhost:8080/"
        },
        "id": "AG2vOaZsfhVg",
        "outputId": "ce27f9dd-4958-4d5f-ac8a-5471434f81a7"
      },
      "outputs": [
        {
          "output_type": "stream",
          "name": "stdout",
          "text": [
            "(199200, 32, 32, 3)\n",
            "(199200, 4)\n"
          ]
        }
      ],
      "source": [
        "x_rotated_arr = np.array(x_rotated)\n",
        "y_rotated_arr = np.array(y_rotated)\n",
        "\n",
        "# 4 train data for each image\n",
        "print(x_rotated_arr.shape)\n",
        "print(y_rotated_arr.shape)"
      ]
    },
    {
      "cell_type": "code",
      "execution_count": null,
      "metadata": {
        "colab": {
          "base_uri": "https://localhost:8080/"
        },
        "id": "PZZ-qGj3gKYY",
        "outputId": "61853c9e-7d2c-4b44-8156-c1759cf9c947"
      },
      "outputs": [
        {
          "output_type": "stream",
          "name": "stdout",
          "text": [
            "Model: \"sequential_1\"\n",
            "_________________________________________________________________\n",
            " Layer (type)                Output Shape              Param #   \n",
            "=================================================================\n",
            " conv2d_6 (Conv2D)           (None, 32, 32, 32)        896       \n",
            "                                                                 \n",
            " batch_normalization_6 (Batc  (None, 32, 32, 32)       128       \n",
            " hNormalization)                                                 \n",
            "                                                                 \n",
            " conv2d_7 (Conv2D)           (None, 32, 32, 32)        9248      \n",
            "                                                                 \n",
            " batch_normalization_7 (Batc  (None, 32, 32, 32)       128       \n",
            " hNormalization)                                                 \n",
            "                                                                 \n",
            " max_pooling2d_3 (MaxPooling  (None, 16, 16, 32)       0         \n",
            " 2D)                                                             \n",
            "                                                                 \n",
            " dropout_3 (Dropout)         (None, 16, 16, 32)        0         \n",
            "                                                                 \n",
            " conv2d_8 (Conv2D)           (None, 16, 16, 64)        18496     \n",
            "                                                                 \n",
            " batch_normalization_8 (Batc  (None, 16, 16, 64)       256       \n",
            " hNormalization)                                                 \n",
            "                                                                 \n",
            " conv2d_9 (Conv2D)           (None, 16, 16, 64)        36928     \n",
            "                                                                 \n",
            " batch_normalization_9 (Batc  (None, 16, 16, 64)       256       \n",
            " hNormalization)                                                 \n",
            "                                                                 \n",
            " max_pooling2d_4 (MaxPooling  (None, 8, 8, 64)         0         \n",
            " 2D)                                                             \n",
            "                                                                 \n",
            " dropout_4 (Dropout)         (None, 8, 8, 64)          0         \n",
            "                                                                 \n",
            " conv2d_10 (Conv2D)          (None, 8, 8, 128)         73856     \n",
            "                                                                 \n",
            " batch_normalization_10 (Bat  (None, 8, 8, 128)        512       \n",
            " chNormalization)                                                \n",
            "                                                                 \n",
            " conv2d_11 (Conv2D)          (None, 8, 8, 128)         147584    \n",
            "                                                                 \n",
            " batch_normalization_11 (Bat  (None, 8, 8, 128)        512       \n",
            " chNormalization)                                                \n",
            "                                                                 \n",
            " max_pooling2d_5 (MaxPooling  (None, 4, 4, 128)        0         \n",
            " 2D)                                                             \n",
            "                                                                 \n",
            " dropout_5 (Dropout)         (None, 4, 4, 128)         0         \n",
            "                                                                 \n",
            " flatten_1 (Flatten)         (None, 2048)              0         \n",
            "                                                                 \n",
            " dense_2 (Dense)             (None, 64)                131136    \n",
            "                                                                 \n",
            " dense_3 (Dense)             (None, 4)                 260       \n",
            "                                                                 \n",
            "=================================================================\n",
            "Total params: 420,196\n",
            "Trainable params: 419,300\n",
            "Non-trainable params: 896\n",
            "_________________________________________________________________\n"
          ]
        }
      ],
      "source": [
        "model2 = convolutional(0.2)\n",
        "model2.add(Flatten())\n",
        "model2.add(Dense(64, activation='relu', kernel_initializer='he_uniform'))\n",
        "model2.add(Dense(4, activation='softmax'))\n",
        "\n",
        "model2.summary()"
      ]
    },
    {
      "cell_type": "code",
      "execution_count": null,
      "metadata": {
        "colab": {
          "base_uri": "https://localhost:8080/"
        },
        "id": "QkcbE7EVrIYh",
        "outputId": "0c165b12-033e-42d5-88df-4e2f3fb8352d"
      },
      "outputs": [
        {
          "output_type": "stream",
          "name": "stdout",
          "text": [
            "Epoch 1/15\n",
            "779/779 [==============================] - 57s 58ms/step - loss: 0.9490 - accuracy: 0.6039\n",
            "Epoch 2/15\n",
            "779/779 [==============================] - 45s 58ms/step - loss: 0.7259 - accuracy: 0.7078\n",
            "Epoch 3/15\n",
            "779/779 [==============================] - 45s 57ms/step - loss: 0.6240 - accuracy: 0.7546\n",
            "Epoch 4/15\n",
            "779/779 [==============================] - 45s 58ms/step - loss: 0.5499 - accuracy: 0.7859\n",
            "Epoch 5/15\n",
            "779/779 [==============================] - 46s 59ms/step - loss: 0.4973 - accuracy: 0.8085\n",
            "Epoch 6/15\n",
            "779/779 [==============================] - 45s 58ms/step - loss: 0.4569 - accuracy: 0.8256\n",
            "Epoch 7/15\n",
            "779/779 [==============================] - 45s 57ms/step - loss: 0.4258 - accuracy: 0.8377\n",
            "Epoch 8/15\n",
            "779/779 [==============================] - 45s 57ms/step - loss: 0.4000 - accuracy: 0.8486\n",
            "Epoch 9/15\n",
            "779/779 [==============================] - 45s 57ms/step - loss: 0.3766 - accuracy: 0.8574\n",
            "Epoch 10/15\n",
            "779/779 [==============================] - 45s 57ms/step - loss: 0.3582 - accuracy: 0.8653\n",
            "Epoch 11/15\n",
            "779/779 [==============================] - 46s 59ms/step - loss: 0.3383 - accuracy: 0.8728\n",
            "Epoch 12/15\n",
            "779/779 [==============================] - 45s 57ms/step - loss: 0.3235 - accuracy: 0.8792\n",
            "Epoch 13/15\n",
            "779/779 [==============================] - 45s 57ms/step - loss: 0.3109 - accuracy: 0.8829\n",
            "Epoch 14/15\n",
            "779/779 [==============================] - 45s 58ms/step - loss: 0.2972 - accuracy: 0.8893\n",
            "Epoch 15/15\n",
            "779/779 [==============================] - 45s 57ms/step - loss: 0.2834 - accuracy: 0.8945\n"
          ]
        },
        {
          "output_type": "execute_result",
          "data": {
            "text/plain": [
              "<keras.callbacks.History at 0x7f0c1a36ac10>"
            ]
          },
          "metadata": {},
          "execution_count": 16
        }
      ],
      "source": [
        "opt2 = Adam(learning_rate=0.001)\n",
        "\n",
        "model2.compile(optimizer=opt2, loss='categorical_crossentropy', metrics=['accuracy'])\n",
        "model2.fit(x_rotated_arr, y_rotated_arr, batch_size=256, epochs=15)"
      ]
    },
    {
      "cell_type": "code",
      "execution_count": null,
      "metadata": {
        "id": "ZxPMI6voz1hQ"
      },
      "outputs": [],
      "source": [
        "from keras.models import Model\n",
        "\n",
        "new_layer = Dense(10 ,activation='softmax')(model2.layers[-2].output)\n",
        "model2_2 = keras.Model(model2.inputs, new_layer)"
      ]
    },
    {
      "cell_type": "code",
      "execution_count": null,
      "metadata": {
        "colab": {
          "base_uri": "https://localhost:8080/"
        },
        "id": "nchPxtFG0tN4",
        "outputId": "8b0ccfb4-aeaf-4e2c-b57f-1a40bd83779a"
      },
      "outputs": [
        {
          "output_type": "stream",
          "name": "stdout",
          "text": [
            "Model: \"model_1\"\n",
            "_________________________________________________________________\n",
            " Layer (type)                Output Shape              Param #   \n",
            "=================================================================\n",
            " conv2d_6_input (InputLayer)  [(None, 32, 32, 3)]      0         \n",
            "                                                                 \n",
            " conv2d_6 (Conv2D)           (None, 32, 32, 32)        896       \n",
            "                                                                 \n",
            " batch_normalization_6 (Batc  (None, 32, 32, 32)       128       \n",
            " hNormalization)                                                 \n",
            "                                                                 \n",
            " conv2d_7 (Conv2D)           (None, 32, 32, 32)        9248      \n",
            "                                                                 \n",
            " batch_normalization_7 (Batc  (None, 32, 32, 32)       128       \n",
            " hNormalization)                                                 \n",
            "                                                                 \n",
            " max_pooling2d_3 (MaxPooling  (None, 16, 16, 32)       0         \n",
            " 2D)                                                             \n",
            "                                                                 \n",
            " dropout_3 (Dropout)         (None, 16, 16, 32)        0         \n",
            "                                                                 \n",
            " conv2d_8 (Conv2D)           (None, 16, 16, 64)        18496     \n",
            "                                                                 \n",
            " batch_normalization_8 (Batc  (None, 16, 16, 64)       256       \n",
            " hNormalization)                                                 \n",
            "                                                                 \n",
            " conv2d_9 (Conv2D)           (None, 16, 16, 64)        36928     \n",
            "                                                                 \n",
            " batch_normalization_9 (Batc  (None, 16, 16, 64)       256       \n",
            " hNormalization)                                                 \n",
            "                                                                 \n",
            " max_pooling2d_4 (MaxPooling  (None, 8, 8, 64)         0         \n",
            " 2D)                                                             \n",
            "                                                                 \n",
            " dropout_4 (Dropout)         (None, 8, 8, 64)          0         \n",
            "                                                                 \n",
            " conv2d_10 (Conv2D)          (None, 8, 8, 128)         73856     \n",
            "                                                                 \n",
            " batch_normalization_10 (Bat  (None, 8, 8, 128)        512       \n",
            " chNormalization)                                                \n",
            "                                                                 \n",
            " conv2d_11 (Conv2D)          (None, 8, 8, 128)         147584    \n",
            "                                                                 \n",
            " batch_normalization_11 (Bat  (None, 8, 8, 128)        512       \n",
            " chNormalization)                                                \n",
            "                                                                 \n",
            " max_pooling2d_5 (MaxPooling  (None, 4, 4, 128)        0         \n",
            " 2D)                                                             \n",
            "                                                                 \n",
            " dropout_5 (Dropout)         (None, 4, 4, 128)         0         \n",
            "                                                                 \n",
            " flatten_1 (Flatten)         (None, 2048)              0         \n",
            "                                                                 \n",
            " dense_2 (Dense)             (None, 64)                131136    \n",
            "                                                                 \n",
            " dense_5 (Dense)             (None, 10)                650       \n",
            "                                                                 \n",
            "=================================================================\n",
            "Total params: 420,586\n",
            "Trainable params: 419,690\n",
            "Non-trainable params: 896\n",
            "_________________________________________________________________\n"
          ]
        }
      ],
      "source": [
        "model2_2.summary()"
      ]
    },
    {
      "cell_type": "code",
      "execution_count": null,
      "metadata": {
        "colab": {
          "base_uri": "https://localhost:8080/"
        },
        "id": "AW2vizd-080g",
        "outputId": "9a9a2012-d926-480a-ded7-77abf4437e02"
      },
      "outputs": [
        {
          "output_type": "stream",
          "name": "stdout",
          "text": [
            "Epoch 1/50\n",
            "4/4 [==============================] - 1s 26ms/step - loss: 14.3403 - accuracy: 0.1050\n",
            "Epoch 2/50\n",
            "4/4 [==============================] - 0s 28ms/step - loss: 5.9600 - accuracy: 0.2150\n",
            "Epoch 3/50\n",
            "4/4 [==============================] - 0s 27ms/step - loss: 2.0161 - accuracy: 0.4300\n",
            "Epoch 4/50\n",
            "4/4 [==============================] - 0s 27ms/step - loss: 1.3006 - accuracy: 0.5200\n",
            "Epoch 5/50\n",
            "4/4 [==============================] - 0s 27ms/step - loss: 1.0979 - accuracy: 0.6200\n",
            "Epoch 6/50\n",
            "4/4 [==============================] - 0s 27ms/step - loss: 0.9804 - accuracy: 0.6750\n",
            "Epoch 7/50\n",
            "4/4 [==============================] - 0s 27ms/step - loss: 0.7257 - accuracy: 0.7700\n",
            "Epoch 8/50\n",
            "4/4 [==============================] - 0s 28ms/step - loss: 0.6137 - accuracy: 0.8100\n",
            "Epoch 9/50\n",
            "4/4 [==============================] - 0s 27ms/step - loss: 0.4860 - accuracy: 0.8300\n",
            "Epoch 10/50\n",
            "4/4 [==============================] - 0s 27ms/step - loss: 0.3491 - accuracy: 0.8900\n",
            "Epoch 11/50\n",
            "4/4 [==============================] - 0s 27ms/step - loss: 0.3106 - accuracy: 0.8950\n",
            "Epoch 12/50\n",
            "4/4 [==============================] - 0s 27ms/step - loss: 0.2480 - accuracy: 0.9200\n",
            "Epoch 13/50\n",
            "4/4 [==============================] - 0s 27ms/step - loss: 0.2178 - accuracy: 0.9300\n",
            "Epoch 14/50\n",
            "4/4 [==============================] - 0s 28ms/step - loss: 0.1647 - accuracy: 0.9500\n",
            "Epoch 15/50\n",
            "4/4 [==============================] - 0s 27ms/step - loss: 0.1897 - accuracy: 0.9200\n",
            "Epoch 16/50\n",
            "4/4 [==============================] - 0s 26ms/step - loss: 0.1402 - accuracy: 0.9600\n",
            "Epoch 17/50\n",
            "4/4 [==============================] - 0s 30ms/step - loss: 0.1278 - accuracy: 0.9700\n",
            "Epoch 18/50\n",
            "4/4 [==============================] - 0s 29ms/step - loss: 0.1512 - accuracy: 0.9550\n",
            "Epoch 19/50\n",
            "4/4 [==============================] - 0s 27ms/step - loss: 0.1121 - accuracy: 0.9700\n",
            "Epoch 20/50\n",
            "4/4 [==============================] - 0s 27ms/step - loss: 0.1082 - accuracy: 0.9700\n",
            "Epoch 21/50\n",
            "4/4 [==============================] - 0s 28ms/step - loss: 0.0980 - accuracy: 0.9700\n",
            "Epoch 22/50\n",
            "4/4 [==============================] - 0s 27ms/step - loss: 0.0624 - accuracy: 0.9800\n",
            "Epoch 23/50\n",
            "4/4 [==============================] - 0s 27ms/step - loss: 0.0603 - accuracy: 0.9800\n",
            "Epoch 24/50\n",
            "4/4 [==============================] - 0s 26ms/step - loss: 0.0621 - accuracy: 0.9750\n",
            "Epoch 25/50\n",
            "4/4 [==============================] - 0s 28ms/step - loss: 0.0971 - accuracy: 0.9750\n",
            "Epoch 26/50\n",
            "4/4 [==============================] - 0s 27ms/step - loss: 0.0389 - accuracy: 0.9950\n",
            "Epoch 27/50\n",
            "4/4 [==============================] - 0s 27ms/step - loss: 0.0708 - accuracy: 0.9850\n",
            "Epoch 28/50\n",
            "4/4 [==============================] - 0s 28ms/step - loss: 0.0822 - accuracy: 0.9750\n",
            "Epoch 29/50\n",
            "4/4 [==============================] - 0s 27ms/step - loss: 0.0357 - accuracy: 0.9950\n",
            "Epoch 30/50\n",
            "4/4 [==============================] - 0s 27ms/step - loss: 0.0481 - accuracy: 0.9850\n",
            "Epoch 31/50\n",
            "4/4 [==============================] - 0s 27ms/step - loss: 0.0636 - accuracy: 0.9850\n",
            "Epoch 32/50\n",
            "4/4 [==============================] - 0s 28ms/step - loss: 0.0413 - accuracy: 0.9900\n",
            "Epoch 33/50\n",
            "4/4 [==============================] - 0s 23ms/step - loss: 0.0405 - accuracy: 0.9900\n",
            "Epoch 34/50\n",
            "4/4 [==============================] - 0s 28ms/step - loss: 0.0350 - accuracy: 0.9900\n",
            "Epoch 35/50\n",
            "4/4 [==============================] - 0s 27ms/step - loss: 0.0533 - accuracy: 0.9900\n",
            "Epoch 36/50\n",
            "4/4 [==============================] - 0s 27ms/step - loss: 0.0298 - accuracy: 0.9950\n",
            "Epoch 37/50\n",
            "4/4 [==============================] - 0s 27ms/step - loss: 0.0305 - accuracy: 0.9850\n",
            "Epoch 38/50\n",
            "4/4 [==============================] - 0s 31ms/step - loss: 0.0197 - accuracy: 0.9950\n",
            "Epoch 39/50\n",
            "4/4 [==============================] - 0s 27ms/step - loss: 0.0218 - accuracy: 0.9900\n",
            "Epoch 40/50\n",
            "4/4 [==============================] - 0s 27ms/step - loss: 0.0160 - accuracy: 0.9950\n",
            "Epoch 41/50\n",
            "4/4 [==============================] - 0s 27ms/step - loss: 0.0163 - accuracy: 0.9950\n",
            "Epoch 42/50\n",
            "4/4 [==============================] - 0s 27ms/step - loss: 0.0122 - accuracy: 1.0000\n",
            "Epoch 43/50\n",
            "4/4 [==============================] - 0s 27ms/step - loss: 0.0162 - accuracy: 1.0000\n",
            "Epoch 44/50\n",
            "4/4 [==============================] - 0s 26ms/step - loss: 0.0133 - accuracy: 0.9950\n",
            "Epoch 45/50\n",
            "4/4 [==============================] - 0s 27ms/step - loss: 0.0107 - accuracy: 0.9950\n",
            "Epoch 46/50\n",
            "4/4 [==============================] - 0s 27ms/step - loss: 0.0114 - accuracy: 1.0000\n",
            "Epoch 47/50\n",
            "4/4 [==============================] - 0s 29ms/step - loss: 0.0071 - accuracy: 1.0000\n",
            "Epoch 48/50\n",
            "4/4 [==============================] - 0s 27ms/step - loss: 0.0132 - accuracy: 0.9950\n",
            "Epoch 49/50\n",
            "4/4 [==============================] - 0s 27ms/step - loss: 0.0103 - accuracy: 0.9950\n",
            "Epoch 50/50\n",
            "4/4 [==============================] - 0s 27ms/step - loss: 0.0074 - accuracy: 1.0000\n"
          ]
        },
        {
          "output_type": "execute_result",
          "data": {
            "text/plain": [
              "<keras.callbacks.History at 0x7f0c1a359f50>"
            ]
          },
          "metadata": {},
          "execution_count": 23
        }
      ],
      "source": [
        "model2_2.compile(optimizer=opt2, loss='categorical_crossentropy', metrics=['accuracy'])\n",
        "model2_2.fit(x_train_normalized, y_train_onehot, batch_size=64, epochs=50)"
      ]
    },
    {
      "cell_type": "code",
      "execution_count": null,
      "metadata": {
        "colab": {
          "base_uri": "https://localhost:8080/"
        },
        "id": "q5nRILhICrjx",
        "outputId": "fc44f0c5-54f6-4bc8-a43d-c0e8d027aed7"
      },
      "outputs": [
        {
          "output_type": "stream",
          "name": "stdout",
          "text": [
            "(800, 10)\n",
            "(199200, 10)\n",
            "(200000, 32, 32, 3)\n",
            "(200000, 10)\n",
            "(200000, 4)\n"
          ]
        }
      ],
      "source": [
        "from sklearn.utils import shuffle\n",
        "\n",
        "# 200 images have class label, make rotations data too\n",
        "x_labeled_rotated, y_labeled_rotated = ssl_data(x_train_normalized)\n",
        "y_train_repeat = np.repeat(y_train, 4)\n",
        "y_train_repeat_onehot = to_categorical(y_train_repeat, num_classes=10)\n",
        "print(y_train_repeat_onehot.shape)\n",
        "\n",
        "# make class label (tensor of zeros) for unlabeled data\n",
        "y_unlabeld = np.zeros((x_unlabeld.shape[0]*4, 10))\n",
        "print(y_unlabeld.shape)\n",
        "\n",
        "# concatenate data\n",
        "x_train_all = np.concatenate((x_labeled_rotated, x_rotated_arr))\n",
        "y_train_class = np.concatenate((y_train_repeat_onehot, y_unlabeld))\n",
        "y_train_rotation = np.concatenate((y_labeled_rotated, y_rotated_arr))\n",
        "\n",
        "\n",
        "x_train_all, y_train_class, y_train_rotation = shuffle(x_train_all, y_train_class, y_train_rotation, random_state=20)\n",
        "print(x_train_all.shape)\n",
        "print(y_train_class.shape)\n",
        "print(y_train_rotation.shape)"
      ]
    },
    {
      "cell_type": "code",
      "execution_count": null,
      "metadata": {
        "colab": {
          "base_uri": "https://localhost:8080/"
        },
        "id": "bTiH9D_O-f7E",
        "outputId": "31686aff-18de-4a85-83fe-3d1e93be3299"
      },
      "outputs": [
        {
          "output_type": "stream",
          "name": "stdout",
          "text": [
            "Model: \"model\"\n",
            "__________________________________________________________________________________________________\n",
            " Layer (type)                   Output Shape         Param #     Connected to                     \n",
            "==================================================================================================\n",
            " conv2d_6_input (InputLayer)    [(None, 32, 32, 3)]  0           []                               \n",
            "                                                                                                  \n",
            " conv2d_6 (Conv2D)              (None, 32, 32, 32)   896         ['conv2d_6_input[0][0]']         \n",
            "                                                                                                  \n",
            " batch_normalization_6 (BatchNo  (None, 32, 32, 32)  128         ['conv2d_6[0][0]']               \n",
            " rmalization)                                                                                     \n",
            "                                                                                                  \n",
            " conv2d_7 (Conv2D)              (None, 32, 32, 32)   9248        ['batch_normalization_6[0][0]']  \n",
            "                                                                                                  \n",
            " batch_normalization_7 (BatchNo  (None, 32, 32, 32)  128         ['conv2d_7[0][0]']               \n",
            " rmalization)                                                                                     \n",
            "                                                                                                  \n",
            " max_pooling2d_3 (MaxPooling2D)  (None, 16, 16, 32)  0           ['batch_normalization_7[0][0]']  \n",
            "                                                                                                  \n",
            " dropout_3 (Dropout)            (None, 16, 16, 32)   0           ['max_pooling2d_3[0][0]']        \n",
            "                                                                                                  \n",
            " conv2d_8 (Conv2D)              (None, 16, 16, 64)   18496       ['dropout_3[0][0]']              \n",
            "                                                                                                  \n",
            " batch_normalization_8 (BatchNo  (None, 16, 16, 64)  256         ['conv2d_8[0][0]']               \n",
            " rmalization)                                                                                     \n",
            "                                                                                                  \n",
            " conv2d_9 (Conv2D)              (None, 16, 16, 64)   36928       ['batch_normalization_8[0][0]']  \n",
            "                                                                                                  \n",
            " batch_normalization_9 (BatchNo  (None, 16, 16, 64)  256         ['conv2d_9[0][0]']               \n",
            " rmalization)                                                                                     \n",
            "                                                                                                  \n",
            " max_pooling2d_4 (MaxPooling2D)  (None, 8, 8, 64)    0           ['batch_normalization_9[0][0]']  \n",
            "                                                                                                  \n",
            " dropout_4 (Dropout)            (None, 8, 8, 64)     0           ['max_pooling2d_4[0][0]']        \n",
            "                                                                                                  \n",
            " conv2d_10 (Conv2D)             (None, 8, 8, 128)    73856       ['dropout_4[0][0]']              \n",
            "                                                                                                  \n",
            " batch_normalization_10 (BatchN  (None, 8, 8, 128)   512         ['conv2d_10[0][0]']              \n",
            " ormalization)                                                                                    \n",
            "                                                                                                  \n",
            " conv2d_11 (Conv2D)             (None, 8, 8, 128)    147584      ['batch_normalization_10[0][0]'] \n",
            "                                                                                                  \n",
            " batch_normalization_11 (BatchN  (None, 8, 8, 128)   512         ['conv2d_11[0][0]']              \n",
            " ormalization)                                                                                    \n",
            "                                                                                                  \n",
            " max_pooling2d_5 (MaxPooling2D)  (None, 4, 4, 128)   0           ['batch_normalization_11[0][0]'] \n",
            "                                                                                                  \n",
            " dropout_5 (Dropout)            (None, 4, 4, 128)    0           ['max_pooling2d_5[0][0]']        \n",
            "                                                                                                  \n",
            " flatten_1 (Flatten)            (None, 2048)         0           ['dropout_5[0][0]']              \n",
            "                                                                                                  \n",
            " dense_2 (Dense)                (None, 128)          262272      ['flatten_1[0][0]']              \n",
            "                                                                                                  \n",
            " class_num_output (Dense)       (None, 10)           1290        ['dense_2[0][0]']                \n",
            "                                                                                                  \n",
            " rotation_degree_output (Dense)  (None, 4)           516         ['dense_2[0][0]']                \n",
            "                                                                                                  \n",
            "==================================================================================================\n",
            "Total params: 552,878\n",
            "Trainable params: 551,982\n",
            "Non-trainable params: 896\n",
            "__________________________________________________________________________________________________\n"
          ]
        }
      ],
      "source": [
        "from keras.models import Model\n",
        "\n",
        "base_model = convolutional(0.2)\n",
        "f = Flatten()(base_model.layers[-1].output)\n",
        "dense = Dense(128)(f)\n",
        "class_number = Dense(10, name='class_num_output')(dense)\n",
        "\n",
        "rotation_degree = Dense(4, name='rotation_degree_output')(dense)\n",
        "\n",
        "model3 = Model(inputs=base_model.input,\n",
        "               outputs = [class_number, rotation_degree])\n",
        "\n",
        "\n",
        "model3.summary()"
      ]
    },
    {
      "cell_type": "code",
      "execution_count": null,
      "metadata": {
        "id": "Nz7Kd0G8KPIe"
      },
      "outputs": [],
      "source": [
        "model3.compile(optimizer=opt, \n",
        "               loss={\n",
        "                   'class_num_output': 'categorical_crossentropy', \n",
        "                   'rotation_degree_output': 'categorical_crossentropy'},\n",
        "               loss_weights={\n",
        "                   'class_num_output': 2., \n",
        "                   'rotation_degree_output': 10.},\n",
        "               metrics={\n",
        "                   'class_num_output': 'accuracy',\n",
        "                   'rotation_degree_output': 'accuracy'})"
      ]
    },
    {
      "cell_type": "code",
      "execution_count": null,
      "metadata": {
        "colab": {
          "base_uri": "https://localhost:8080/"
        },
        "id": "EhV-GYT6cRLB",
        "outputId": "4853efc0-7b1a-4f60-93b4-0653c2f49eb8"
      },
      "outputs": [
        {
          "output_type": "stream",
          "name": "stdout",
          "text": [
            "(10000,)\n",
            "(10000, 4)\n"
          ]
        }
      ],
      "source": [
        "r = 0\n",
        "y_test_rotation = np.repeat(r, y_test.shape[0])\n",
        "print(y_test_rotation.shape)\n",
        "y_test_rotation = to_categorical(y_test_rotation, num_classes=4)\n",
        "print(y_test_rotation.shape)"
      ]
    },
    {
      "cell_type": "code",
      "execution_count": null,
      "metadata": {
        "colab": {
          "base_uri": "https://localhost:8080/"
        },
        "id": "cUvcYN9DMxVT",
        "outputId": "fb3db254-110a-4cd8-ac40-27a98e2aa0c7"
      },
      "outputs": [
        {
          "output_type": "stream",
          "name": "stdout",
          "text": [
            "Epoch 1/10\n",
            "782/782 [==============================] - 50s 62ms/step - loss: 77.5096 - class_num_output_loss: 0.0424 - rotation_degree_output_loss: 7.7425 - class_num_output_accuracy: 0.0011 - rotation_degree_output_accuracy: 0.2500 - val_loss: 64.1823 - val_class_num_output_loss: 11.2827 - val_rotation_degree_output_loss: 4.1617 - val_class_num_output_accuracy: 0.1000 - val_rotation_degree_output_accuracy: 0.0000e+00\n",
            "Epoch 2/10\n",
            "782/782 [==============================] - 48s 61ms/step - loss: 78.8335 - class_num_output_loss: 0.0451 - rotation_degree_output_loss: 7.8743 - class_num_output_accuracy: 4.0000e-04 - rotation_degree_output_accuracy: 0.2482 - val_loss: 93.3496 - val_class_num_output_loss: 11.2794 - val_rotation_degree_output_loss: 7.0791 - val_class_num_output_accuracy: 0.1000 - val_rotation_degree_output_accuracy: 0.0000e+00\n",
            "Epoch 3/10\n",
            "782/782 [==============================] - 48s 61ms/step - loss: 81.5652 - class_num_output_loss: 0.0441 - rotation_degree_output_loss: 8.1477 - class_num_output_accuracy: 4.0000e-04 - rotation_degree_output_accuracy: 0.2383 - val_loss: 137.5615 - val_class_num_output_loss: 10.5380 - val_rotation_degree_output_loss: 11.6485 - val_class_num_output_accuracy: 0.1000 - val_rotation_degree_output_accuracy: 0.0000e+00\n",
            "Epoch 4/10\n",
            "782/782 [==============================] - 48s 62ms/step - loss: nan - class_num_output_loss: nan - rotation_degree_output_loss: nan - class_num_output_accuracy: 0.9683 - rotation_degree_output_accuracy: 0.2498 - val_loss: nan - val_class_num_output_loss: nan - val_rotation_degree_output_loss: nan - val_class_num_output_accuracy: 0.1000 - val_rotation_degree_output_accuracy: 1.0000\n",
            "Epoch 5/10\n",
            "782/782 [==============================] - 48s 62ms/step - loss: nan - class_num_output_loss: nan - rotation_degree_output_loss: nan - class_num_output_accuracy: 0.9964 - rotation_degree_output_accuracy: 0.2500 - val_loss: nan - val_class_num_output_loss: nan - val_rotation_degree_output_loss: nan - val_class_num_output_accuracy: 0.1000 - val_rotation_degree_output_accuracy: 1.0000\n",
            "Epoch 6/10\n",
            "782/782 [==============================] - 48s 61ms/step - loss: nan - class_num_output_loss: nan - rotation_degree_output_loss: nan - class_num_output_accuracy: 0.9964 - rotation_degree_output_accuracy: 0.2500 - val_loss: nan - val_class_num_output_loss: nan - val_rotation_degree_output_loss: nan - val_class_num_output_accuracy: 0.1000 - val_rotation_degree_output_accuracy: 1.0000\n",
            "Epoch 7/10\n",
            "782/782 [==============================] - 48s 61ms/step - loss: nan - class_num_output_loss: nan - rotation_degree_output_loss: nan - class_num_output_accuracy: 0.9964 - rotation_degree_output_accuracy: 0.2500 - val_loss: nan - val_class_num_output_loss: nan - val_rotation_degree_output_loss: nan - val_class_num_output_accuracy: 0.1000 - val_rotation_degree_output_accuracy: 1.0000\n",
            "Epoch 8/10\n",
            "782/782 [==============================] - 48s 61ms/step - loss: nan - class_num_output_loss: nan - rotation_degree_output_loss: nan - class_num_output_accuracy: 0.9964 - rotation_degree_output_accuracy: 0.2500 - val_loss: nan - val_class_num_output_loss: nan - val_rotation_degree_output_loss: nan - val_class_num_output_accuracy: 0.1000 - val_rotation_degree_output_accuracy: 1.0000\n",
            "Epoch 9/10\n",
            "782/782 [==============================] - 48s 61ms/step - loss: nan - class_num_output_loss: nan - rotation_degree_output_loss: nan - class_num_output_accuracy: 0.9964 - rotation_degree_output_accuracy: 0.2500 - val_loss: nan - val_class_num_output_loss: nan - val_rotation_degree_output_loss: nan - val_class_num_output_accuracy: 0.1000 - val_rotation_degree_output_accuracy: 1.0000\n",
            "Epoch 10/10\n",
            "782/782 [==============================] - 47s 61ms/step - loss: nan - class_num_output_loss: nan - rotation_degree_output_loss: nan - class_num_output_accuracy: 0.9964 - rotation_degree_output_accuracy: 0.2500 - val_loss: nan - val_class_num_output_loss: nan - val_rotation_degree_output_loss: nan - val_class_num_output_accuracy: 0.1000 - val_rotation_degree_output_accuracy: 1.0000\n"
          ]
        }
      ],
      "source": [
        "history3 = model3.fit(x_train_all, [y_train_class, y_train_rotation], validation_data=(x_test_normalized, [y_test_onehot, y_test_rotation]), batch_size=256, epochs=10)"
      ]
    },
    {
      "cell_type": "code",
      "source": [
        "model3.compile(optimizer=opt, \n",
        "               loss={\n",
        "                   'class_num_output': 'categorical_crossentropy', \n",
        "                   'rotation_degree_output': 'categorical_crossentropy'},\n",
        "               loss_weights={\n",
        "                   'class_num_output': 2., \n",
        "                   'rotation_degree_output': 5.},\n",
        "               metrics={\n",
        "                   'class_num_output': 'accuracy',\n",
        "                   'rotation_degree_output': 'accuracy'})"
      ],
      "metadata": {
        "id": "nMmHM_XKDRmr"
      },
      "execution_count": null,
      "outputs": []
    },
    {
      "cell_type": "code",
      "source": [
        "history3_2 = model3.fit(x_train_all, [y_train_class, y_train_rotation], validation_data=(x_test_normalized, [y_test_onehot, y_test_rotation]), batch_size=256, epochs=10)"
      ],
      "metadata": {
        "colab": {
          "base_uri": "https://localhost:8080/"
        },
        "id": "XEU2K_pUDbC6",
        "outputId": "a4961b48-5ec5-4b1f-b33e-fe742ac342ac"
      },
      "execution_count": null,
      "outputs": [
        {
          "output_type": "stream",
          "name": "stdout",
          "text": [
            "Epoch 1/10\n",
            "782/782 [==============================] - 61s 63ms/step - loss: 8.1395 - class_num_output_loss: 0.0327 - rotation_degree_output_loss: 1.6148 - class_num_output_accuracy: 0.0182 - rotation_degree_output_accuracy: 0.2387 - val_loss: 23.3255 - val_class_num_output_loss: 8.0250 - val_rotation_degree_output_loss: 1.4551 - val_class_num_output_accuracy: 0.0969 - val_rotation_degree_output_accuracy: 0.0443\n",
            "Epoch 2/10\n",
            "782/782 [==============================] - 49s 62ms/step - loss: 7.2024 - class_num_output_loss: 0.0322 - rotation_degree_output_loss: 1.4276 - class_num_output_accuracy: 0.3450 - rotation_degree_output_accuracy: 0.2550 - val_loss: 25.1403 - val_class_num_output_loss: 9.1235 - val_rotation_degree_output_loss: 1.3787 - val_class_num_output_accuracy: 0.1223 - val_rotation_degree_output_accuracy: 0.1527\n",
            "Epoch 3/10\n",
            "782/782 [==============================] - 48s 62ms/step - loss: 7.4030 - class_num_output_loss: 0.0338 - rotation_degree_output_loss: 1.4671 - class_num_output_accuracy: 0.6344 - rotation_degree_output_accuracy: 0.2236 - val_loss: 22.7757 - val_class_num_output_loss: 8.0795 - val_rotation_degree_output_loss: 1.3233 - val_class_num_output_accuracy: 0.1136 - val_rotation_degree_output_accuracy: 0.1992\n",
            "Epoch 4/10\n",
            "782/782 [==============================] - 49s 62ms/step - loss: 7.2337 - class_num_output_loss: 0.0305 - rotation_degree_output_loss: 1.4345 - class_num_output_accuracy: 0.0230 - rotation_degree_output_accuracy: 0.2453 - val_loss: 23.3828 - val_class_num_output_loss: 8.1583 - val_rotation_degree_output_loss: 1.4132 - val_class_num_output_accuracy: 0.1066 - val_rotation_degree_output_accuracy: 0.0032\n",
            "Epoch 5/10\n",
            "782/782 [==============================] - 48s 62ms/step - loss: 7.0868 - class_num_output_loss: 0.0299 - rotation_degree_output_loss: 1.4054 - class_num_output_accuracy: 0.0640 - rotation_degree_output_accuracy: 0.2439 - val_loss: 22.4813 - val_class_num_output_loss: 7.7901 - val_rotation_degree_output_loss: 1.3802 - val_class_num_output_accuracy: 0.0978 - val_rotation_degree_output_accuracy: 0.0798\n",
            "Epoch 6/10\n",
            "782/782 [==============================] - 48s 62ms/step - loss: 7.2846 - class_num_output_loss: 0.0321 - rotation_degree_output_loss: 1.4441 - class_num_output_accuracy: 0.0108 - rotation_degree_output_accuracy: 0.2430 - val_loss: 23.1699 - val_class_num_output_loss: 7.9788 - val_rotation_degree_output_loss: 1.4424 - val_class_num_output_accuracy: 0.0926 - val_rotation_degree_output_accuracy: 0.0247\n",
            "Epoch 7/10\n",
            "782/782 [==============================] - 48s 62ms/step - loss: 7.1982 - class_num_output_loss: 0.0314 - rotation_degree_output_loss: 1.4271 - class_num_output_accuracy: 0.0090 - rotation_degree_output_accuracy: 0.2236 - val_loss: 23.1231 - val_class_num_output_loss: 8.0795 - val_rotation_degree_output_loss: 1.3928 - val_class_num_output_accuracy: 0.0897 - val_rotation_degree_output_accuracy: 0.0305\n",
            "Epoch 8/10\n",
            "782/782 [==============================] - 48s 61ms/step - loss: 7.1248 - class_num_output_loss: 0.0321 - rotation_degree_output_loss: 1.4121 - class_num_output_accuracy: 0.0048 - rotation_degree_output_accuracy: 0.2524 - val_loss: 22.6550 - val_class_num_output_loss: 8.0796 - val_rotation_degree_output_loss: 1.2991 - val_class_num_output_accuracy: 0.1029 - val_rotation_degree_output_accuracy: 0.0349\n",
            "Epoch 9/10\n",
            "782/782 [==============================] - 48s 62ms/step - loss: 7.0325 - class_num_output_loss: 0.0324 - rotation_degree_output_loss: 1.3935 - class_num_output_accuracy: 4.2000e-04 - rotation_degree_output_accuracy: 0.2491 - val_loss: 23.0125 - val_class_num_output_loss: 8.0875 - val_rotation_degree_output_loss: 1.3675 - val_class_num_output_accuracy: 0.1028 - val_rotation_degree_output_accuracy: 0.0262\n",
            "Epoch 10/10\n",
            "782/782 [==============================] - 48s 62ms/step - loss: 7.0048 - class_num_output_loss: 0.0323 - rotation_degree_output_loss: 1.3880 - class_num_output_accuracy: 4.2500e-04 - rotation_degree_output_accuracy: 0.2505 - val_loss: 23.0972 - val_class_num_output_loss: 8.0861 - val_rotation_degree_output_loss: 1.3850 - val_class_num_output_accuracy: 0.1027 - val_rotation_degree_output_accuracy: 0.0253\n"
          ]
        }
      ]
    },
    {
      "cell_type": "code",
      "source": [
        "model3.compile(optimizer=opt, \n",
        "               loss={\n",
        "                   'class_num_output': 'categorical_crossentropy', \n",
        "                   'rotation_degree_output': 'categorical_crossentropy'},\n",
        "               loss_weights={\n",
        "                   'class_num_output': 2., \n",
        "                   'rotation_degree_output': 0.5},\n",
        "               metrics={\n",
        "                   'class_num_output': 'accuracy',\n",
        "                   'rotation_degree_output': 'accuracy'})"
      ],
      "metadata": {
        "id": "inuDexhub5kb"
      },
      "execution_count": null,
      "outputs": []
    },
    {
      "cell_type": "code",
      "source": [
        "history3_3 = model3.fit(x_train_all, [y_train_class, y_train_rotation], validation_data=(x_test_normalized, [y_test_onehot, y_test_rotation]), batch_size=256, epochs=10)"
      ],
      "metadata": {
        "colab": {
          "base_uri": "https://localhost:8080/"
        },
        "id": "IUQinzWycDtq",
        "outputId": "da3a72aa-50ad-447c-a375-171c8919f141"
      },
      "execution_count": null,
      "outputs": [
        {
          "output_type": "stream",
          "name": "stdout",
          "text": [
            "Epoch 1/10\n",
            "782/782 [==============================] - 75s 81ms/step - loss: 4.1085 - class_num_output_loss: 0.0339 - rotation_degree_output_loss: 8.0816 - class_num_output_accuracy: 5.1000e-04 - rotation_degree_output_accuracy: 0.2523 - val_loss: 23.0698 - val_class_num_output_loss: 7.7657 - val_rotation_degree_output_loss: 15.0769 - val_class_num_output_accuracy: 0.1014 - val_rotation_degree_output_accuracy: 0.0000e+00\n",
            "Epoch 2/10\n",
            "782/782 [==============================] - 61s 78ms/step - loss: 4.1117 - class_num_output_loss: 0.0338 - rotation_degree_output_loss: 8.0881 - class_num_output_accuracy: 5.5000e-04 - rotation_degree_output_accuracy: 0.2520 - val_loss: 23.0811 - val_class_num_output_loss: 7.7657 - val_rotation_degree_output_loss: 15.0994 - val_class_num_output_accuracy: 0.1009 - val_rotation_degree_output_accuracy: 0.0000e+00\n",
            "Epoch 3/10\n",
            "782/782 [==============================] - 61s 78ms/step - loss: 4.1089 - class_num_output_loss: 0.0342 - rotation_degree_output_loss: 8.0812 - class_num_output_accuracy: 5.3500e-04 - rotation_degree_output_accuracy: 0.2515 - val_loss: 23.0674 - val_class_num_output_loss: 7.7609 - val_rotation_degree_output_loss: 15.0914 - val_class_num_output_accuracy: 0.1008 - val_rotation_degree_output_accuracy: 0.0000e+00\n",
            "Epoch 4/10\n",
            "782/782 [==============================] - 61s 79ms/step - loss: 4.1169 - class_num_output_loss: 0.0335 - rotation_degree_output_loss: 8.0997 - class_num_output_accuracy: 5.1000e-04 - rotation_degree_output_accuracy: 0.2522 - val_loss: 23.0787 - val_class_num_output_loss: 7.7641 - val_rotation_degree_output_loss: 15.1010 - val_class_num_output_accuracy: 0.1008 - val_rotation_degree_output_accuracy: 0.0000e+00\n",
            "Epoch 5/10\n",
            "782/782 [==============================] - 61s 79ms/step - loss: 4.1182 - class_num_output_loss: 0.0332 - rotation_degree_output_loss: 8.1036 - class_num_output_accuracy: 5.3000e-04 - rotation_degree_output_accuracy: 0.2519 - val_loss: 23.0618 - val_class_num_output_loss: 7.7641 - val_rotation_degree_output_loss: 15.0672 - val_class_num_output_accuracy: 0.1010 - val_rotation_degree_output_accuracy: 0.0000e+00\n",
            "Epoch 6/10\n",
            "782/782 [==============================] - 62s 79ms/step - loss: 4.1147 - class_num_output_loss: 0.0333 - rotation_degree_output_loss: 8.0964 - class_num_output_accuracy: 5.1000e-04 - rotation_degree_output_accuracy: 0.2525 - val_loss: 23.0698 - val_class_num_output_loss: 7.7593 - val_rotation_degree_output_loss: 15.1027 - val_class_num_output_accuracy: 0.1009 - val_rotation_degree_output_accuracy: 0.0000e+00\n",
            "Epoch 7/10\n",
            "782/782 [==============================] - 62s 79ms/step - loss: 4.1197 - class_num_output_loss: 0.0344 - rotation_degree_output_loss: 8.1018 - class_num_output_accuracy: 5.3000e-04 - rotation_degree_output_accuracy: 0.2522 - val_loss: 23.0585 - val_class_num_output_loss: 7.7576 - val_rotation_degree_output_loss: 15.0865 - val_class_num_output_accuracy: 0.1010 - val_rotation_degree_output_accuracy: 0.0000e+00\n",
            "Epoch 8/10\n",
            "782/782 [==============================] - 61s 78ms/step - loss: 4.1125 - class_num_output_loss: 0.0330 - rotation_degree_output_loss: 8.0927 - class_num_output_accuracy: 5.1500e-04 - rotation_degree_output_accuracy: 0.2522 - val_loss: 23.0513 - val_class_num_output_loss: 7.7512 - val_rotation_degree_output_loss: 15.0978 - val_class_num_output_accuracy: 0.1009 - val_rotation_degree_output_accuracy: 0.0000e+00\n",
            "Epoch 9/10\n",
            "782/782 [==============================] - 61s 79ms/step - loss: 4.1132 - class_num_output_loss: 0.0332 - rotation_degree_output_loss: 8.0935 - class_num_output_accuracy: 5.2000e-04 - rotation_degree_output_accuracy: 0.2524 - val_loss: 23.0835 - val_class_num_output_loss: 7.7673 - val_rotation_degree_output_loss: 15.0978 - val_class_num_output_accuracy: 0.1007 - val_rotation_degree_output_accuracy: 0.0000e+00\n",
            "Epoch 10/10\n",
            "782/782 [==============================] - 62s 79ms/step - loss: 4.1136 - class_num_output_loss: 0.0328 - rotation_degree_output_loss: 8.0960 - class_num_output_accuracy: 5.1500e-04 - rotation_degree_output_accuracy: 0.2522 - val_loss: 23.0787 - val_class_num_output_loss: 7.7657 - val_rotation_degree_output_loss: 15.0946 - val_class_num_output_accuracy: 0.1011 - val_rotation_degree_output_accuracy: 0.0000e+00\n"
          ]
        }
      ]
    }
  ],
  "metadata": {
    "colab": {
      "collapsed_sections": [],
      "name": "DL-HW13-q3-q4.ipynb",
      "provenance": [],
      "toc_visible": true
    },
    "kernelspec": {
      "display_name": "Python 3",
      "name": "python3"
    }
  },
  "nbformat": 4,
  "nbformat_minor": 0
}