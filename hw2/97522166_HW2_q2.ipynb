{
  "nbformat": 4,
  "nbformat_minor": 0,
  "metadata": {
    "colab": {
      "name": "DL-HW2-q2.ipynb",
      "provenance": []
    },
    "kernelspec": {
      "name": "python3",
      "display_name": "Python 3"
    },
    "language_info": {
      "name": "python"
    }
  },
  "cells": [
    {
      "cell_type": "code",
      "metadata": {
        "id": "OlfFuCuCbUfe"
      },
      "source": [
        "import numpy as np\n",
        "import matplotlib as plt\n",
        "from sklearn import linear_model\n"
      ],
      "execution_count": 25,
      "outputs": []
    },
    {
      "cell_type": "code",
      "metadata": {
        "colab": {
          "base_uri": "https://localhost:8080/"
        },
        "id": "cRXrPUQIbq5_",
        "outputId": "92607c25-2046-467a-e197-c397bad0e78a"
      },
      "source": [
        "x = np.array([2.3, 1.4, 2.6, 3.1, 1.8, 2.8, 5.4, 6.3, 5.8, 6.7, 4.9, 45.2])\n",
        "y = np.array([0, 0, 0, 0, 0, 0, 1, 1, 1, 1, 1, 1])\n",
        "\n",
        "n_samples = 12\n",
        "x = x.reshape(n_samples, 1)\n",
        "y = y.ravel()\n",
        "print(\"shape of x\", x.shape)\n",
        "print(\"shape of y\", y.shape)"
      ],
      "execution_count": 16,
      "outputs": [
        {
          "output_type": "stream",
          "name": "stdout",
          "text": [
            "shape of x (12, 1)\n",
            "shape of y (12,)\n"
          ]
        }
      ]
    },
    {
      "cell_type": "code",
      "metadata": {
        "colab": {
          "base_uri": "https://localhost:8080/"
        },
        "id": "yagGeba8hYYP",
        "outputId": "be5c8992-5252-4dd3-b158-779fa041cb10"
      },
      "source": [
        "linear = linear_model.LinearRegression()\n",
        "linear.fit(x, y)\n",
        "W = linear.coef_\n",
        "b = linear.intercept_\n",
        "print(\"trained W with linear regression\", W)\n",
        "print(\"trained bias with linear regression\", b)"
      ],
      "execution_count": 32,
      "outputs": [
        {
          "output_type": "stream",
          "name": "stdout",
          "text": [
            "trained W with linear regression [0.01885095]\n",
            "trained bias with linear regression 0.36128845022604983\n"
          ]
        }
      ]
    },
    {
      "cell_type": "code",
      "metadata": {
        "colab": {
          "base_uri": "https://localhost:8080/",
          "height": 324
        },
        "id": "RQT6q0jtgQQG",
        "outputId": "fd02b19f-032f-4ca5-e8ed-0881b0897e92"
      },
      "source": [
        "plt.pyplot.figure(1, figsize=(10, 5))\n",
        "xx = np.linspace(0, 50)\n",
        "yy = xx * W + b\n",
        "plt.pyplot.plot(xx, yy, 'g')\n",
        "\n",
        "plt.pyplot.scatter(x, y)\n",
        "plt.pyplot.xlim(0, 50)\n",
        "plt.pyplot.ylim(-0.5, 1.5)\n",
        "plt.pyplot.grid()\n",
        "plt.pyplot.show()"
      ],
      "execution_count": 29,
      "outputs": [
        {
          "output_type": "display_data",
          "data": {
            "image/png": "[encoded data removed]",
            "text/plain": [
              "<Figure size 720x360 with 1 Axes>"
            ]
          },
          "metadata": {
            "needs_background": "light"
          }
        }
      ]
    },
    {
      "cell_type": "code",
      "metadata": {
        "colab": {
          "base_uri": "https://localhost:8080/"
        },
        "id": "FLFKg_KEhdRk",
        "outputId": "4aeda985-4541-40ca-f61b-0bf16c055a7c"
      },
      "source": [
        "logistic = linear_model.LogisticRegression()\n",
        "logistic.fit(x, y)\n",
        "W_log = logistic.coef_\n",
        "b_log = logistic.intercept_\n",
        "print(\"trained W with logistic regression\", W_log)\n",
        "print(\"trained biad with logistic regression\", b_log)"
      ],
      "execution_count": 31,
      "outputs": [
        {
          "output_type": "stream",
          "name": "stdout",
          "text": [
            "trained W with logistic regression [[1.43516077]]\n",
            "trained biad with logistic regression [-5.9247354]\n"
          ]
        }
      ]
    },
    {
      "cell_type": "code",
      "metadata": {
        "colab": {
          "base_uri": "https://localhost:8080/",
          "height": 324
        },
        "id": "8q54QLBDix8_",
        "outputId": "aab4c0cd-75be-4edd-bf0e-00af4d7b8372"
      },
      "source": [
        "def sigmoid(x):\n",
        "  return 1 / (1 + np.exp(-1 * x))\n",
        "\n",
        "plt.pyplot.figure(1, figsize=(10, 5))\n",
        "xx = np.linspace(0, 50)\n",
        "yy = sigmoid(xx * W_log[0][0] + b_log[0])\n",
        "plt.pyplot.plot(xx, yy, 'g')\n",
        "\n",
        "plt.pyplot.scatter(x, y)\n",
        "plt.pyplot.xlim(0, 50)\n",
        "plt.pyplot.ylim(-0.5, 1.5)\n",
        "plt.pyplot.grid()\n",
        "plt.pyplot.show()"
      ],
      "execution_count": 30,
      "outputs": [
        {
          "output_type": "display_data",
          "data": {
            "image/png": "[encoded data removed]",
            "text/plain": [
              "<Figure size 720x360 with 1 Axes>"
            ]
          },
          "metadata": {
            "needs_background": "light"
          }
        }
      ]
    }
  ]
}