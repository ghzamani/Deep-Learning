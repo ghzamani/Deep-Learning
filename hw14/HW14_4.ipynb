{
  "nbformat": 4,
  "nbformat_minor": 0,
  "metadata": {
    "colab": {
      "name": "HW14_4.ipynb",
      "provenance": [],
      "collapsed_sections": []
    },
    "kernelspec": {
      "name": "python3",
      "display_name": "Python 3"
    },
    "language_info": {
      "name": "python"
    }
  },
  "cells": [
    {
      "cell_type": "markdown",
      "source": [
        "# Import"
      ],
      "metadata": {
        "id": "g7m6H3X8aKf4"
      }
    },
    {
      "cell_type": "code",
      "execution_count": null,
      "metadata": {
        "colab": {
          "base_uri": "https://localhost:8080/"
        },
        "id": "vMIi74DwRiq1",
        "outputId": "0a030bbb-a0cd-4325-874d-fdac1ada2d97"
      },
      "outputs": [
        {
          "output_type": "stream",
          "name": "stdout",
          "text": [
            "\u001b[?25l\r\u001b[K     |███▍                            | 10 kB 19.2 MB/s eta 0:00:01\r\u001b[K     |██████▊                         | 20 kB 11.8 MB/s eta 0:00:01\r\u001b[K     |██████████                      | 30 kB 9.5 MB/s eta 0:00:01\r\u001b[K     |█████████████▍                  | 40 kB 8.6 MB/s eta 0:00:01\r\u001b[K     |████████████████▊               | 51 kB 5.6 MB/s eta 0:00:01\r\u001b[K     |████████████████████            | 61 kB 5.6 MB/s eta 0:00:01\r\u001b[K     |███████████████████████▍        | 71 kB 5.6 MB/s eta 0:00:01\r\u001b[K     |██████████████████████████▊     | 81 kB 6.2 MB/s eta 0:00:01\r\u001b[K     |██████████████████████████████  | 92 kB 6.2 MB/s eta 0:00:01\r\u001b[K     |████████████████████████████████| 98 kB 3.5 MB/s \n",
            "\u001b[?25h"
          ]
        }
      ],
      "source": [
        "import tensorflow as tf\n",
        "from tensorflow import keras\n",
        "!pip install -q -U keras-tuner\n",
        "import keras_tuner as kt"
      ]
    },
    {
      "cell_type": "markdown",
      "source": [
        "# Loading Data"
      ],
      "metadata": {
        "id": "2ZzTCtXcaOY4"
      }
    },
    {
      "cell_type": "code",
      "source": [
        "(img_train, label_train), (img_test, label_test) = keras.datasets.fashion_mnist.load_data()\n",
        "# Normalize pixel values between (img_train, label_train), (img_test, label_test) = keras.datasets.fashion_mnist.load_data()\n",
        "# Normalize pixel values between 0 and 1\n",
        "img_train = img_train.astype('float32') / 255.0\n",
        "img_test = img_test.astype('float32') / 255.00\n",
        "img_train = img_train.astype('float32') / 255.0\n",
        "img_test = img_test.astype('float32') / 255.0"
      ],
      "metadata": {
        "id": "V83iFn-7Rpql"
      },
      "execution_count": null,
      "outputs": []
    },
    {
      "cell_type": "markdown",
      "source": [
        "# Base Model"
      ],
      "metadata": {
        "id": "quMMYCOeeVEe"
      }
    },
    {
      "cell_type": "code",
      "source": [
        "def model_builder():\n",
        "  model = keras.Sequential()\n",
        "  model.add(keras.layers.Flatten(input_shape=(28, 28)))\n",
        "  model.add(keras.layers.Dense(units=512, activation='relu'))\n",
        "  model.add(keras.layers.Dense(10))\n",
        "  model.compile(optimizer=keras.optimizers.Adam(learning_rate=0.01),\n",
        "                loss=keras.losses.SparseCategoricalCrossentropy(from_logits=True),\n",
        "                metrics=['accuracy'])\n",
        "\n",
        "  return model"
      ],
      "metadata": {
        "id": "R8GriD14cOX8"
      },
      "execution_count": null,
      "outputs": []
    },
    {
      "cell_type": "code",
      "source": [
        "model = model_builder()\n",
        "history = model.fit(img_train, label_train, epochs=50, validation_split=0.2)\n"
      ],
      "metadata": {
        "colab": {
          "base_uri": "https://localhost:8080/"
        },
        "id": "_m0yhB1HcjW1",
        "outputId": "aacd83e3-c015-4cb1-ab13-0c953c0fc7a7"
      },
      "execution_count": null,
      "outputs": [
        {
          "output_type": "stream",
          "name": "stdout",
          "text": [
            "Epoch 1/50\n",
            "1500/1500 [==============================] - 8s 5ms/step - loss: 0.5757 - accuracy: 0.8018 - val_loss: 0.4972 - val_accuracy: 0.8244\n",
            "Epoch 2/50\n",
            "1500/1500 [==============================] - 7s 5ms/step - loss: 0.4489 - accuracy: 0.8410 - val_loss: 0.4291 - val_accuracy: 0.8552\n",
            "Epoch 3/50\n",
            "1500/1500 [==============================] - 6s 4ms/step - loss: 0.4139 - accuracy: 0.8515 - val_loss: 0.4100 - val_accuracy: 0.8563\n",
            "Epoch 4/50\n",
            "1500/1500 [==============================] - 7s 4ms/step - loss: 0.4204 - accuracy: 0.8500 - val_loss: 0.4940 - val_accuracy: 0.8365\n",
            "Epoch 5/50\n",
            "1500/1500 [==============================] - 7s 5ms/step - loss: 0.4005 - accuracy: 0.8569 - val_loss: 0.4443 - val_accuracy: 0.8446\n",
            "Epoch 6/50\n",
            "1500/1500 [==============================] - 7s 5ms/step - loss: 0.3888 - accuracy: 0.8602 - val_loss: 0.4200 - val_accuracy: 0.8577\n",
            "Epoch 7/50\n",
            "1500/1500 [==============================] - 7s 5ms/step - loss: 0.3800 - accuracy: 0.8655 - val_loss: 0.4463 - val_accuracy: 0.8553\n",
            "Epoch 8/50\n",
            "1500/1500 [==============================] - 7s 4ms/step - loss: 0.3740 - accuracy: 0.8665 - val_loss: 0.4140 - val_accuracy: 0.8559\n",
            "Epoch 9/50\n",
            "1500/1500 [==============================] - 7s 4ms/step - loss: 0.3724 - accuracy: 0.8675 - val_loss: 0.4644 - val_accuracy: 0.8405\n",
            "Epoch 10/50\n",
            "1500/1500 [==============================] - 7s 5ms/step - loss: 0.3671 - accuracy: 0.8687 - val_loss: 0.4441 - val_accuracy: 0.8530\n",
            "Epoch 11/50\n",
            "1500/1500 [==============================] - 7s 5ms/step - loss: 0.3573 - accuracy: 0.8715 - val_loss: 0.4452 - val_accuracy: 0.8577\n",
            "Epoch 12/50\n",
            "1500/1500 [==============================] - 7s 5ms/step - loss: 0.3602 - accuracy: 0.8720 - val_loss: 0.4570 - val_accuracy: 0.8557\n",
            "Epoch 13/50\n",
            "1500/1500 [==============================] - 7s 5ms/step - loss: 0.3521 - accuracy: 0.8744 - val_loss: 0.4316 - val_accuracy: 0.8543\n",
            "Epoch 14/50\n",
            "1500/1500 [==============================] - 7s 4ms/step - loss: 0.3543 - accuracy: 0.8745 - val_loss: 0.4527 - val_accuracy: 0.8547\n",
            "Epoch 15/50\n",
            "1500/1500 [==============================] - 7s 4ms/step - loss: 0.3564 - accuracy: 0.8727 - val_loss: 0.4760 - val_accuracy: 0.8453\n",
            "Epoch 16/50\n",
            "1500/1500 [==============================] - 7s 5ms/step - loss: 0.3458 - accuracy: 0.8760 - val_loss: 0.4512 - val_accuracy: 0.8586\n",
            "Epoch 17/50\n",
            "1500/1500 [==============================] - 7s 5ms/step - loss: 0.3501 - accuracy: 0.8731 - val_loss: 0.4550 - val_accuracy: 0.8597\n",
            "Epoch 18/50\n",
            "1500/1500 [==============================] - 7s 5ms/step - loss: 0.3463 - accuracy: 0.8770 - val_loss: 0.4958 - val_accuracy: 0.8465\n",
            "Epoch 19/50\n",
            "1500/1500 [==============================] - 7s 5ms/step - loss: 0.3412 - accuracy: 0.8783 - val_loss: 0.4833 - val_accuracy: 0.8540\n",
            "Epoch 20/50\n",
            "1500/1500 [==============================] - 7s 5ms/step - loss: 0.3414 - accuracy: 0.8766 - val_loss: 0.4562 - val_accuracy: 0.8554\n",
            "Epoch 21/50\n",
            "1500/1500 [==============================] - 7s 5ms/step - loss: 0.3385 - accuracy: 0.8791 - val_loss: 0.4537 - val_accuracy: 0.8582\n",
            "Epoch 22/50\n",
            "1500/1500 [==============================] - 7s 5ms/step - loss: 0.3373 - accuracy: 0.8793 - val_loss: 0.4813 - val_accuracy: 0.8455\n",
            "Epoch 23/50\n",
            "1500/1500 [==============================] - 7s 5ms/step - loss: 0.3364 - accuracy: 0.8791 - val_loss: 0.4848 - val_accuracy: 0.8460\n",
            "Epoch 24/50\n",
            "1500/1500 [==============================] - 7s 5ms/step - loss: 0.3367 - accuracy: 0.8783 - val_loss: 0.4935 - val_accuracy: 0.8487\n",
            "Epoch 25/50\n",
            "1500/1500 [==============================] - 7s 5ms/step - loss: 0.3351 - accuracy: 0.8791 - val_loss: 0.4601 - val_accuracy: 0.8615\n",
            "Epoch 26/50\n",
            "1500/1500 [==============================] - 8s 5ms/step - loss: 0.3332 - accuracy: 0.8809 - val_loss: 0.4949 - val_accuracy: 0.8537\n",
            "Epoch 27/50\n",
            "1500/1500 [==============================] - 7s 5ms/step - loss: 0.3307 - accuracy: 0.8807 - val_loss: 0.4832 - val_accuracy: 0.8547\n",
            "Epoch 28/50\n",
            "1500/1500 [==============================] - 7s 5ms/step - loss: 0.3280 - accuracy: 0.8820 - val_loss: 0.4836 - val_accuracy: 0.8509\n",
            "Epoch 29/50\n",
            "1500/1500 [==============================] - 7s 5ms/step - loss: 0.3305 - accuracy: 0.8836 - val_loss: 0.4706 - val_accuracy: 0.8561\n",
            "Epoch 30/50\n",
            "1500/1500 [==============================] - 7s 5ms/step - loss: 0.3229 - accuracy: 0.8833 - val_loss: 0.5378 - val_accuracy: 0.8250\n",
            "Epoch 31/50\n",
            "1500/1500 [==============================] - 7s 5ms/step - loss: 0.3251 - accuracy: 0.8839 - val_loss: 0.4924 - val_accuracy: 0.8538\n",
            "Epoch 32/50\n",
            "1500/1500 [==============================] - 7s 5ms/step - loss: 0.3258 - accuracy: 0.8835 - val_loss: 0.5041 - val_accuracy: 0.8522\n",
            "Epoch 33/50\n",
            "1500/1500 [==============================] - 7s 5ms/step - loss: 0.3179 - accuracy: 0.8854 - val_loss: 0.5955 - val_accuracy: 0.8320\n",
            "Epoch 34/50\n",
            "1500/1500 [==============================] - 7s 5ms/step - loss: 0.3217 - accuracy: 0.8847 - val_loss: 0.5244 - val_accuracy: 0.8397\n",
            "Epoch 35/50\n",
            "1500/1500 [==============================] - 7s 5ms/step - loss: 0.3232 - accuracy: 0.8860 - val_loss: 0.4828 - val_accuracy: 0.8550\n",
            "Epoch 36/50\n",
            "1500/1500 [==============================] - 7s 5ms/step - loss: 0.3165 - accuracy: 0.8871 - val_loss: 0.5855 - val_accuracy: 0.8456\n",
            "Epoch 37/50\n",
            "1500/1500 [==============================] - 7s 5ms/step - loss: 0.3201 - accuracy: 0.8862 - val_loss: 0.5855 - val_accuracy: 0.8555\n",
            "Epoch 38/50\n",
            "1500/1500 [==============================] - 7s 5ms/step - loss: 0.3195 - accuracy: 0.8863 - val_loss: 0.5082 - val_accuracy: 0.8616\n",
            "Epoch 39/50\n",
            "1500/1500 [==============================] - 7s 4ms/step - loss: 0.3170 - accuracy: 0.8849 - val_loss: 0.5191 - val_accuracy: 0.8597\n",
            "Epoch 40/50\n",
            "1500/1500 [==============================] - 7s 5ms/step - loss: 0.3149 - accuracy: 0.8872 - val_loss: 0.5511 - val_accuracy: 0.8451\n",
            "Epoch 41/50\n",
            "1500/1500 [==============================] - 7s 5ms/step - loss: 0.3189 - accuracy: 0.8873 - val_loss: 0.5444 - val_accuracy: 0.8480\n",
            "Epoch 42/50\n",
            "1500/1500 [==============================] - 7s 4ms/step - loss: 0.3132 - accuracy: 0.8874 - val_loss: 0.5425 - val_accuracy: 0.8514\n",
            "Epoch 43/50\n",
            "1500/1500 [==============================] - 7s 5ms/step - loss: 0.3102 - accuracy: 0.8903 - val_loss: 0.5393 - val_accuracy: 0.8501\n",
            "Epoch 44/50\n",
            "1500/1500 [==============================] - 7s 5ms/step - loss: 0.3204 - accuracy: 0.8882 - val_loss: 0.4906 - val_accuracy: 0.8526\n",
            "Epoch 45/50\n",
            "1500/1500 [==============================] - 7s 4ms/step - loss: 0.3079 - accuracy: 0.8898 - val_loss: 0.5425 - val_accuracy: 0.8568\n",
            "Epoch 46/50\n",
            "1500/1500 [==============================] - 7s 4ms/step - loss: 0.3175 - accuracy: 0.8867 - val_loss: 0.5247 - val_accuracy: 0.8485\n",
            "Epoch 47/50\n",
            "1500/1500 [==============================] - 7s 5ms/step - loss: 0.3116 - accuracy: 0.8898 - val_loss: 0.5064 - val_accuracy: 0.8568\n",
            "Epoch 48/50\n",
            "1500/1500 [==============================] - 7s 5ms/step - loss: 0.3198 - accuracy: 0.8887 - val_loss: 0.5033 - val_accuracy: 0.8586\n",
            "Epoch 49/50\n",
            "1500/1500 [==============================] - 7s 4ms/step - loss: 0.3100 - accuracy: 0.8898 - val_loss: 0.5367 - val_accuracy: 0.8503\n",
            "Epoch 50/50\n",
            "1500/1500 [==============================] - 7s 5ms/step - loss: 0.3050 - accuracy: 0.8904 - val_loss: 0.5954 - val_accuracy: 0.8584\n"
          ]
        }
      ]
    },
    {
      "cell_type": "markdown",
      "source": [
        "# Keras Tuner"
      ],
      "metadata": {
        "id": "-V06erkwaQdd"
      }
    },
    {
      "cell_type": "code",
      "source": [
        "def build_tune_model(hp):\n",
        "  model = keras.Sequential()\n",
        "  model.add(keras.layers.Flatten(input_shape=(28, 28)))\n",
        "  model.add(keras.layers.Dense(units=512, activation='relu'))\n",
        "  model.add(keras.layers.Dense(units=hp.Int('units', min_value=16, max_value=512, step=16), activation='relu')) # tune dense layer neurons count\n",
        "  model.add(keras.layers.Dense(10))\n",
        "\n",
        "  # tune learning rate\n",
        "  alpha = hp.Choice('learning_rate', values=[0.01, 0.005, 0.001, 0.0005, 0.0001])\n",
        "  model.compile(optimizer=keras.optimizers.Adam(learning_rate=alpha),\n",
        "                loss=keras.losses.SparseCategoricalCrossentropy(from_logits=True),\n",
        "                metrics=['accuracy'])\n",
        "\n",
        "  return model\n"
      ],
      "metadata": {
        "id": "EBLh4qJYRuF3"
      },
      "execution_count": null,
      "outputs": []
    },
    {
      "cell_type": "code",
      "source": [
        "tuner = kt.Hyperband(hypermodel=build_tune_model,\n",
        "                     objective=\"val_accuracy\",\n",
        "                     max_epochs=30,\n",
        "                     overwrite=True,\n",
        "                     directory=\"./result\",\n",
        "                     )\n",
        "\n",
        "tuner.search_space_summary()"
      ],
      "metadata": {
        "id": "ziTydeV6RxWJ",
        "colab": {
          "base_uri": "https://localhost:8080/"
        },
        "outputId": "c78fe616-8249-4237-e765-7df82bffd16d"
      },
      "execution_count": null,
      "outputs": [
        {
          "output_type": "stream",
          "name": "stdout",
          "text": [
            "Search space summary\n",
            "Default search space size: 2\n",
            "units (Int)\n",
            "{'default': None, 'conditions': [], 'min_value': 16, 'max_value': 512, 'step': 16, 'sampling': None}\n",
            "learning_rate (Choice)\n",
            "{'default': 0.01, 'conditions': [], 'values': [0.01, 0.005, 0.001, 0.0005, 0.0001], 'ordered': True}\n"
          ]
        }
      ]
    },
    {
      "cell_type": "code",
      "source": [
        "stop_early = tf.keras.callbacks.EarlyStopping(monitor='val_loss', patience=5)"
      ],
      "metadata": {
        "id": "i3q1ex2B03Ph"
      },
      "execution_count": null,
      "outputs": []
    },
    {
      "cell_type": "code",
      "source": [
        "tuner.search(img_train, label_train, batch_size=128, validation_split=0.2, callbacks=[stop_early])"
      ],
      "metadata": {
        "id": "tEpb2owlR6kr",
        "colab": {
          "base_uri": "https://localhost:8080/"
        },
        "outputId": "2cfb99a9-9f1a-4259-b443-0888be2e65a0"
      },
      "execution_count": null,
      "outputs": [
        {
          "output_type": "stream",
          "name": "stdout",
          "text": [
            "Trial 90 Complete [00h 00m 52s]\n",
            "val_accuracy: 0.8347499966621399\n",
            "\n",
            "Best val_accuracy So Far: 0.8939999938011169\n",
            "Total elapsed time: 00h 19m 55s\n",
            "INFO:tensorflow:Oracle triggered exit\n"
          ]
        }
      ]
    },
    {
      "cell_type": "code",
      "source": [
        "tuner.results_summary()"
      ],
      "metadata": {
        "colab": {
          "base_uri": "https://localhost:8080/"
        },
        "id": "5tI2CwH52-Kf",
        "outputId": "e5793968-e9be-4181-f728-041128184d00"
      },
      "execution_count": null,
      "outputs": [
        {
          "output_type": "stream",
          "name": "stdout",
          "text": [
            "Results summary\n",
            "Results in ./result/untitled_project\n",
            "Showing 10 best trials\n",
            "Objective(name='val_accuracy', direction='max')\n",
            "Trial summary\n",
            "Hyperparameters:\n",
            "units: 96\n",
            "learning_rate: 0.005\n",
            "tuner/epochs: 30\n",
            "tuner/initial_epoch: 10\n",
            "tuner/bracket: 2\n",
            "tuner/round: 2\n",
            "tuner/trial_id: 16c71f938447dd919fca8e314de56910\n",
            "Score: 0.8939999938011169\n",
            "Trial summary\n",
            "Hyperparameters:\n",
            "units: 416\n",
            "learning_rate: 0.01\n",
            "tuner/epochs: 30\n",
            "tuner/initial_epoch: 10\n",
            "tuner/bracket: 3\n",
            "tuner/round: 3\n",
            "tuner/trial_id: f322c773e74a813af9c4d375d6133be6\n",
            "Score: 0.893583357334137\n",
            "Trial summary\n",
            "Hyperparameters:\n",
            "units: 272\n",
            "learning_rate: 0.005\n",
            "tuner/epochs: 30\n",
            "tuner/initial_epoch: 10\n",
            "tuner/bracket: 1\n",
            "tuner/round: 1\n",
            "tuner/trial_id: ce6f905131bc7a9b22e288f741dd8c3d\n",
            "Score: 0.8932499885559082\n",
            "Trial summary\n",
            "Hyperparameters:\n",
            "units: 352\n",
            "learning_rate: 0.005\n",
            "tuner/epochs: 30\n",
            "tuner/initial_epoch: 10\n",
            "tuner/bracket: 2\n",
            "tuner/round: 2\n",
            "tuner/trial_id: 50b79776dc30e4581c5891da8f81e88f\n",
            "Score: 0.8929166793823242\n",
            "Trial summary\n",
            "Hyperparameters:\n",
            "units: 96\n",
            "learning_rate: 0.01\n",
            "tuner/epochs: 30\n",
            "tuner/initial_epoch: 0\n",
            "tuner/bracket: 0\n",
            "tuner/round: 0\n",
            "Score: 0.8924999833106995\n",
            "Trial summary\n",
            "Hyperparameters:\n",
            "units: 432\n",
            "learning_rate: 0.005\n",
            "tuner/epochs: 30\n",
            "tuner/initial_epoch: 10\n",
            "tuner/bracket: 1\n",
            "tuner/round: 1\n",
            "tuner/trial_id: 194918f7c635f4fb22196844f33efca2\n",
            "Score: 0.890999972820282\n",
            "Trial summary\n",
            "Hyperparameters:\n",
            "units: 336\n",
            "learning_rate: 0.005\n",
            "tuner/epochs: 30\n",
            "tuner/initial_epoch: 10\n",
            "tuner/bracket: 1\n",
            "tuner/round: 1\n",
            "tuner/trial_id: dd68cc03a4ade2f05ff95f496faa9368\n",
            "Score: 0.890500009059906\n",
            "Trial summary\n",
            "Hyperparameters:\n",
            "units: 448\n",
            "learning_rate: 0.01\n",
            "tuner/epochs: 30\n",
            "tuner/initial_epoch: 10\n",
            "tuner/bracket: 3\n",
            "tuner/round: 3\n",
            "tuner/trial_id: 1f2ce41e805e1a04efddb98fac06e590\n",
            "Score: 0.890250027179718\n",
            "Trial summary\n",
            "Hyperparameters:\n",
            "units: 432\n",
            "learning_rate: 0.005\n",
            "tuner/epochs: 10\n",
            "tuner/initial_epoch: 0\n",
            "tuner/bracket: 1\n",
            "tuner/round: 0\n",
            "Score: 0.8859166502952576\n",
            "Trial summary\n",
            "Hyperparameters:\n",
            "units: 192\n",
            "learning_rate: 0.001\n",
            "tuner/epochs: 30\n",
            "tuner/initial_epoch: 0\n",
            "tuner/bracket: 0\n",
            "tuner/round: 0\n",
            "Score: 0.8848333358764648\n"
          ]
        }
      ]
    },
    {
      "cell_type": "code",
      "source": [
        "models = tuner.get_best_models(num_models=2)\n",
        "best_model = models[0]\n",
        "best_model.summary()"
      ],
      "metadata": {
        "id": "9KGDpAc5SG8_",
        "colab": {
          "base_uri": "https://localhost:8080/"
        },
        "outputId": "65744560-5f86-4436-d1e8-29fd6f76520b"
      },
      "execution_count": null,
      "outputs": [
        {
          "output_type": "stream",
          "name": "stdout",
          "text": [
            "Model: \"sequential\"\n",
            "_________________________________________________________________\n",
            " Layer (type)                Output Shape              Param #   \n",
            "=================================================================\n",
            " flatten (Flatten)           (None, 784)               0         \n",
            "                                                                 \n",
            " dense (Dense)               (None, 512)               401920    \n",
            "                                                                 \n",
            " dense_1 (Dense)             (None, 96)                49248     \n",
            "                                                                 \n",
            " dense_2 (Dense)             (None, 10)                970       \n",
            "                                                                 \n",
            "=================================================================\n",
            "Total params: 452,138\n",
            "Trainable params: 452,138\n",
            "Non-trainable params: 0\n",
            "_________________________________________________________________\n",
            "WARNING:tensorflow:Unresolved object in checkpoint: (root).optimizer.iter\n",
            "WARNING:tensorflow:Unresolved object in checkpoint: (root).optimizer.beta_1\n",
            "WARNING:tensorflow:Unresolved object in checkpoint: (root).optimizer.beta_2\n",
            "WARNING:tensorflow:Unresolved object in checkpoint: (root).optimizer.decay\n",
            "WARNING:tensorflow:Unresolved object in checkpoint: (root).optimizer.learning_rate\n",
            "WARNING:tensorflow:A checkpoint was restored (e.g. tf.train.Checkpoint.restore or tf.keras.Model.load_weights) but not all checkpointed values were used. See above for specific issues. Use expect_partial() on the load status object, e.g. tf.train.Checkpoint.restore(...).expect_partial(), to silence these warnings, or use assert_consumed() to make the check explicit. See https://www.tensorflow.org/guide/checkpoint#loading_mechanics for details.\n",
            "WARNING:tensorflow:Unresolved object in checkpoint: (root).optimizer.iter\n",
            "WARNING:tensorflow:Unresolved object in checkpoint: (root).optimizer.beta_1\n",
            "WARNING:tensorflow:Unresolved object in checkpoint: (root).optimizer.beta_2\n",
            "WARNING:tensorflow:Unresolved object in checkpoint: (root).optimizer.decay\n",
            "WARNING:tensorflow:Unresolved object in checkpoint: (root).optimizer.learning_rate\n",
            "WARNING:tensorflow:A checkpoint was restored (e.g. tf.train.Checkpoint.restore or tf.keras.Model.load_weights) but not all checkpointed values were used. See above for specific issues. Use expect_partial() on the load status object, e.g. tf.train.Checkpoint.restore(...).expect_partial(), to silence these warnings, or use assert_consumed() to make the check explicit. See https://www.tensorflow.org/guide/checkpoint#loading_mechanics for details.\n"
          ]
        }
      ]
    }
  ]
}